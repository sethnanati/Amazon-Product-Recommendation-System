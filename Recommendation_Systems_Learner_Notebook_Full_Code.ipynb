{
  "cells": [
    {
      "cell_type": "markdown",
      "metadata": {
        "id": "view-in-github",
        "colab_type": "text"
      },
      "source": [
        "<a href=\"https://colab.research.google.com/github/sethnanati/Product-Recommendation-System/blob/main/Recommendation_Systems_Learner_Notebook_Full_Code.ipynb\" target=\"_parent\"><img src=\"https://colab.research.google.com/assets/colab-badge.svg\" alt=\"Open In Colab\"/></a>"
      ]
    },
    {
      "cell_type": "markdown",
      "metadata": {
        "id": "pXQzH0nC5JtP"
      },
      "source": [
        "# **Project: Amazon Product Recommendation System**\n",
        "\n",
        "# ****\n",
        "\n",
        "\n",
        "Welcome to the project on Recommendation Systems. We will work with the Amazon product reviews dataset for this project. The dataset contains ratings of different electronic products. It does not include information about the products or reviews to avoid bias while building the model.\n",
        "\n",
        "--------------\n",
        "## **Context:**\n",
        "--------------\n",
        "\n",
        "Today, information is growing exponentially with volume, velocity and variety throughout the globe. This has lead to information overload, and too many choices for the consumer of any business. It represents a real dilemma for these consumers and they often turn to denial. Recommender Systems are one of the best tools that help recommending products to consumers while they are browsing online. Providing personalized recommendations which is most relevant for the user is what's most likely to keep them engaged and help business.\n",
        "\n",
        "E-commerce websites like Amazon, Walmart, Target and Etsy use different recommendation models to provide personalized suggestions to different users. These companies spend millions of dollars to come up with algorithmic techniques that can provide personalized recommendations to their users.\n",
        "\n",
        "Amazon, for example, is well-known for its accurate selection of recommendations in its online site. Amazon's recommendation system is capable of intelligently analyzing and predicting customers' shopping preferences in order to offer them a list of recommended products. Amazon's recommendation algorithm is therefore a key element in using AI to improve the personalization of its website. For example, one of the baseline recommendation models that Amazon uses is item-to-item collaborative filtering, which scales to massive data sets and produces high-quality recommendations in real-time.\n",
        "\n",
        "----------------\n",
        "## **Objective:**\n",
        "----------------\n",
        "\n",
        "You are a Data Science Manager at Amazon, and have been given the task of building a recommendation system to recommend products to customers based on their previous ratings for other products. You have a collection of labeled data of Amazon reviews of products. The goal is to extract meaningful insights from the data and build a recommendation system that helps in recommending products to online consumers.\n",
        "\n",
        "-----------------------------\n",
        "## **Dataset:**\n",
        "-----------------------------\n",
        "\n",
        "The Amazon dataset contains the following attributes:\n",
        "\n",
        "- **userId:** Every user identified with a unique id\n",
        "- **productId:** Every product identified with a unique id\n",
        "- **Rating:** The rating of the corresponding product by the corresponding user\n",
        "- **timestamp:** Time of the rating. We **will not use this column** to solve the current problem"
      ]
    },
    {
      "cell_type": "markdown",
      "metadata": {
        "id": "nmdPxJ2Q7W7p"
      },
      "source": [
        "**Note:** The code has some user defined functions that will be usefull while making recommendations and measure model performance, you can use these functions or can create your own functions."
      ]
    },
    {
      "cell_type": "markdown",
      "metadata": {
        "id": "UoRfgjS2yekq"
      },
      "source": [
        "Sometimes, the installation of the surprise library, which is used to build recommendation systems, faces issues in Jupyter. To avoid any issues, it is advised to use **Google Colab** for this project.\n",
        "\n",
        "Let's start by mounting the Google drive on Colab."
      ]
    },
    {
      "cell_type": "code",
      "execution_count": null,
      "metadata": {
        "id": "GZ0YAszcT4zK",
        "colab": {
          "base_uri": "https://localhost:8080/"
        },
        "outputId": "9153848a-f417-4766-afa9-a04e20a1b1c3"
      },
      "outputs": [
        {
          "output_type": "stream",
          "name": "stdout",
          "text": [
            "Drive already mounted at /content/drive; to attempt to forcibly remount, call drive.mount(\"/content/drive\", force_remount=True).\n"
          ]
        }
      ],
      "source": [
        "from google.colab import drive\n",
        "drive.mount('/content/drive')"
      ]
    },
    {
      "cell_type": "markdown",
      "metadata": {
        "id": "0Ibk07-Cyekt"
      },
      "source": [
        "**Installing surprise library**"
      ]
    },
    {
      "cell_type": "code",
      "execution_count": null,
      "metadata": {
        "colab": {
          "base_uri": "https://localhost:8080/"
        },
        "id": "U97L08GTKyxP",
        "outputId": "7bf9a753-3e33-4516-9605-f9e9942c3857"
      },
      "outputs": [
        {
          "output_type": "stream",
          "name": "stdout",
          "text": [
            "Requirement already satisfied: surprise in /usr/local/lib/python3.10/dist-packages (0.1)\n",
            "Requirement already satisfied: scikit-surprise in /usr/local/lib/python3.10/dist-packages (from surprise) (1.1.3)\n",
            "Requirement already satisfied: joblib>=1.0.0 in /usr/local/lib/python3.10/dist-packages (from scikit-surprise->surprise) (1.3.2)\n",
            "Requirement already satisfied: numpy>=1.17.3 in /usr/local/lib/python3.10/dist-packages (from scikit-surprise->surprise) (1.23.5)\n",
            "Requirement already satisfied: scipy>=1.3.2 in /usr/local/lib/python3.10/dist-packages (from scikit-surprise->surprise) (1.10.1)\n"
          ]
        }
      ],
      "source": [
        "!pip install surprise"
      ]
    },
    {
      "cell_type": "markdown",
      "metadata": {
        "id": "7fIt4jcFIm76"
      },
      "source": [
        "## **Importing the necessary libraries and overview of the dataset**"
      ]
    },
    {
      "cell_type": "code",
      "execution_count": null,
      "metadata": {
        "id": "jzu2P-TT5JtP"
      },
      "outputs": [],
      "source": [
        "import warnings                                 # Used to ignore the warning given as output of the code\n",
        "warnings.filterwarnings('ignore')\n",
        "import numpy as np                              # Basic libraries of python for numeric and dataframe computations\n",
        "import pandas as pd\n",
        "import matplotlib.pyplot as plt                 # Basic library for data visualization\n",
        "import seaborn as sns                           # Slightly advanced library for data visualization\n",
        "from collections import defaultdict             # A dictionary output that does not raise a key error\n",
        "from sklearn.metrics import mean_squared_error  # A performance metrics in sklearn"
      ]
    },
    {
      "cell_type": "markdown",
      "metadata": {
        "id": "NrXYJAv95JtP"
      },
      "source": [
        "### **Loading the data**\n",
        "- Import the Dataset\n",
        "- Add column names ['user_id', 'prod_id', 'rating', 'timestamp']\n",
        "- Drop the column timestamp\n",
        "- Copy the data to another DataFrame called **df**"
      ]
    },
    {
      "cell_type": "code",
      "execution_count": null,
      "metadata": {
        "id": "JGb-Hk1B5JtP"
      },
      "outputs": [],
      "source": [
        "# Import the dataset\n",
        "df = pd.read_csv('/content/drive/MyDrive/Colab_Notebooks/Recommendation_Systems/ratings_Electronics.csv', header = None) # There are no headers in the data file\n",
        "df.columns = ['user_id', 'prod_id', 'rating', 'timestamp'] # Adding column names\n",
        "df = df.drop('timestamp', axis = 1) # Dropping timestamp\n",
        "df_copy = df.copy(deep = True) # Copying the data to another DataFrame"
      ]
    },
    {
      "cell_type": "markdown",
      "metadata": {
        "id": "OVQnSG5g_9uX"
      },
      "source": [
        "**As this dataset is very large and has 7,824,482 observations, it is not computationally possible to build a model using this. Moreover, many users have only rated a few products and also some products are rated by very few users. Hence, we can reduce the dataset by considering certain logical assumptions.**\n",
        "\n",
        "Here, we will be taking users who have given at least 50 ratings, and the products that have at least 5 ratings, as when we shop online we prefer to have some number of ratings of a product."
      ]
    },
    {
      "cell_type": "code",
      "execution_count": null,
      "metadata": {
        "id": "4yt9W7Q32EQQ"
      },
      "outputs": [],
      "source": [
        "# Get the column containing the users\n",
        "users = df.user_id\n",
        "\n",
        "# Create a dictionary from users to their number of ratings\n",
        "ratings_count = dict()\n",
        "\n",
        "for user in users:\n",
        "\n",
        "    # If we already have the user, just add 1 to their rating count\n",
        "    if user in ratings_count:\n",
        "        ratings_count[user] += 1\n",
        "\n",
        "    # Otherwise, set their rating count to 1\n",
        "    else:\n",
        "        ratings_count[user] = 1"
      ]
    },
    {
      "cell_type": "code",
      "execution_count": null,
      "metadata": {
        "id": "19XB60dq2EQR"
      },
      "outputs": [],
      "source": [
        "# We want our users to have at least 50 ratings to be considered\n",
        "RATINGS_CUTOFF = 50\n",
        "\n",
        "remove_users = []\n",
        "\n",
        "for user, num_ratings in ratings_count.items():\n",
        "    if num_ratings < RATINGS_CUTOFF:\n",
        "        remove_users.append(user)\n",
        "\n",
        "df = df.loc[ ~ df.user_id.isin(remove_users)]"
      ]
    },
    {
      "cell_type": "code",
      "execution_count": null,
      "metadata": {
        "id": "33UzK1D82EQS"
      },
      "outputs": [],
      "source": [
        "# Get the column containing the products\n",
        "prods = df.prod_id\n",
        "\n",
        "# Create a dictionary from products to their number of ratings\n",
        "ratings_count = dict()\n",
        "\n",
        "for prod in prods:\n",
        "\n",
        "    # If we already have the product, just add 1 to its rating count\n",
        "    if prod in ratings_count:\n",
        "        ratings_count[prod] += 1\n",
        "\n",
        "    # Otherwise, set their rating count to 1\n",
        "    else:\n",
        "        ratings_count[prod] = 1"
      ]
    },
    {
      "cell_type": "code",
      "execution_count": null,
      "metadata": {
        "id": "u6YE-lUp2EQT"
      },
      "outputs": [],
      "source": [
        "# We want our item to have at least 5 ratings to be considered\n",
        "RATINGS_CUTOFF = 5\n",
        "\n",
        "remove_users = []\n",
        "\n",
        "for user, num_ratings in ratings_count.items():\n",
        "    if num_ratings < RATINGS_CUTOFF:\n",
        "        remove_users.append(user)\n",
        "\n",
        "df_final = df.loc[~ df.prod_id.isin(remove_users)]"
      ]
    },
    {
      "cell_type": "code",
      "execution_count": null,
      "metadata": {
        "id": "aL1JZ00o5JtQ",
        "colab": {
          "base_uri": "https://localhost:8080/",
          "height": 206
        },
        "outputId": "fe0b023a-e918-4c1a-a54c-bd08a291d537"
      },
      "outputs": [
        {
          "output_type": "execute_result",
          "data": {
            "text/plain": [
              "             user_id     prod_id  rating\n",
              "1310  A3LDPF5FMB782Z  1400501466     5.0\n",
              "1322  A1A5KUIIIHFF4U  1400501466     1.0\n",
              "1335  A2XIOXRRYX0KZY  1400501466     3.0\n",
              "1451   AW3LX47IHPFRL  1400501466     5.0\n",
              "1456  A1E3OB6QMBKRYZ  1400501466     1.0"
            ],
            "text/html": [
              "\n",
              "  <div id=\"df-ed8b5505-1174-476a-ad5d-a9655b70f04b\" class=\"colab-df-container\">\n",
              "    <div>\n",
              "<style scoped>\n",
              "    .dataframe tbody tr th:only-of-type {\n",
              "        vertical-align: middle;\n",
              "    }\n",
              "\n",
              "    .dataframe tbody tr th {\n",
              "        vertical-align: top;\n",
              "    }\n",
              "\n",
              "    .dataframe thead th {\n",
              "        text-align: right;\n",
              "    }\n",
              "</style>\n",
              "<table border=\"1\" class=\"dataframe\">\n",
              "  <thead>\n",
              "    <tr style=\"text-align: right;\">\n",
              "      <th></th>\n",
              "      <th>user_id</th>\n",
              "      <th>prod_id</th>\n",
              "      <th>rating</th>\n",
              "    </tr>\n",
              "  </thead>\n",
              "  <tbody>\n",
              "    <tr>\n",
              "      <th>1310</th>\n",
              "      <td>A3LDPF5FMB782Z</td>\n",
              "      <td>1400501466</td>\n",
              "      <td>5.0</td>\n",
              "    </tr>\n",
              "    <tr>\n",
              "      <th>1322</th>\n",
              "      <td>A1A5KUIIIHFF4U</td>\n",
              "      <td>1400501466</td>\n",
              "      <td>1.0</td>\n",
              "    </tr>\n",
              "    <tr>\n",
              "      <th>1335</th>\n",
              "      <td>A2XIOXRRYX0KZY</td>\n",
              "      <td>1400501466</td>\n",
              "      <td>3.0</td>\n",
              "    </tr>\n",
              "    <tr>\n",
              "      <th>1451</th>\n",
              "      <td>AW3LX47IHPFRL</td>\n",
              "      <td>1400501466</td>\n",
              "      <td>5.0</td>\n",
              "    </tr>\n",
              "    <tr>\n",
              "      <th>1456</th>\n",
              "      <td>A1E3OB6QMBKRYZ</td>\n",
              "      <td>1400501466</td>\n",
              "      <td>1.0</td>\n",
              "    </tr>\n",
              "  </tbody>\n",
              "</table>\n",
              "</div>\n",
              "    <div class=\"colab-df-buttons\">\n",
              "\n",
              "  <div class=\"colab-df-container\">\n",
              "    <button class=\"colab-df-convert\" onclick=\"convertToInteractive('df-ed8b5505-1174-476a-ad5d-a9655b70f04b')\"\n",
              "            title=\"Convert this dataframe to an interactive table.\"\n",
              "            style=\"display:none;\">\n",
              "\n",
              "  <svg xmlns=\"http://www.w3.org/2000/svg\" height=\"24px\" viewBox=\"0 -960 960 960\">\n",
              "    <path d=\"M120-120v-720h720v720H120Zm60-500h600v-160H180v160Zm220 220h160v-160H400v160Zm0 220h160v-160H400v160ZM180-400h160v-160H180v160Zm440 0h160v-160H620v160ZM180-180h160v-160H180v160Zm440 0h160v-160H620v160Z\"/>\n",
              "  </svg>\n",
              "    </button>\n",
              "\n",
              "  <style>\n",
              "    .colab-df-container {\n",
              "      display:flex;\n",
              "      gap: 12px;\n",
              "    }\n",
              "\n",
              "    .colab-df-convert {\n",
              "      background-color: #E8F0FE;\n",
              "      border: none;\n",
              "      border-radius: 50%;\n",
              "      cursor: pointer;\n",
              "      display: none;\n",
              "      fill: #1967D2;\n",
              "      height: 32px;\n",
              "      padding: 0 0 0 0;\n",
              "      width: 32px;\n",
              "    }\n",
              "\n",
              "    .colab-df-convert:hover {\n",
              "      background-color: #E2EBFA;\n",
              "      box-shadow: 0px 1px 2px rgba(60, 64, 67, 0.3), 0px 1px 3px 1px rgba(60, 64, 67, 0.15);\n",
              "      fill: #174EA6;\n",
              "    }\n",
              "\n",
              "    .colab-df-buttons div {\n",
              "      margin-bottom: 4px;\n",
              "    }\n",
              "\n",
              "    [theme=dark] .colab-df-convert {\n",
              "      background-color: #3B4455;\n",
              "      fill: #D2E3FC;\n",
              "    }\n",
              "\n",
              "    [theme=dark] .colab-df-convert:hover {\n",
              "      background-color: #434B5C;\n",
              "      box-shadow: 0px 1px 3px 1px rgba(0, 0, 0, 0.15);\n",
              "      filter: drop-shadow(0px 1px 2px rgba(0, 0, 0, 0.3));\n",
              "      fill: #FFFFFF;\n",
              "    }\n",
              "  </style>\n",
              "\n",
              "    <script>\n",
              "      const buttonEl =\n",
              "        document.querySelector('#df-ed8b5505-1174-476a-ad5d-a9655b70f04b button.colab-df-convert');\n",
              "      buttonEl.style.display =\n",
              "        google.colab.kernel.accessAllowed ? 'block' : 'none';\n",
              "\n",
              "      async function convertToInteractive(key) {\n",
              "        const element = document.querySelector('#df-ed8b5505-1174-476a-ad5d-a9655b70f04b');\n",
              "        const dataTable =\n",
              "          await google.colab.kernel.invokeFunction('convertToInteractive',\n",
              "                                                    [key], {});\n",
              "        if (!dataTable) return;\n",
              "\n",
              "        const docLinkHtml = 'Like what you see? Visit the ' +\n",
              "          '<a target=\"_blank\" href=https://colab.research.google.com/notebooks/data_table.ipynb>data table notebook</a>'\n",
              "          + ' to learn more about interactive tables.';\n",
              "        element.innerHTML = '';\n",
              "        dataTable['output_type'] = 'display_data';\n",
              "        await google.colab.output.renderOutput(dataTable, element);\n",
              "        const docLink = document.createElement('div');\n",
              "        docLink.innerHTML = docLinkHtml;\n",
              "        element.appendChild(docLink);\n",
              "      }\n",
              "    </script>\n",
              "  </div>\n",
              "\n",
              "\n",
              "<div id=\"df-6abd6f27-19ef-4559-b182-13fa1a79f350\">\n",
              "  <button class=\"colab-df-quickchart\" onclick=\"quickchart('df-6abd6f27-19ef-4559-b182-13fa1a79f350')\"\n",
              "            title=\"Suggest charts.\"\n",
              "            style=\"display:none;\">\n",
              "\n",
              "<svg xmlns=\"http://www.w3.org/2000/svg\" height=\"24px\"viewBox=\"0 0 24 24\"\n",
              "     width=\"24px\">\n",
              "    <g>\n",
              "        <path d=\"M19 3H5c-1.1 0-2 .9-2 2v14c0 1.1.9 2 2 2h14c1.1 0 2-.9 2-2V5c0-1.1-.9-2-2-2zM9 17H7v-7h2v7zm4 0h-2V7h2v10zm4 0h-2v-4h2v4z\"/>\n",
              "    </g>\n",
              "</svg>\n",
              "  </button>\n",
              "\n",
              "<style>\n",
              "  .colab-df-quickchart {\n",
              "      --bg-color: #E8F0FE;\n",
              "      --fill-color: #1967D2;\n",
              "      --hover-bg-color: #E2EBFA;\n",
              "      --hover-fill-color: #174EA6;\n",
              "      --disabled-fill-color: #AAA;\n",
              "      --disabled-bg-color: #DDD;\n",
              "  }\n",
              "\n",
              "  [theme=dark] .colab-df-quickchart {\n",
              "      --bg-color: #3B4455;\n",
              "      --fill-color: #D2E3FC;\n",
              "      --hover-bg-color: #434B5C;\n",
              "      --hover-fill-color: #FFFFFF;\n",
              "      --disabled-bg-color: #3B4455;\n",
              "      --disabled-fill-color: #666;\n",
              "  }\n",
              "\n",
              "  .colab-df-quickchart {\n",
              "    background-color: var(--bg-color);\n",
              "    border: none;\n",
              "    border-radius: 50%;\n",
              "    cursor: pointer;\n",
              "    display: none;\n",
              "    fill: var(--fill-color);\n",
              "    height: 32px;\n",
              "    padding: 0;\n",
              "    width: 32px;\n",
              "  }\n",
              "\n",
              "  .colab-df-quickchart:hover {\n",
              "    background-color: var(--hover-bg-color);\n",
              "    box-shadow: 0 1px 2px rgba(60, 64, 67, 0.3), 0 1px 3px 1px rgba(60, 64, 67, 0.15);\n",
              "    fill: var(--button-hover-fill-color);\n",
              "  }\n",
              "\n",
              "  .colab-df-quickchart-complete:disabled,\n",
              "  .colab-df-quickchart-complete:disabled:hover {\n",
              "    background-color: var(--disabled-bg-color);\n",
              "    fill: var(--disabled-fill-color);\n",
              "    box-shadow: none;\n",
              "  }\n",
              "\n",
              "  .colab-df-spinner {\n",
              "    border: 2px solid var(--fill-color);\n",
              "    border-color: transparent;\n",
              "    border-bottom-color: var(--fill-color);\n",
              "    animation:\n",
              "      spin 1s steps(1) infinite;\n",
              "  }\n",
              "\n",
              "  @keyframes spin {\n",
              "    0% {\n",
              "      border-color: transparent;\n",
              "      border-bottom-color: var(--fill-color);\n",
              "      border-left-color: var(--fill-color);\n",
              "    }\n",
              "    20% {\n",
              "      border-color: transparent;\n",
              "      border-left-color: var(--fill-color);\n",
              "      border-top-color: var(--fill-color);\n",
              "    }\n",
              "    30% {\n",
              "      border-color: transparent;\n",
              "      border-left-color: var(--fill-color);\n",
              "      border-top-color: var(--fill-color);\n",
              "      border-right-color: var(--fill-color);\n",
              "    }\n",
              "    40% {\n",
              "      border-color: transparent;\n",
              "      border-right-color: var(--fill-color);\n",
              "      border-top-color: var(--fill-color);\n",
              "    }\n",
              "    60% {\n",
              "      border-color: transparent;\n",
              "      border-right-color: var(--fill-color);\n",
              "    }\n",
              "    80% {\n",
              "      border-color: transparent;\n",
              "      border-right-color: var(--fill-color);\n",
              "      border-bottom-color: var(--fill-color);\n",
              "    }\n",
              "    90% {\n",
              "      border-color: transparent;\n",
              "      border-bottom-color: var(--fill-color);\n",
              "    }\n",
              "  }\n",
              "</style>\n",
              "\n",
              "  <script>\n",
              "    async function quickchart(key) {\n",
              "      const quickchartButtonEl =\n",
              "        document.querySelector('#' + key + ' button');\n",
              "      quickchartButtonEl.disabled = true;  // To prevent multiple clicks.\n",
              "      quickchartButtonEl.classList.add('colab-df-spinner');\n",
              "      try {\n",
              "        const charts = await google.colab.kernel.invokeFunction(\n",
              "            'suggestCharts', [key], {});\n",
              "      } catch (error) {\n",
              "        console.error('Error during call to suggestCharts:', error);\n",
              "      }\n",
              "      quickchartButtonEl.classList.remove('colab-df-spinner');\n",
              "      quickchartButtonEl.classList.add('colab-df-quickchart-complete');\n",
              "    }\n",
              "    (() => {\n",
              "      let quickchartButtonEl =\n",
              "        document.querySelector('#df-6abd6f27-19ef-4559-b182-13fa1a79f350 button');\n",
              "      quickchartButtonEl.style.display =\n",
              "        google.colab.kernel.accessAllowed ? 'block' : 'none';\n",
              "    })();\n",
              "  </script>\n",
              "</div>\n",
              "    </div>\n",
              "  </div>\n"
            ]
          },
          "metadata": {},
          "execution_count": 9
        }
      ],
      "source": [
        "# Print a few rows of the imported dataset\n",
        "df_final.head()"
      ]
    },
    {
      "cell_type": "markdown",
      "metadata": {
        "id": "GuPoy_XfxhXZ"
      },
      "source": [
        "## **Exploratory Data Analysis**"
      ]
    },
    {
      "cell_type": "markdown",
      "metadata": {
        "id": "s0d0bWeG-sVB"
      },
      "source": [
        "### **Shape of the data**"
      ]
    },
    {
      "cell_type": "markdown",
      "metadata": {
        "id": "qyBVTRDTyek0"
      },
      "source": [
        "### **Check the number of rows and columns and provide observations.**"
      ]
    },
    {
      "cell_type": "code",
      "source": [
        "# Check the number of rows and columns and provide observations\n",
        "rows, columns = df_final.shape\n",
        "print(\"No of rows: \", rows)\n",
        "print(\"No of columns: \", columns)"
      ],
      "metadata": {
        "colab": {
          "base_uri": "https://localhost:8080/"
        },
        "id": "upsAR-jAMSC6",
        "outputId": "93b8a4a7-f116-49c4-bc91-96e8d397569f"
      },
      "execution_count": null,
      "outputs": [
        {
          "output_type": "stream",
          "name": "stdout",
          "text": [
            "No of rows:  65290\n",
            "No of columns:  3\n"
          ]
        }
      ]
    },
    {
      "cell_type": "markdown",
      "metadata": {
        "id": "Slp-fgWQ-sVD"
      },
      "source": [
        "**Write your observations here:______**\n",
        "- After reducing our dataset to users who have given at least 50 ratings, and the products that have at least 5 ratings.\n",
        "\n",
        "- There are **65290 numbers of rows and 3 columns**.\n",
        "  - The 3 columns are after dropping the **timestamp** column, as the column does not have any additional value to our dataset."
      ]
    },
    {
      "cell_type": "markdown",
      "metadata": {
        "id": "lAMWm0nC-sVF"
      },
      "source": [
        "### **Data types**"
      ]
    },
    {
      "cell_type": "code",
      "execution_count": null,
      "metadata": {
        "id": "SVrgMkye5JtQ",
        "colab": {
          "base_uri": "https://localhost:8080/"
        },
        "outputId": "9ebcfd3f-fdd8-4492-b6a6-42b71ce458fc"
      },
      "outputs": [
        {
          "output_type": "stream",
          "name": "stdout",
          "text": [
            "<class 'pandas.core.frame.DataFrame'>\n",
            "Int64Index: 65290 entries, 1310 to 7824427\n",
            "Data columns (total 3 columns):\n",
            " #   Column   Non-Null Count  Dtype  \n",
            "---  ------   --------------  -----  \n",
            " 0   user_id  65290 non-null  object \n",
            " 1   prod_id  65290 non-null  object \n",
            " 2   rating   65290 non-null  float64\n",
            "dtypes: float64(1), object(2)\n",
            "memory usage: 2.0+ MB\n"
          ]
        }
      ],
      "source": [
        "# Check Data types and provide observations\n",
        "df_final.info()"
      ]
    },
    {
      "cell_type": "markdown",
      "metadata": {
        "id": "z4fOE02D-sVF"
      },
      "source": [
        "**Write your observations here:______**\n",
        "- We have 2 datatypes\n",
        "  - our rating is of the float64 datatype,\n",
        "  - our user_id and prod_id is of the object datatype"
      ]
    },
    {
      "cell_type": "markdown",
      "metadata": {
        "id": "lTMpOROT-sVG"
      },
      "source": [
        "### **Checking for missing values**"
      ]
    },
    {
      "cell_type": "code",
      "execution_count": null,
      "metadata": {
        "id": "vt-VEjMA5JtQ",
        "colab": {
          "base_uri": "https://localhost:8080/"
        },
        "outputId": "95ecdd0a-acd6-48c9-facc-d699e766c7f3"
      },
      "outputs": [
        {
          "output_type": "execute_result",
          "data": {
            "text/plain": [
              "user_id    0\n",
              "prod_id    0\n",
              "rating     0\n",
              "dtype: int64"
            ]
          },
          "metadata": {},
          "execution_count": 12
        }
      ],
      "source": [
        "# Check for missing values present and provide observations\n",
        "df_final.isnull().sum()"
      ]
    },
    {
      "cell_type": "markdown",
      "metadata": {
        "id": "qMWuBNhI5JtR"
      },
      "source": [
        "**Write your observations here:______**\n",
        "- There are no non-null values in the dataset, i.e. there are no missing values in the data.\n"
      ]
    },
    {
      "cell_type": "markdown",
      "metadata": {
        "id": "wETrCg48-sVG"
      },
      "source": [
        "### **Summary Statistics**"
      ]
    },
    {
      "cell_type": "code",
      "execution_count": null,
      "metadata": {
        "id": "tYm30MXR5JtR",
        "colab": {
          "base_uri": "https://localhost:8080/"
        },
        "outputId": "071b1bce-92ff-4c00-e993-83c554148e90"
      },
      "outputs": [
        {
          "output_type": "execute_result",
          "data": {
            "text/plain": [
              "count    65290.000000\n",
              "mean         4.294808\n",
              "std          0.988915\n",
              "min          1.000000\n",
              "25%          4.000000\n",
              "50%          5.000000\n",
              "75%          5.000000\n",
              "max          5.000000\n",
              "Name: rating, dtype: float64"
            ]
          },
          "metadata": {},
          "execution_count": 13
        }
      ],
      "source": [
        "# Summary statistics of 'rating' variable and provide observations\n",
        "df_final['rating'].describe().T"
      ]
    },
    {
      "cell_type": "markdown",
      "metadata": {
        "id": "VqW50EIJxhXc"
      },
      "source": [
        "**Write your observations here:______**\n",
        "- The mean rating is 4.294808.\n",
        "- 50% of the users and above gave a rating of 5.0\n",
        "- 25% of the users gave a rating of 4.0\n",
        "- 25% remaining of the users gave a rating from 1.0-3.0"
      ]
    },
    {
      "cell_type": "markdown",
      "metadata": {
        "id": "ywyFrZIf5JtR"
      },
      "source": [
        "### **Checking the rating distribution**"
      ]
    },
    {
      "cell_type": "code",
      "source": [
        "# Fix the figure size\n",
        "plt.figure(figsize = (4, 5))\n",
        "\n",
        "ax = sns.countplot(x = \"rating\", data = df_final)\n",
        "\n",
        "plt.tick_params(labelsize = 10)\n",
        "\n",
        "plt.title(\"Distribution of Ratings \", fontsize = 10)\n",
        "\n",
        "# Set the xlabel of the plot\n",
        "plt.xlabel(\"Ratings\", fontsize = 10)\n",
        "\n",
        "# Set the ylabel of the plot\n",
        "plt.ylabel(\"Number of Ratings\", fontsize = 10)\n",
        "\n",
        "# Display the plot\n",
        "plt.show()"
      ],
      "metadata": {
        "colab": {
          "base_uri": "https://localhost:8080/",
          "height": 484
        },
        "id": "rwzXXvzwUsJN",
        "outputId": "4f133b98-fa95-4ad0-ba46-f77c83d52acd"
      },
      "execution_count": null,
      "outputs": [
        {
          "output_type": "display_data",
          "data": {
            "text/plain": [
              "<Figure size 400x500 with 1 Axes>"
            ],
            "image/png": "[encoded data removed]"
          },
          "metadata": {}
        }
      ]
    },
    {
      "cell_type": "markdown",
      "metadata": {
        "id": "t0jONrQv-sVH"
      },
      "source": [
        "**Write your observations here:________**\n",
        "- The data seems to be highly skewed towards Rating '4' and '5'.\n",
        "- Rating '4' is the second-highest in the count and about half the number of users who gave a rating of '5' which is the highest rating count.\n",
        "- We can see very few users rated between 1-3. It shows users tend not to give good ratings to the products they don't like."
      ]
    },
    {
      "cell_type": "markdown",
      "metadata": {
        "id": "HefpLdLJxhXd"
      },
      "source": [
        "### **Checking the number of unique users and items in the dataset**"
      ]
    },
    {
      "cell_type": "code",
      "execution_count": null,
      "metadata": {
        "id": "NbSom7195JtR",
        "colab": {
          "base_uri": "https://localhost:8080/"
        },
        "outputId": "baccb287-0936-4848-eb36-abdedd5fa624"
      },
      "outputs": [
        {
          "output_type": "stream",
          "name": "stdout",
          "text": [
            "The number of observations in the final data =  65290\n",
            "Number of unique USERS in Raw data =  1540\n",
            "Number of unique ITEMS in Raw data =  5689\n"
          ]
        }
      ],
      "source": [
        "# Number of total rows in the data and number of unique user id and product id in the data\n",
        "print('The number of observations in the final data = ', len(df_final))\n",
        "print('Number of unique USERS in Raw data = ', df_final['user_id'].nunique())\n",
        "print('Number of unique ITEMS in Raw data = ', df_final['prod_id'].nunique())"
      ]
    },
    {
      "cell_type": "code",
      "source": [
        "print(1540*5689)"
      ],
      "metadata": {
        "colab": {
          "base_uri": "https://localhost:8080/"
        },
        "id": "pQhpr8X1ZVDw",
        "outputId": "2781bf8a-80ad-4852-bb31-ab0eb9b57d8a"
      },
      "execution_count": null,
      "outputs": [
        {
          "output_type": "stream",
          "name": "stdout",
          "text": [
            "8761060\n"
          ]
        }
      ]
    },
    {
      "cell_type": "markdown",
      "metadata": {
        "id": "Qwgz6CUt-sVI"
      },
      "source": [
        "**Write your observations here:_______**\n",
        "- The number of total rows in the data is 65290\n",
        "- The number of unique user_id in the data is  1540\n",
        "- The number of unique prod_id in Raw data =  5689"
      ]
    },
    {
      "cell_type": "markdown",
      "metadata": {
        "id": "RfDnhSS4-sVI"
      },
      "source": [
        "### **Users with the most number of ratings**"
      ]
    },
    {
      "cell_type": "code",
      "execution_count": null,
      "metadata": {
        "id": "n7MX452q5JtR",
        "colab": {
          "base_uri": "https://localhost:8080/"
        },
        "outputId": "22727d7e-d50c-4c49-d176-c46d71a379de"
      },
      "outputs": [
        {
          "output_type": "execute_result",
          "data": {
            "text/plain": [
              "user_id\n",
              "ADLVFFE4VBT8      295\n",
              "A3OXHLG6DIBRW8    230\n",
              "A1ODOGXEYECQQ8    217\n",
              "A36K2N527TXXJN    212\n",
              "A25C2M3QF9G7OQ    203\n",
              "A680RUE1FDO8B     196\n",
              "A22CW0ZHY3NJH8    193\n",
              "A1UQBFCERIP7VJ    193\n",
              "AWPODHOB4GFWL     184\n",
              "A3LGT6UZL99IW1    179\n",
              "dtype: int64"
            ]
          },
          "metadata": {},
          "execution_count": 17
        }
      ],
      "source": [
        "# Top 10 users based on the number of ratings\n",
        "most_rated = df_final.groupby('user_id').size().sort_values(ascending = False)[:10]\n",
        "most_rated"
      ]
    },
    {
      "cell_type": "code",
      "source": [
        "# Plotting distributions of ratings for 295 interactions with given user_id\n",
        "plt.figure(figsize = (4, 4))\n",
        "df_final[df_final['user_id'] == \"ADLVFFE4VBT8\"]['rating'].value_counts().plot(kind = 'bar')\n",
        "# Name the xlabel of the plot\n",
        "plt.xlabel('Rating')\n",
        "# Name the ylabel of the plot\n",
        "plt.ylabel('Count')\n",
        "# Display the plot\n",
        "plt.show()"
      ],
      "metadata": {
        "colab": {
          "base_uri": "https://localhost:8080/",
          "height": 396
        },
        "id": "M4TiRYr2b-Xq",
        "outputId": "f759ee63-7348-4f36-e572-d87149d39148"
      },
      "execution_count": null,
      "outputs": [
        {
          "output_type": "display_data",
          "data": {
            "text/plain": [
              "<Figure size 400x400 with 1 Axes>"
            ],
            "image/png": "[encoded data removed]"
          },
          "metadata": {}
        }
      ]
    },
    {
      "cell_type": "markdown",
      "metadata": {
        "id": "1X2w_jt9-sVI"
      },
      "source": [
        "**Write your observations here:_______**\n",
        "\n",
        "- The highest number of ratings by a user is 295 which is far from the actual number of products present in the data. We can build a recommendation system to recommend products to users which whom they have not interacted.\n",
        "\n",
        "- In addition, the user with the highest number of rating barplot reveals the user had a majority rating between 5.0 and 4.0 ratings in comparison to 3.0 - 1.0 ratings."
      ]
    },
    {
      "cell_type": "markdown",
      "metadata": {
        "id": "EnYTx-Ol-sVg"
      },
      "source": [
        "**Now that we have explored and prepared the data, let's build the first recommendation system.**"
      ]
    },
    {
      "cell_type": "markdown",
      "metadata": {
        "id": "6xYGrGVy5JtS"
      },
      "source": [
        "## **Model 1: Rank Based Recommendation System**"
      ]
    },
    {
      "cell_type": "code",
      "source": [
        "df_final.head()"
      ],
      "metadata": {
        "colab": {
          "base_uri": "https://localhost:8080/",
          "height": 206
        },
        "id": "JTcPlQB_kXNB",
        "outputId": "42f667d9-46c0-45b4-8ec7-e87c2ff93e24"
      },
      "execution_count": null,
      "outputs": [
        {
          "output_type": "execute_result",
          "data": {
            "text/plain": [
              "             user_id     prod_id  rating\n",
              "1310  A3LDPF5FMB782Z  1400501466     5.0\n",
              "1322  A1A5KUIIIHFF4U  1400501466     1.0\n",
              "1335  A2XIOXRRYX0KZY  1400501466     3.0\n",
              "1451   AW3LX47IHPFRL  1400501466     5.0\n",
              "1456  A1E3OB6QMBKRYZ  1400501466     1.0"
            ],
            "text/html": [
              "\n",
              "  <div id=\"df-31cbde8e-079e-477d-8731-27a19e954900\" class=\"colab-df-container\">\n",
              "    <div>\n",
              "<style scoped>\n",
              "    .dataframe tbody tr th:only-of-type {\n",
              "        vertical-align: middle;\n",
              "    }\n",
              "\n",
              "    .dataframe tbody tr th {\n",
              "        vertical-align: top;\n",
              "    }\n",
              "\n",
              "    .dataframe thead th {\n",
              "        text-align: right;\n",
              "    }\n",
              "</style>\n",
              "<table border=\"1\" class=\"dataframe\">\n",
              "  <thead>\n",
              "    <tr style=\"text-align: right;\">\n",
              "      <th></th>\n",
              "      <th>user_id</th>\n",
              "      <th>prod_id</th>\n",
              "      <th>rating</th>\n",
              "    </tr>\n",
              "  </thead>\n",
              "  <tbody>\n",
              "    <tr>\n",
              "      <th>1310</th>\n",
              "      <td>A3LDPF5FMB782Z</td>\n",
              "      <td>1400501466</td>\n",
              "      <td>5.0</td>\n",
              "    </tr>\n",
              "    <tr>\n",
              "      <th>1322</th>\n",
              "      <td>A1A5KUIIIHFF4U</td>\n",
              "      <td>1400501466</td>\n",
              "      <td>1.0</td>\n",
              "    </tr>\n",
              "    <tr>\n",
              "      <th>1335</th>\n",
              "      <td>A2XIOXRRYX0KZY</td>\n",
              "      <td>1400501466</td>\n",
              "      <td>3.0</td>\n",
              "    </tr>\n",
              "    <tr>\n",
              "      <th>1451</th>\n",
              "      <td>AW3LX47IHPFRL</td>\n",
              "      <td>1400501466</td>\n",
              "      <td>5.0</td>\n",
              "    </tr>\n",
              "    <tr>\n",
              "      <th>1456</th>\n",
              "      <td>A1E3OB6QMBKRYZ</td>\n",
              "      <td>1400501466</td>\n",
              "      <td>1.0</td>\n",
              "    </tr>\n",
              "  </tbody>\n",
              "</table>\n",
              "</div>\n",
              "    <div class=\"colab-df-buttons\">\n",
              "\n",
              "  <div class=\"colab-df-container\">\n",
              "    <button class=\"colab-df-convert\" onclick=\"convertToInteractive('df-31cbde8e-079e-477d-8731-27a19e954900')\"\n",
              "            title=\"Convert this dataframe to an interactive table.\"\n",
              "            style=\"display:none;\">\n",
              "\n",
              "  <svg xmlns=\"http://www.w3.org/2000/svg\" height=\"24px\" viewBox=\"0 -960 960 960\">\n",
              "    <path d=\"M120-120v-720h720v720H120Zm60-500h600v-160H180v160Zm220 220h160v-160H400v160Zm0 220h160v-160H400v160ZM180-400h160v-160H180v160Zm440 0h160v-160H620v160ZM180-180h160v-160H180v160Zm440 0h160v-160H620v160Z\"/>\n",
              "  </svg>\n",
              "    </button>\n",
              "\n",
              "  <style>\n",
              "    .colab-df-container {\n",
              "      display:flex;\n",
              "      gap: 12px;\n",
              "    }\n",
              "\n",
              "    .colab-df-convert {\n",
              "      background-color: #E8F0FE;\n",
              "      border: none;\n",
              "      border-radius: 50%;\n",
              "      cursor: pointer;\n",
              "      display: none;\n",
              "      fill: #1967D2;\n",
              "      height: 32px;\n",
              "      padding: 0 0 0 0;\n",
              "      width: 32px;\n",
              "    }\n",
              "\n",
              "    .colab-df-convert:hover {\n",
              "      background-color: #E2EBFA;\n",
              "      box-shadow: 0px 1px 2px rgba(60, 64, 67, 0.3), 0px 1px 3px 1px rgba(60, 64, 67, 0.15);\n",
              "      fill: #174EA6;\n",
              "    }\n",
              "\n",
              "    .colab-df-buttons div {\n",
              "      margin-bottom: 4px;\n",
              "    }\n",
              "\n",
              "    [theme=dark] .colab-df-convert {\n",
              "      background-color: #3B4455;\n",
              "      fill: #D2E3FC;\n",
              "    }\n",
              "\n",
              "    [theme=dark] .colab-df-convert:hover {\n",
              "      background-color: #434B5C;\n",
              "      box-shadow: 0px 1px 3px 1px rgba(0, 0, 0, 0.15);\n",
              "      filter: drop-shadow(0px 1px 2px rgba(0, 0, 0, 0.3));\n",
              "      fill: #FFFFFF;\n",
              "    }\n",
              "  </style>\n",
              "\n",
              "    <script>\n",
              "      const buttonEl =\n",
              "        document.querySelector('#df-31cbde8e-079e-477d-8731-27a19e954900 button.colab-df-convert');\n",
              "      buttonEl.style.display =\n",
              "        google.colab.kernel.accessAllowed ? 'block' : 'none';\n",
              "\n",
              "      async function convertToInteractive(key) {\n",
              "        const element = document.querySelector('#df-31cbde8e-079e-477d-8731-27a19e954900');\n",
              "        const dataTable =\n",
              "          await google.colab.kernel.invokeFunction('convertToInteractive',\n",
              "                                                    [key], {});\n",
              "        if (!dataTable) return;\n",
              "\n",
              "        const docLinkHtml = 'Like what you see? Visit the ' +\n",
              "          '<a target=\"_blank\" href=https://colab.research.google.com/notebooks/data_table.ipynb>data table notebook</a>'\n",
              "          + ' to learn more about interactive tables.';\n",
              "        element.innerHTML = '';\n",
              "        dataTable['output_type'] = 'display_data';\n",
              "        await google.colab.output.renderOutput(dataTable, element);\n",
              "        const docLink = document.createElement('div');\n",
              "        docLink.innerHTML = docLinkHtml;\n",
              "        element.appendChild(docLink);\n",
              "      }\n",
              "    </script>\n",
              "  </div>\n",
              "\n",
              "\n",
              "<div id=\"df-7ad163e5-d8fb-455f-b421-94de0238a7a2\">\n",
              "  <button class=\"colab-df-quickchart\" onclick=\"quickchart('df-7ad163e5-d8fb-455f-b421-94de0238a7a2')\"\n",
              "            title=\"Suggest charts.\"\n",
              "            style=\"display:none;\">\n",
              "\n",
              "<svg xmlns=\"http://www.w3.org/2000/svg\" height=\"24px\"viewBox=\"0 0 24 24\"\n",
              "     width=\"24px\">\n",
              "    <g>\n",
              "        <path d=\"M19 3H5c-1.1 0-2 .9-2 2v14c0 1.1.9 2 2 2h14c1.1 0 2-.9 2-2V5c0-1.1-.9-2-2-2zM9 17H7v-7h2v7zm4 0h-2V7h2v10zm4 0h-2v-4h2v4z\"/>\n",
              "    </g>\n",
              "</svg>\n",
              "  </button>\n",
              "\n",
              "<style>\n",
              "  .colab-df-quickchart {\n",
              "      --bg-color: #E8F0FE;\n",
              "      --fill-color: #1967D2;\n",
              "      --hover-bg-color: #E2EBFA;\n",
              "      --hover-fill-color: #174EA6;\n",
              "      --disabled-fill-color: #AAA;\n",
              "      --disabled-bg-color: #DDD;\n",
              "  }\n",
              "\n",
              "  [theme=dark] .colab-df-quickchart {\n",
              "      --bg-color: #3B4455;\n",
              "      --fill-color: #D2E3FC;\n",
              "      --hover-bg-color: #434B5C;\n",
              "      --hover-fill-color: #FFFFFF;\n",
              "      --disabled-bg-color: #3B4455;\n",
              "      --disabled-fill-color: #666;\n",
              "  }\n",
              "\n",
              "  .colab-df-quickchart {\n",
              "    background-color: var(--bg-color);\n",
              "    border: none;\n",
              "    border-radius: 50%;\n",
              "    cursor: pointer;\n",
              "    display: none;\n",
              "    fill: var(--fill-color);\n",
              "    height: 32px;\n",
              "    padding: 0;\n",
              "    width: 32px;\n",
              "  }\n",
              "\n",
              "  .colab-df-quickchart:hover {\n",
              "    background-color: var(--hover-bg-color);\n",
              "    box-shadow: 0 1px 2px rgba(60, 64, 67, 0.3), 0 1px 3px 1px rgba(60, 64, 67, 0.15);\n",
              "    fill: var(--button-hover-fill-color);\n",
              "  }\n",
              "\n",
              "  .colab-df-quickchart-complete:disabled,\n",
              "  .colab-df-quickchart-complete:disabled:hover {\n",
              "    background-color: var(--disabled-bg-color);\n",
              "    fill: var(--disabled-fill-color);\n",
              "    box-shadow: none;\n",
              "  }\n",
              "\n",
              "  .colab-df-spinner {\n",
              "    border: 2px solid var(--fill-color);\n",
              "    border-color: transparent;\n",
              "    border-bottom-color: var(--fill-color);\n",
              "    animation:\n",
              "      spin 1s steps(1) infinite;\n",
              "  }\n",
              "\n",
              "  @keyframes spin {\n",
              "    0% {\n",
              "      border-color: transparent;\n",
              "      border-bottom-color: var(--fill-color);\n",
              "      border-left-color: var(--fill-color);\n",
              "    }\n",
              "    20% {\n",
              "      border-color: transparent;\n",
              "      border-left-color: var(--fill-color);\n",
              "      border-top-color: var(--fill-color);\n",
              "    }\n",
              "    30% {\n",
              "      border-color: transparent;\n",
              "      border-left-color: var(--fill-color);\n",
              "      border-top-color: var(--fill-color);\n",
              "      border-right-color: var(--fill-color);\n",
              "    }\n",
              "    40% {\n",
              "      border-color: transparent;\n",
              "      border-right-color: var(--fill-color);\n",
              "      border-top-color: var(--fill-color);\n",
              "    }\n",
              "    60% {\n",
              "      border-color: transparent;\n",
              "      border-right-color: var(--fill-color);\n",
              "    }\n",
              "    80% {\n",
              "      border-color: transparent;\n",
              "      border-right-color: var(--fill-color);\n",
              "      border-bottom-color: var(--fill-color);\n",
              "    }\n",
              "    90% {\n",
              "      border-color: transparent;\n",
              "      border-bottom-color: var(--fill-color);\n",
              "    }\n",
              "  }\n",
              "</style>\n",
              "\n",
              "  <script>\n",
              "    async function quickchart(key) {\n",
              "      const quickchartButtonEl =\n",
              "        document.querySelector('#' + key + ' button');\n",
              "      quickchartButtonEl.disabled = true;  // To prevent multiple clicks.\n",
              "      quickchartButtonEl.classList.add('colab-df-spinner');\n",
              "      try {\n",
              "        const charts = await google.colab.kernel.invokeFunction(\n",
              "            'suggestCharts', [key], {});\n",
              "      } catch (error) {\n",
              "        console.error('Error during call to suggestCharts:', error);\n",
              "      }\n",
              "      quickchartButtonEl.classList.remove('colab-df-spinner');\n",
              "      quickchartButtonEl.classList.add('colab-df-quickchart-complete');\n",
              "    }\n",
              "    (() => {\n",
              "      let quickchartButtonEl =\n",
              "        document.querySelector('#df-7ad163e5-d8fb-455f-b421-94de0238a7a2 button');\n",
              "      quickchartButtonEl.style.display =\n",
              "        google.colab.kernel.accessAllowed ? 'block' : 'none';\n",
              "    })();\n",
              "  </script>\n",
              "</div>\n",
              "    </div>\n",
              "  </div>\n"
            ]
          },
          "metadata": {},
          "execution_count": 19
        }
      ]
    },
    {
      "cell_type": "code",
      "execution_count": null,
      "metadata": {
        "id": "yxZTj1UPxhXh",
        "scrolled": true,
        "colab": {
          "base_uri": "https://localhost:8080/",
          "height": 237
        },
        "outputId": "3611b203-65b4-4b3c-f1c0-b6a0924ee019"
      },
      "outputs": [
        {
          "output_type": "execute_result",
          "data": {
            "text/plain": [
              "            avg_rating  rating_count\n",
              "prod_id                             \n",
              "B00LGQ6HL8         5.0             5\n",
              "B003DZJQQI         5.0            14\n",
              "B005FDXF2C         5.0             7\n",
              "B00I6CVPVC         5.0             7\n",
              "B00B9KOCYA         5.0             8"
            ],
            "text/html": [
              "\n",
              "  <div id=\"df-e8803d09-22e9-4133-a706-05659b1d826b\" class=\"colab-df-container\">\n",
              "    <div>\n",
              "<style scoped>\n",
              "    .dataframe tbody tr th:only-of-type {\n",
              "        vertical-align: middle;\n",
              "    }\n",
              "\n",
              "    .dataframe tbody tr th {\n",
              "        vertical-align: top;\n",
              "    }\n",
              "\n",
              "    .dataframe thead th {\n",
              "        text-align: right;\n",
              "    }\n",
              "</style>\n",
              "<table border=\"1\" class=\"dataframe\">\n",
              "  <thead>\n",
              "    <tr style=\"text-align: right;\">\n",
              "      <th></th>\n",
              "      <th>avg_rating</th>\n",
              "      <th>rating_count</th>\n",
              "    </tr>\n",
              "    <tr>\n",
              "      <th>prod_id</th>\n",
              "      <th></th>\n",
              "      <th></th>\n",
              "    </tr>\n",
              "  </thead>\n",
              "  <tbody>\n",
              "    <tr>\n",
              "      <th>B00LGQ6HL8</th>\n",
              "      <td>5.0</td>\n",
              "      <td>5</td>\n",
              "    </tr>\n",
              "    <tr>\n",
              "      <th>B003DZJQQI</th>\n",
              "      <td>5.0</td>\n",
              "      <td>14</td>\n",
              "    </tr>\n",
              "    <tr>\n",
              "      <th>B005FDXF2C</th>\n",
              "      <td>5.0</td>\n",
              "      <td>7</td>\n",
              "    </tr>\n",
              "    <tr>\n",
              "      <th>B00I6CVPVC</th>\n",
              "      <td>5.0</td>\n",
              "      <td>7</td>\n",
              "    </tr>\n",
              "    <tr>\n",
              "      <th>B00B9KOCYA</th>\n",
              "      <td>5.0</td>\n",
              "      <td>8</td>\n",
              "    </tr>\n",
              "  </tbody>\n",
              "</table>\n",
              "</div>\n",
              "    <div class=\"colab-df-buttons\">\n",
              "\n",
              "  <div class=\"colab-df-container\">\n",
              "    <button class=\"colab-df-convert\" onclick=\"convertToInteractive('df-e8803d09-22e9-4133-a706-05659b1d826b')\"\n",
              "            title=\"Convert this dataframe to an interactive table.\"\n",
              "            style=\"display:none;\">\n",
              "\n",
              "  <svg xmlns=\"http://www.w3.org/2000/svg\" height=\"24px\" viewBox=\"0 -960 960 960\">\n",
              "    <path d=\"M120-120v-720h720v720H120Zm60-500h600v-160H180v160Zm220 220h160v-160H400v160Zm0 220h160v-160H400v160ZM180-400h160v-160H180v160Zm440 0h160v-160H620v160ZM180-180h160v-160H180v160Zm440 0h160v-160H620v160Z\"/>\n",
              "  </svg>\n",
              "    </button>\n",
              "\n",
              "  <style>\n",
              "    .colab-df-container {\n",
              "      display:flex;\n",
              "      gap: 12px;\n",
              "    }\n",
              "\n",
              "    .colab-df-convert {\n",
              "      background-color: #E8F0FE;\n",
              "      border: none;\n",
              "      border-radius: 50%;\n",
              "      cursor: pointer;\n",
              "      display: none;\n",
              "      fill: #1967D2;\n",
              "      height: 32px;\n",
              "      padding: 0 0 0 0;\n",
              "      width: 32px;\n",
              "    }\n",
              "\n",
              "    .colab-df-convert:hover {\n",
              "      background-color: #E2EBFA;\n",
              "      box-shadow: 0px 1px 2px rgba(60, 64, 67, 0.3), 0px 1px 3px 1px rgba(60, 64, 67, 0.15);\n",
              "      fill: #174EA6;\n",
              "    }\n",
              "\n",
              "    .colab-df-buttons div {\n",
              "      margin-bottom: 4px;\n",
              "    }\n",
              "\n",
              "    [theme=dark] .colab-df-convert {\n",
              "      background-color: #3B4455;\n",
              "      fill: #D2E3FC;\n",
              "    }\n",
              "\n",
              "    [theme=dark] .colab-df-convert:hover {\n",
              "      background-color: #434B5C;\n",
              "      box-shadow: 0px 1px 3px 1px rgba(0, 0, 0, 0.15);\n",
              "      filter: drop-shadow(0px 1px 2px rgba(0, 0, 0, 0.3));\n",
              "      fill: #FFFFFF;\n",
              "    }\n",
              "  </style>\n",
              "\n",
              "    <script>\n",
              "      const buttonEl =\n",
              "        document.querySelector('#df-e8803d09-22e9-4133-a706-05659b1d826b button.colab-df-convert');\n",
              "      buttonEl.style.display =\n",
              "        google.colab.kernel.accessAllowed ? 'block' : 'none';\n",
              "\n",
              "      async function convertToInteractive(key) {\n",
              "        const element = document.querySelector('#df-e8803d09-22e9-4133-a706-05659b1d826b');\n",
              "        const dataTable =\n",
              "          await google.colab.kernel.invokeFunction('convertToInteractive',\n",
              "                                                    [key], {});\n",
              "        if (!dataTable) return;\n",
              "\n",
              "        const docLinkHtml = 'Like what you see? Visit the ' +\n",
              "          '<a target=\"_blank\" href=https://colab.research.google.com/notebooks/data_table.ipynb>data table notebook</a>'\n",
              "          + ' to learn more about interactive tables.';\n",
              "        element.innerHTML = '';\n",
              "        dataTable['output_type'] = 'display_data';\n",
              "        await google.colab.output.renderOutput(dataTable, element);\n",
              "        const docLink = document.createElement('div');\n",
              "        docLink.innerHTML = docLinkHtml;\n",
              "        element.appendChild(docLink);\n",
              "      }\n",
              "    </script>\n",
              "  </div>\n",
              "\n",
              "\n",
              "<div id=\"df-36a8b94e-1256-4ffe-b18f-7ffd27ef2697\">\n",
              "  <button class=\"colab-df-quickchart\" onclick=\"quickchart('df-36a8b94e-1256-4ffe-b18f-7ffd27ef2697')\"\n",
              "            title=\"Suggest charts.\"\n",
              "            style=\"display:none;\">\n",
              "\n",
              "<svg xmlns=\"http://www.w3.org/2000/svg\" height=\"24px\"viewBox=\"0 0 24 24\"\n",
              "     width=\"24px\">\n",
              "    <g>\n",
              "        <path d=\"M19 3H5c-1.1 0-2 .9-2 2v14c0 1.1.9 2 2 2h14c1.1 0 2-.9 2-2V5c0-1.1-.9-2-2-2zM9 17H7v-7h2v7zm4 0h-2V7h2v10zm4 0h-2v-4h2v4z\"/>\n",
              "    </g>\n",
              "</svg>\n",
              "  </button>\n",
              "\n",
              "<style>\n",
              "  .colab-df-quickchart {\n",
              "      --bg-color: #E8F0FE;\n",
              "      --fill-color: #1967D2;\n",
              "      --hover-bg-color: #E2EBFA;\n",
              "      --hover-fill-color: #174EA6;\n",
              "      --disabled-fill-color: #AAA;\n",
              "      --disabled-bg-color: #DDD;\n",
              "  }\n",
              "\n",
              "  [theme=dark] .colab-df-quickchart {\n",
              "      --bg-color: #3B4455;\n",
              "      --fill-color: #D2E3FC;\n",
              "      --hover-bg-color: #434B5C;\n",
              "      --hover-fill-color: #FFFFFF;\n",
              "      --disabled-bg-color: #3B4455;\n",
              "      --disabled-fill-color: #666;\n",
              "  }\n",
              "\n",
              "  .colab-df-quickchart {\n",
              "    background-color: var(--bg-color);\n",
              "    border: none;\n",
              "    border-radius: 50%;\n",
              "    cursor: pointer;\n",
              "    display: none;\n",
              "    fill: var(--fill-color);\n",
              "    height: 32px;\n",
              "    padding: 0;\n",
              "    width: 32px;\n",
              "  }\n",
              "\n",
              "  .colab-df-quickchart:hover {\n",
              "    background-color: var(--hover-bg-color);\n",
              "    box-shadow: 0 1px 2px rgba(60, 64, 67, 0.3), 0 1px 3px 1px rgba(60, 64, 67, 0.15);\n",
              "    fill: var(--button-hover-fill-color);\n",
              "  }\n",
              "\n",
              "  .colab-df-quickchart-complete:disabled,\n",
              "  .colab-df-quickchart-complete:disabled:hover {\n",
              "    background-color: var(--disabled-bg-color);\n",
              "    fill: var(--disabled-fill-color);\n",
              "    box-shadow: none;\n",
              "  }\n",
              "\n",
              "  .colab-df-spinner {\n",
              "    border: 2px solid var(--fill-color);\n",
              "    border-color: transparent;\n",
              "    border-bottom-color: var(--fill-color);\n",
              "    animation:\n",
              "      spin 1s steps(1) infinite;\n",
              "  }\n",
              "\n",
              "  @keyframes spin {\n",
              "    0% {\n",
              "      border-color: transparent;\n",
              "      border-bottom-color: var(--fill-color);\n",
              "      border-left-color: var(--fill-color);\n",
              "    }\n",
              "    20% {\n",
              "      border-color: transparent;\n",
              "      border-left-color: var(--fill-color);\n",
              "      border-top-color: var(--fill-color);\n",
              "    }\n",
              "    30% {\n",
              "      border-color: transparent;\n",
              "      border-left-color: var(--fill-color);\n",
              "      border-top-color: var(--fill-color);\n",
              "      border-right-color: var(--fill-color);\n",
              "    }\n",
              "    40% {\n",
              "      border-color: transparent;\n",
              "      border-right-color: var(--fill-color);\n",
              "      border-top-color: var(--fill-color);\n",
              "    }\n",
              "    60% {\n",
              "      border-color: transparent;\n",
              "      border-right-color: var(--fill-color);\n",
              "    }\n",
              "    80% {\n",
              "      border-color: transparent;\n",
              "      border-right-color: var(--fill-color);\n",
              "      border-bottom-color: var(--fill-color);\n",
              "    }\n",
              "    90% {\n",
              "      border-color: transparent;\n",
              "      border-bottom-color: var(--fill-color);\n",
              "    }\n",
              "  }\n",
              "</style>\n",
              "\n",
              "  <script>\n",
              "    async function quickchart(key) {\n",
              "      const quickchartButtonEl =\n",
              "        document.querySelector('#' + key + ' button');\n",
              "      quickchartButtonEl.disabled = true;  // To prevent multiple clicks.\n",
              "      quickchartButtonEl.classList.add('colab-df-spinner');\n",
              "      try {\n",
              "        const charts = await google.colab.kernel.invokeFunction(\n",
              "            'suggestCharts', [key], {});\n",
              "      } catch (error) {\n",
              "        console.error('Error during call to suggestCharts:', error);\n",
              "      }\n",
              "      quickchartButtonEl.classList.remove('colab-df-spinner');\n",
              "      quickchartButtonEl.classList.add('colab-df-quickchart-complete');\n",
              "    }\n",
              "    (() => {\n",
              "      let quickchartButtonEl =\n",
              "        document.querySelector('#df-36a8b94e-1256-4ffe-b18f-7ffd27ef2697 button');\n",
              "      quickchartButtonEl.style.display =\n",
              "        google.colab.kernel.accessAllowed ? 'block' : 'none';\n",
              "    })();\n",
              "  </script>\n",
              "</div>\n",
              "    </div>\n",
              "  </div>\n"
            ]
          },
          "metadata": {},
          "execution_count": 20
        }
      ],
      "source": [
        "# Calculate the average rating for each product\n",
        "average_rating = df_final.groupby(['prod_id']).mean()['rating']\n",
        "\n",
        "# Calculate the count of ratings for each product\n",
        "count_rating = df_final.groupby(['prod_id']).count()['rating']\n",
        "\n",
        "# Create a dataframe with calculated average and count of ratings\n",
        "final_rating = pd.DataFrame({'avg_rating': average_rating, 'rating_count': count_rating})\n",
        "\n",
        "# Sort the dataframe by average of ratings in the descending order\n",
        "final_rating = final_rating.sort_values(by='avg_rating', ascending = False)\n",
        "\n",
        "# See the first five records of the \"final_rating\" dataset\n",
        "final_rating.head()"
      ]
    },
    {
      "cell_type": "code",
      "source": [
        "final_rating['rating_count'].max()"
      ],
      "metadata": {
        "colab": {
          "base_uri": "https://localhost:8080/"
        },
        "id": "jECsoHzH21a6",
        "outputId": "04d3091e-bc63-4b2a-e2c2-26526e2b6482"
      },
      "execution_count": null,
      "outputs": [
        {
          "output_type": "execute_result",
          "data": {
            "text/plain": [
              "206"
            ]
          },
          "metadata": {},
          "execution_count": 21
        }
      ]
    },
    {
      "cell_type": "code",
      "execution_count": null,
      "metadata": {
        "id": "zKU__5s1xhXi"
      },
      "outputs": [],
      "source": [
        "# Defining a function to get the top n products based on the highest average rating and minimum interactions\n",
        "\n",
        "def top_n_products(final_rating, n, min_interaction):\n",
        "\n",
        "    # Finding products with minimum number of interactions\n",
        "    recommendations = final_rating[final_rating['rating_count'] > min_interaction]\n",
        "\n",
        "    # Sorting values with respect to average rating\n",
        "    recommendations = recommendations.sort_values(by = 'avg_rating', ascending = False)\n",
        "\n",
        "    return recommendations.index[:n]\n"
      ]
    },
    {
      "cell_type": "markdown",
      "metadata": {
        "id": "F8l6373PxhXi"
      },
      "source": [
        "### **Recommending top 5 products with 50 minimum interactions based on popularity**"
      ]
    },
    {
      "cell_type": "code",
      "execution_count": null,
      "metadata": {
        "id": "dBxdLiM_xhXi",
        "colab": {
          "base_uri": "https://localhost:8080/"
        },
        "outputId": "3a99f386-5d25-42dd-97f2-50e61f486993"
      },
      "outputs": [
        {
          "output_type": "execute_result",
          "data": {
            "text/plain": [
              "Index(['B001TH7GUU', 'B003ES5ZUU', 'B0019EHU8G', 'B006W8U2MU', 'B000QUUFRW'], dtype='object', name='prod_id')"
            ]
          },
          "metadata": {},
          "execution_count": 23
        }
      ],
      "source": [
        "top_n_products(final_rating, 5, 50)"
      ]
    },
    {
      "cell_type": "markdown",
      "source": [
        "**Write your observations here:_______**\n",
        "- Top 5 products with 50 minimum interaction based on popularity\n",
        "  - 'B001TH7GUU'\n",
        "  - 'B003ES5ZUU'\n",
        "  - 'B0019EHU8G'\n",
        "  - 'B006W8U2MU'\n",
        "  - 'B000QUUFRW'"
      ],
      "metadata": {
        "id": "1EP0WjelHdOj"
      }
    },
    {
      "cell_type": "markdown",
      "metadata": {
        "id": "l9_xW_UMxhXj"
      },
      "source": [
        "### **Recommending top 5 products with 100 minimum interactions based on popularity**"
      ]
    },
    {
      "cell_type": "code",
      "execution_count": null,
      "metadata": {
        "id": "dZgGZCUoxhXj",
        "colab": {
          "base_uri": "https://localhost:8080/"
        },
        "outputId": "087c541e-cf0a-45b9-8aed-65a2fd58d2c4"
      },
      "outputs": [
        {
          "output_type": "execute_result",
          "data": {
            "text/plain": [
              "Index(['B003ES5ZUU', 'B000N99BBC', 'B007WTAJTO', 'B002V88HFE', 'B004CLYEDC'], dtype='object', name='prod_id')"
            ]
          },
          "metadata": {},
          "execution_count": 24
        }
      ],
      "source": [
        "top_n_products(final_rating, 5, 100)"
      ]
    },
    {
      "cell_type": "markdown",
      "source": [
        "Write your observations here:___\n",
        "\n",
        "Top 5 products with 100 minimum interaction based on popularity\n",
        "  - 'B003ES5ZUU'\n",
        "  - 'B000N99BBC'\n",
        "  - 'B007WTAJTO'\n",
        "  - 'B002V88HFE'\n",
        "  - 'B004CLYEDC'"
      ],
      "metadata": {
        "id": "jHKhHBtjIGbl"
      }
    },
    {
      "cell_type": "markdown",
      "metadata": {
        "id": "BL-m68a15JtT",
        "outputId": "69132b0f-8d3f-4798-f6a0-249e17a3c822"
      },
      "source": [
        "We have recommended the **top 5** products by using the popularity recommendation system. Now, let's build a recommendation system using **collaborative filtering.**"
      ]
    },
    {
      "cell_type": "markdown",
      "metadata": {
        "id": "sJI5kiiGvOOK"
      },
      "source": [
        "## **Model 2: Collaborative Filtering Recommendation System**"
      ]
    },
    {
      "cell_type": "markdown",
      "metadata": {
        "id": "skzc0N1_nVNB"
      },
      "source": [
        "### **Building a baseline user-user similarity based recommendation system**"
      ]
    },
    {
      "cell_type": "markdown",
      "metadata": {
        "id": "d4Uo_MYMnVNB"
      },
      "source": [
        "- Below, we are building **similarity-based recommendation systems** using `cosine` similarity and using **KNN to find similar users** which are the nearest neighbor to the given user.  \n",
        "- We will be using a new library, called `surprise`, to build the remaining models. Let's first import the necessary classes and functions from this library."
      ]
    },
    {
      "cell_type": "code",
      "execution_count": null,
      "metadata": {
        "id": "UJ1wEylUpexj"
      },
      "outputs": [],
      "source": [
        "# To compute the accuracy of models\n",
        "from surprise import accuracy\n",
        "\n",
        "# Class is used to parse a file containing ratings, data should be in structure - user ; item ; rating\n",
        "from surprise.reader import Reader\n",
        "\n",
        "# Class for loading datasets\n",
        "from surprise.dataset import Dataset\n",
        "\n",
        "# For tuning model hyperparameters\n",
        "from surprise.model_selection import GridSearchCV\n",
        "\n",
        "# For splitting the rating data in train and test datasets\n",
        "from surprise.model_selection import train_test_split\n",
        "\n",
        "# For implementing similarity-based recommendation system\n",
        "from surprise.prediction_algorithms.knns import KNNBasic\n",
        "\n",
        "# For implementing matrix factorization based recommendation system\n",
        "from surprise.prediction_algorithms.matrix_factorization import SVD\n",
        "\n",
        "# for implementing K-Fold cross-validation\n",
        "from surprise.model_selection import KFold\n",
        "\n",
        "# For implementing clustering-based recommendation system\n",
        "from surprise import CoClustering"
      ]
    },
    {
      "cell_type": "markdown",
      "metadata": {
        "id": "54MqVAtDTsnl"
      },
      "source": [
        "**Before building the recommendation systems, let's  go over some basic terminologies we are going to use:**"
      ]
    },
    {
      "cell_type": "markdown",
      "metadata": {
        "id": "Qsxb3xhnTsnl"
      },
      "source": [
        "**Relevant item:** An item (product in this case) that is actually **rated higher than the threshold rating** is relevant, if the **actual rating is below the threshold then it is a non-relevant item**.  \n",
        "\n",
        "**Recommended item:** An item that's **predicted rating is higher than the threshold is a recommended item**, if the **predicted rating is below the threshold then that product will not be recommended to the user**.  \n"
      ]
    },
    {
      "cell_type": "markdown",
      "metadata": {
        "id": "moyLUHCuTsnl"
      },
      "source": [
        "**False Negative (FN):** It is the **frequency of relevant items that are not recommended to the user**. If the relevant items are not recommended to the user, then the user might not buy the product/item. This would result in the **loss of opportunity for the service provider**, which they would like to minimize.\n",
        "\n",
        "**False Positive (FP):** It is the **frequency of recommended items that are actually not relevant**. In this case, the recommendation system is not doing a good job of finding and recommending the relevant items to the user. This would result in **loss of resources for the service provider**, which they would also like to minimize."
      ]
    },
    {
      "cell_type": "markdown",
      "metadata": {
        "id": "Yuvc2VaZTsnl"
      },
      "source": [
        "**Recall:** It is the **fraction of actually relevant items that are recommended to the user**, i.e., if out of 10 relevant products, 6 are recommended to the user then recall is 0.60. Higher the value of recall better is the model. It is one of the metrics to do the performance assessment of classification models.\n",
        "\n",
        "**Precision:** It is the **fraction of recommended items that are relevant actually**, i.e., if out of 10 recommended items, 6 are found relevant by the user then precision is 0.60. The higher the value of precision better is the model. It is one of the metrics to do the performance assessment of classification models."
      ]
    },
    {
      "cell_type": "markdown",
      "metadata": {
        "id": "8NLc36Y8Tsnm"
      },
      "source": [
        "**While making a recommendation system, it becomes customary to look at the performance of the model. In terms of how many recommendations are relevant and vice-versa, below are some most used performance metrics used in the assessment of recommendation systems.**"
      ]
    },
    {
      "cell_type": "markdown",
      "metadata": {
        "id": "cqF8fRBqTsnm"
      },
      "source": [
        "### **Precision@k, Recall@ k, and F1-score@k**"
      ]
    },
    {
      "cell_type": "markdown",
      "metadata": {
        "id": "imMJNF0HTsnm"
      },
      "source": [
        "**Precision@k** - It is the **fraction of recommended items that are relevant in `top k` predictions**. The value of k is the number of recommendations to be provided to the user. One can choose a variable number of recommendations to be given to a unique user.  \n",
        "\n",
        "\n",
        "**Recall@k** - It is the **fraction of relevant items that are recommended to the user in `top k` predictions**.\n",
        "\n",
        "**F1-score@k** - It is the **harmonic mean of Precision@k and Recall@k**. When **precision@k and recall@k both seem to be important** then it is useful to use this metric because it is representative of both of them."
      ]
    },
    {
      "cell_type": "markdown",
      "metadata": {
        "id": "jBW4BUhWTsnm"
      },
      "source": [
        "### **Some useful functions**"
      ]
    },
    {
      "cell_type": "markdown",
      "metadata": {
        "id": "QOBHKh0eTsnm"
      },
      "source": [
        "- Below function takes the **recommendation model** as input and gives the **precision@k, recall@k, and F1-score@k** for that model.  \n",
        "- To compute **precision and recall**, **top k** predictions are taken under consideration for each user.\n",
        "- We will use the precision and recall to compute the F1-score."
      ]
    },
    {
      "cell_type": "code",
      "execution_count": null,
      "metadata": {
        "id": "Rxn-GahOTsnm"
      },
      "outputs": [],
      "source": [
        "def precision_recall_at_k(model, k = 10, threshold = 3.5):\n",
        "    \"\"\"Return precision and recall at k metrics for each user\"\"\"\n",
        "\n",
        "    # First map the predictions to each user\n",
        "    user_est_true = defaultdict(list)\n",
        "\n",
        "    # Making predictions on the test data\n",
        "    predictions = model.test(testset)\n",
        "\n",
        "    for uid, _, true_r, est, _ in predictions:\n",
        "        user_est_true[uid].append((est, true_r))\n",
        "\n",
        "    precisions = dict()\n",
        "    recalls = dict()\n",
        "    for uid, user_ratings in user_est_true.items():\n",
        "\n",
        "        # Sort user ratings by estimated value\n",
        "        user_ratings.sort(key = lambda x: x[0], reverse = True)\n",
        "\n",
        "        # Number of relevant items\n",
        "        n_rel = sum((true_r >= threshold) for (_, true_r) in user_ratings)\n",
        "\n",
        "        # Number of recommended items in top k\n",
        "        n_rec_k = sum((est >= threshold) for (est, _) in user_ratings[:k])\n",
        "\n",
        "        # Number of relevant and recommended items in top k\n",
        "        n_rel_and_rec_k = sum(((true_r >= threshold) and (est >= threshold))\n",
        "                              for (est, true_r) in user_ratings[:k])\n",
        "\n",
        "        # Precision@K: Proportion of recommended items that are relevant\n",
        "        # When n_rec_k is 0, Precision is undefined. Therefore, we are setting Precision to 0 when n_rec_k is 0\n",
        "\n",
        "        precisions[uid] = n_rel_and_rec_k / n_rec_k if n_rec_k != 0 else 0\n",
        "\n",
        "        # Recall@K: Proportion of relevant items that are recommended\n",
        "        # When n_rel is 0, Recall is undefined. Therefore, we are setting Recall to 0 when n_rel is 0\n",
        "\n",
        "        recalls[uid] = n_rel_and_rec_k / n_rel if n_rel != 0 else 0\n",
        "\n",
        "    # Mean of all the predicted precisions are calculated.\n",
        "    precision = round((sum(prec for prec in precisions.values()) / len(precisions)), 3)\n",
        "\n",
        "    # Mean of all the predicted recalls are calculated.\n",
        "    recall = round((sum(rec for rec in recalls.values()) / len(recalls)), 3)\n",
        "\n",
        "    accuracy.rmse(predictions)\n",
        "\n",
        "    print('Precision: ', precision) # Command to print the overall precision\n",
        "\n",
        "    print('Recall: ', recall) # Command to print the overall recall\n",
        "\n",
        "    print('F_1 score: ', round((2*precision*recall)/(precision+recall), 3)) # Formula to compute the F-1 score"
      ]
    },
    {
      "cell_type": "markdown",
      "metadata": {
        "id": "_ZmsamDVyek-"
      },
      "source": [
        "**Hints:**\n",
        "\n",
        "- To compute **precision and recall**, a **threshold of 3.5 and k value of 10 can be considered for the recommended and relevant ratings**.\n",
        "- Think about the performance metric to choose."
      ]
    },
    {
      "cell_type": "markdown",
      "metadata": {
        "id": "8hxjJMTwnVNB"
      },
      "source": [
        "Below we are loading the **`rating` dataset**, which is a **pandas DataFrame**, into a **different format called `surprise.dataset.DatasetAutoFolds`**, which is required by this library. To do this, we will be **using the classes `Reader` and `Dataset`.**"
      ]
    },
    {
      "cell_type": "code",
      "source": [
        "df_final.head()"
      ],
      "metadata": {
        "colab": {
          "base_uri": "https://localhost:8080/",
          "height": 206
        },
        "id": "qiWC3WH03kbn",
        "outputId": "c259518b-282e-48e3-a31e-f95156835e10"
      },
      "execution_count": null,
      "outputs": [
        {
          "output_type": "execute_result",
          "data": {
            "text/plain": [
              "             user_id     prod_id  rating\n",
              "1310  A3LDPF5FMB782Z  1400501466     5.0\n",
              "1322  A1A5KUIIIHFF4U  1400501466     1.0\n",
              "1335  A2XIOXRRYX0KZY  1400501466     3.0\n",
              "1451   AW3LX47IHPFRL  1400501466     5.0\n",
              "1456  A1E3OB6QMBKRYZ  1400501466     1.0"
            ],
            "text/html": [
              "\n",
              "  <div id=\"df-8a59d87f-9f98-49bb-a6e4-60bca34e374d\" class=\"colab-df-container\">\n",
              "    <div>\n",
              "<style scoped>\n",
              "    .dataframe tbody tr th:only-of-type {\n",
              "        vertical-align: middle;\n",
              "    }\n",
              "\n",
              "    .dataframe tbody tr th {\n",
              "        vertical-align: top;\n",
              "    }\n",
              "\n",
              "    .dataframe thead th {\n",
              "        text-align: right;\n",
              "    }\n",
              "</style>\n",
              "<table border=\"1\" class=\"dataframe\">\n",
              "  <thead>\n",
              "    <tr style=\"text-align: right;\">\n",
              "      <th></th>\n",
              "      <th>user_id</th>\n",
              "      <th>prod_id</th>\n",
              "      <th>rating</th>\n",
              "    </tr>\n",
              "  </thead>\n",
              "  <tbody>\n",
              "    <tr>\n",
              "      <th>1310</th>\n",
              "      <td>A3LDPF5FMB782Z</td>\n",
              "      <td>1400501466</td>\n",
              "      <td>5.0</td>\n",
              "    </tr>\n",
              "    <tr>\n",
              "      <th>1322</th>\n",
              "      <td>A1A5KUIIIHFF4U</td>\n",
              "      <td>1400501466</td>\n",
              "      <td>1.0</td>\n",
              "    </tr>\n",
              "    <tr>\n",
              "      <th>1335</th>\n",
              "      <td>A2XIOXRRYX0KZY</td>\n",
              "      <td>1400501466</td>\n",
              "      <td>3.0</td>\n",
              "    </tr>\n",
              "    <tr>\n",
              "      <th>1451</th>\n",
              "      <td>AW3LX47IHPFRL</td>\n",
              "      <td>1400501466</td>\n",
              "      <td>5.0</td>\n",
              "    </tr>\n",
              "    <tr>\n",
              "      <th>1456</th>\n",
              "      <td>A1E3OB6QMBKRYZ</td>\n",
              "      <td>1400501466</td>\n",
              "      <td>1.0</td>\n",
              "    </tr>\n",
              "  </tbody>\n",
              "</table>\n",
              "</div>\n",
              "    <div class=\"colab-df-buttons\">\n",
              "\n",
              "  <div class=\"colab-df-container\">\n",
              "    <button class=\"colab-df-convert\" onclick=\"convertToInteractive('df-8a59d87f-9f98-49bb-a6e4-60bca34e374d')\"\n",
              "            title=\"Convert this dataframe to an interactive table.\"\n",
              "            style=\"display:none;\">\n",
              "\n",
              "  <svg xmlns=\"http://www.w3.org/2000/svg\" height=\"24px\" viewBox=\"0 -960 960 960\">\n",
              "    <path d=\"M120-120v-720h720v720H120Zm60-500h600v-160H180v160Zm220 220h160v-160H400v160Zm0 220h160v-160H400v160ZM180-400h160v-160H180v160Zm440 0h160v-160H620v160ZM180-180h160v-160H180v160Zm440 0h160v-160H620v160Z\"/>\n",
              "  </svg>\n",
              "    </button>\n",
              "\n",
              "  <style>\n",
              "    .colab-df-container {\n",
              "      display:flex;\n",
              "      gap: 12px;\n",
              "    }\n",
              "\n",
              "    .colab-df-convert {\n",
              "      background-color: #E8F0FE;\n",
              "      border: none;\n",
              "      border-radius: 50%;\n",
              "      cursor: pointer;\n",
              "      display: none;\n",
              "      fill: #1967D2;\n",
              "      height: 32px;\n",
              "      padding: 0 0 0 0;\n",
              "      width: 32px;\n",
              "    }\n",
              "\n",
              "    .colab-df-convert:hover {\n",
              "      background-color: #E2EBFA;\n",
              "      box-shadow: 0px 1px 2px rgba(60, 64, 67, 0.3), 0px 1px 3px 1px rgba(60, 64, 67, 0.15);\n",
              "      fill: #174EA6;\n",
              "    }\n",
              "\n",
              "    .colab-df-buttons div {\n",
              "      margin-bottom: 4px;\n",
              "    }\n",
              "\n",
              "    [theme=dark] .colab-df-convert {\n",
              "      background-color: #3B4455;\n",
              "      fill: #D2E3FC;\n",
              "    }\n",
              "\n",
              "    [theme=dark] .colab-df-convert:hover {\n",
              "      background-color: #434B5C;\n",
              "      box-shadow: 0px 1px 3px 1px rgba(0, 0, 0, 0.15);\n",
              "      filter: drop-shadow(0px 1px 2px rgba(0, 0, 0, 0.3));\n",
              "      fill: #FFFFFF;\n",
              "    }\n",
              "  </style>\n",
              "\n",
              "    <script>\n",
              "      const buttonEl =\n",
              "        document.querySelector('#df-8a59d87f-9f98-49bb-a6e4-60bca34e374d button.colab-df-convert');\n",
              "      buttonEl.style.display =\n",
              "        google.colab.kernel.accessAllowed ? 'block' : 'none';\n",
              "\n",
              "      async function convertToInteractive(key) {\n",
              "        const element = document.querySelector('#df-8a59d87f-9f98-49bb-a6e4-60bca34e374d');\n",
              "        const dataTable =\n",
              "          await google.colab.kernel.invokeFunction('convertToInteractive',\n",
              "                                                    [key], {});\n",
              "        if (!dataTable) return;\n",
              "\n",
              "        const docLinkHtml = 'Like what you see? Visit the ' +\n",
              "          '<a target=\"_blank\" href=https://colab.research.google.com/notebooks/data_table.ipynb>data table notebook</a>'\n",
              "          + ' to learn more about interactive tables.';\n",
              "        element.innerHTML = '';\n",
              "        dataTable['output_type'] = 'display_data';\n",
              "        await google.colab.output.renderOutput(dataTable, element);\n",
              "        const docLink = document.createElement('div');\n",
              "        docLink.innerHTML = docLinkHtml;\n",
              "        element.appendChild(docLink);\n",
              "      }\n",
              "    </script>\n",
              "  </div>\n",
              "\n",
              "\n",
              "<div id=\"df-ec89d004-376a-4731-a4f7-25459f18130e\">\n",
              "  <button class=\"colab-df-quickchart\" onclick=\"quickchart('df-ec89d004-376a-4731-a4f7-25459f18130e')\"\n",
              "            title=\"Suggest charts.\"\n",
              "            style=\"display:none;\">\n",
              "\n",
              "<svg xmlns=\"http://www.w3.org/2000/svg\" height=\"24px\"viewBox=\"0 0 24 24\"\n",
              "     width=\"24px\">\n",
              "    <g>\n",
              "        <path d=\"M19 3H5c-1.1 0-2 .9-2 2v14c0 1.1.9 2 2 2h14c1.1 0 2-.9 2-2V5c0-1.1-.9-2-2-2zM9 17H7v-7h2v7zm4 0h-2V7h2v10zm4 0h-2v-4h2v4z\"/>\n",
              "    </g>\n",
              "</svg>\n",
              "  </button>\n",
              "\n",
              "<style>\n",
              "  .colab-df-quickchart {\n",
              "      --bg-color: #E8F0FE;\n",
              "      --fill-color: #1967D2;\n",
              "      --hover-bg-color: #E2EBFA;\n",
              "      --hover-fill-color: #174EA6;\n",
              "      --disabled-fill-color: #AAA;\n",
              "      --disabled-bg-color: #DDD;\n",
              "  }\n",
              "\n",
              "  [theme=dark] .colab-df-quickchart {\n",
              "      --bg-color: #3B4455;\n",
              "      --fill-color: #D2E3FC;\n",
              "      --hover-bg-color: #434B5C;\n",
              "      --hover-fill-color: #FFFFFF;\n",
              "      --disabled-bg-color: #3B4455;\n",
              "      --disabled-fill-color: #666;\n",
              "  }\n",
              "\n",
              "  .colab-df-quickchart {\n",
              "    background-color: var(--bg-color);\n",
              "    border: none;\n",
              "    border-radius: 50%;\n",
              "    cursor: pointer;\n",
              "    display: none;\n",
              "    fill: var(--fill-color);\n",
              "    height: 32px;\n",
              "    padding: 0;\n",
              "    width: 32px;\n",
              "  }\n",
              "\n",
              "  .colab-df-quickchart:hover {\n",
              "    background-color: var(--hover-bg-color);\n",
              "    box-shadow: 0 1px 2px rgba(60, 64, 67, 0.3), 0 1px 3px 1px rgba(60, 64, 67, 0.15);\n",
              "    fill: var(--button-hover-fill-color);\n",
              "  }\n",
              "\n",
              "  .colab-df-quickchart-complete:disabled,\n",
              "  .colab-df-quickchart-complete:disabled:hover {\n",
              "    background-color: var(--disabled-bg-color);\n",
              "    fill: var(--disabled-fill-color);\n",
              "    box-shadow: none;\n",
              "  }\n",
              "\n",
              "  .colab-df-spinner {\n",
              "    border: 2px solid var(--fill-color);\n",
              "    border-color: transparent;\n",
              "    border-bottom-color: var(--fill-color);\n",
              "    animation:\n",
              "      spin 1s steps(1) infinite;\n",
              "  }\n",
              "\n",
              "  @keyframes spin {\n",
              "    0% {\n",
              "      border-color: transparent;\n",
              "      border-bottom-color: var(--fill-color);\n",
              "      border-left-color: var(--fill-color);\n",
              "    }\n",
              "    20% {\n",
              "      border-color: transparent;\n",
              "      border-left-color: var(--fill-color);\n",
              "      border-top-color: var(--fill-color);\n",
              "    }\n",
              "    30% {\n",
              "      border-color: transparent;\n",
              "      border-left-color: var(--fill-color);\n",
              "      border-top-color: var(--fill-color);\n",
              "      border-right-color: var(--fill-color);\n",
              "    }\n",
              "    40% {\n",
              "      border-color: transparent;\n",
              "      border-right-color: var(--fill-color);\n",
              "      border-top-color: var(--fill-color);\n",
              "    }\n",
              "    60% {\n",
              "      border-color: transparent;\n",
              "      border-right-color: var(--fill-color);\n",
              "    }\n",
              "    80% {\n",
              "      border-color: transparent;\n",
              "      border-right-color: var(--fill-color);\n",
              "      border-bottom-color: var(--fill-color);\n",
              "    }\n",
              "    90% {\n",
              "      border-color: transparent;\n",
              "      border-bottom-color: var(--fill-color);\n",
              "    }\n",
              "  }\n",
              "</style>\n",
              "\n",
              "  <script>\n",
              "    async function quickchart(key) {\n",
              "      const quickchartButtonEl =\n",
              "        document.querySelector('#' + key + ' button');\n",
              "      quickchartButtonEl.disabled = true;  // To prevent multiple clicks.\n",
              "      quickchartButtonEl.classList.add('colab-df-spinner');\n",
              "      try {\n",
              "        const charts = await google.colab.kernel.invokeFunction(\n",
              "            'suggestCharts', [key], {});\n",
              "      } catch (error) {\n",
              "        console.error('Error during call to suggestCharts:', error);\n",
              "      }\n",
              "      quickchartButtonEl.classList.remove('colab-df-spinner');\n",
              "      quickchartButtonEl.classList.add('colab-df-quickchart-complete');\n",
              "    }\n",
              "    (() => {\n",
              "      let quickchartButtonEl =\n",
              "        document.querySelector('#df-ec89d004-376a-4731-a4f7-25459f18130e button');\n",
              "      quickchartButtonEl.style.display =\n",
              "        google.colab.kernel.accessAllowed ? 'block' : 'none';\n",
              "    })();\n",
              "  </script>\n",
              "</div>\n",
              "    </div>\n",
              "  </div>\n"
            ]
          },
          "metadata": {},
          "execution_count": 27
        }
      ]
    },
    {
      "cell_type": "code",
      "execution_count": null,
      "metadata": {
        "id": "rGfYDiOCpe4X"
      },
      "outputs": [],
      "source": [
        "# Instantiating Reader scale with expected rating scale\n",
        "reader = Reader(rating_scale = (0, 5))\n",
        "\n",
        "# Loading the rating dataset\n",
        "data = Dataset.load_from_df(df_final[['user_id', 'prod_id', 'rating']], reader)\n",
        "\n",
        "# Splitting the data into train and test datasets\n",
        "trainset, testset = train_test_split(data, test_size = 0.2, random_state = 42)"
      ]
    },
    {
      "cell_type": "markdown",
      "metadata": {
        "id": "DmHTEt7TnVNC"
      },
      "source": [
        "Now, we are **ready to build the first baseline similarity-based recommendation system** using the cosine similarity."
      ]
    },
    {
      "cell_type": "markdown",
      "metadata": {
        "id": "SVDfVHB4tQfU"
      },
      "source": [
        "### **Building the user-user Similarity-based Recommendation System**"
      ]
    },
    {
      "cell_type": "code",
      "execution_count": null,
      "metadata": {
        "id": "vO3FL7iape8A",
        "scrolled": false,
        "colab": {
          "base_uri": "https://localhost:8080/"
        },
        "outputId": "0c381403-30d8-42d0-848f-281cae8297db"
      },
      "outputs": [
        {
          "output_type": "stream",
          "name": "stdout",
          "text": [
            "RMSE: 1.0012\n",
            "Precision:  0.855\n",
            "Recall:  0.858\n",
            "F_1 score:  0.856\n"
          ]
        }
      ],
      "source": [
        "# Declaring the similarity options\n",
        "sim_options = {'name': 'cosine',\n",
        "               'user_based': True}\n",
        "\n",
        "# Initialize the KNNBasic model using sim_options declared, Verbose = False, and setting random_state = 1\n",
        "sim_user_user = KNNBasic(sim_options = sim_options,\n",
        "                         verbose = False, random_state = 1)\n",
        "\n",
        "# Fit the model on the training data\n",
        "sim_user_user.fit(trainset)\n",
        "\n",
        "# Let us compute precision@k, recall@k, and f_1 score using the precision_recall_at_k function defined above\n",
        "precision_recall_at_k(sim_user_user)"
      ]
    },
    {
      "cell_type": "markdown",
      "metadata": {
        "id": "nEuJK_A9Tsnn"
      },
      "source": [
        "**Write your observations here:__________**\n",
        "- Precision:  Out of all the predictions being made to the users in the test data, where we made 10 predictions per user, 85.5% of the prod_id were relevant.\n",
        "\n",
        "- Recall:  Out of all the relevant prod_id for the users in the test data, 85.8% of the restaurants out of those were recommended."
      ]
    },
    {
      "cell_type": "markdown",
      "metadata": {
        "id": "reFD0-nsnVNC"
      },
      "source": [
        "Let's now **predict rating for a user with `userId=A3LDPF5FMB782Z` and `productId=1400501466`** as shown below. Here the user has already interacted or watched the product with productId '1400501466' and given a rating of 5."
      ]
    },
    {
      "cell_type": "code",
      "execution_count": null,
      "metadata": {
        "id": "Sxd23bZ9pe_x",
        "colab": {
          "base_uri": "https://localhost:8080/"
        },
        "outputId": "c319ff61-6c88-483f-89fa-9c7700a8a858"
      },
      "outputs": [
        {
          "output_type": "stream",
          "name": "stdout",
          "text": [
            "user: A3LDPF5FMB782Z item: 1400501466 r_ui = 5.00   est = 3.40   {'actual_k': 5, 'was_impossible': False}\n"
          ]
        },
        {
          "output_type": "execute_result",
          "data": {
            "text/plain": [
              "Prediction(uid='A3LDPF5FMB782Z', iid='1400501466', r_ui=5, est=3.4, details={'actual_k': 5, 'was_impossible': False})"
            ]
          },
          "metadata": {},
          "execution_count": 30
        }
      ],
      "source": [
        "# Predicting rating for a sample user with an interacted product\n",
        "sim_user_user.predict(\"A3LDPF5FMB782Z\", \"1400501466\", r_ui = 5, verbose = True)"
      ]
    },
    {
      "cell_type": "markdown",
      "metadata": {
        "id": "ENJcqG_wemRH"
      },
      "source": [
        "**Write your observations here:__________**\n",
        "- The above output shows that **the actual rating for this user_prod_id pair is 5 and the predicted rating is 3.40** by the **user-user-similarity-based baseline model**. This implies that the model is under-estimating the ratings."
      ]
    },
    {
      "cell_type": "markdown",
      "metadata": {
        "id": "cj6ecbglTsno"
      },
      "source": [
        "\n",
        "Below is the **list of users who have not seen the product with product id \"1400501466\"**."
      ]
    },
    {
      "cell_type": "code",
      "execution_count": null,
      "metadata": {
        "id": "xCRBMD-RTsno"
      },
      "outputs": [],
      "source": [
        "# Find unique user_id where prod_id is not equal to \"1400501466\"\n",
        "lt = df_final[df_final.prod_id != \"1400501466\"].user_id.unique()"
      ]
    },
    {
      "cell_type": "code",
      "source": [
        "for i in lt:\n",
        "  print(i,end=',')"
      ],
      "metadata": {
        "colab": {
          "base_uri": "https://localhost:8080/"
        },
        "id": "FcI547L29iNs",
        "outputId": "0ebecda9-3bbf-4286-fb03-ba13802a0168"
      },
      "execution_count": null,
      "outputs": [
        {
          "output_type": "stream",
          "name": "stdout",
          "text": [
            "A2ZR3YTMEEIIZ4,A3CLWR1UUZT6TG,A5JLAU2ARJ0BO,A1P4XD7IORSEFN,A341HCMGNZCBIT,A3HPCRD9RX351S,A1DQHS7MOVYYYA,ALUNVOQRXOZIA,A19N3S7CBSU6O7,A3G7BEJJCPD6DS,A2JXS1JII6SAUD,A1C82BC5GNABOA,A1VHCO8RQFIGQJ,A2Z9S2RQD542CP,A2QIC4G483SQQA,A3L6L5O89JTX2T,A1OGCPMSIVK7G4,A18HE80910BTZI,A3F9CBHV4OHFBS,A1T1YSCDW0PD25,ABVYGB2TKBO8F,A11ED8O95W2103,A3NCIN6TNL0MGA,ASHJAZC9OA9NS,A105TOJ6LTVMBG,A14JBDSWKPKTZA,A3QX0ERX4D03TF,A13WREJ05GMRA6,A3N8O68DOEQ2FE,A3J8A5L5AF5TX9,A2HRHF83I3NDGT,A1R3GN9MEJFXM3,A3963R7EPE3A7E,A2JOPUWVV0XQJ3,AAW7X3GRD8GY9,A3V8P0O224OBDB,AY6A8KPYCE6B0,A212MDP6K4VJS5,A28X0LT2100RL1,A1V3TRGWOMA8LC,A1NZLRAZJGD99W,A1522TN5FVJL0Y,A3UXW18DP4WSD6,A3CW0ZLUO5X2B1,A3TBMGNSEQBWIL,AEZJTA4KDIWY8,A22CW0ZHY3NJH8,A2V7EO331SFUF6,A3977M5S0GIG5H,A1F1A0QQP2XVH5,A231WM2Z2JL0U3,A2JWF9IG8PJAOA,A3LWC833HQIG7J,A38RMU1Y5TDP9,A3D822N1K2IAQD,A33775AIB1A664,ARXU3FESTWMJJ,A3A15L96IYUO6V,A3PGVJF37JSHFO,A2WJ5XSE4I9F55,A1V5TRJXTI6F01,ATOKT8QYK967L,ANRS196NKFVUU,A3639Z6O5JBLIZ,A3ER6ARJ23CIN8,A33152QEGO2MZN,A3HRDRQ5VAFPQS,A1KY5G5FP31F2F,A1MQQEM7W77L62,AUCIFMWP3DU8R,ALHC64J88LVWO,A2PC9ZZIFV31B1,A54S9CIUV5VNB,A1XE3M22N91451,A313H6238N589,A3SDJ70H00OQCJ,A2WB7LZ595CR50,A356RFKNIG043B,AW6A4PPENVZY3,A149RNR5RH19YY,A32LX4XJ2LU740,A1J75JJ0Q2OEJN,A6FIAB28IS79,A2RWHTNM5P3I8Y,A3077MQTAKOVFZ,A1FF2PLA84KNAE,A1CM4HI4S5P0WO,A3775OP5VTX5ON,A2QAOP52OEB5EV,A1KD8NJPZ01R37,A7Y6AVS576M03,A1B6O7SAIYG2N0,A1KDUQ2HU0WD68,A3RGHO0Q938FRS,A4GGT6O0GQNV2,A1LHMSY3Q46PJS,A18EA7MNLXP9H5,A1U5IJHJK84S54,A1B4MIXYVIKMU2,A2BMZRO0H7TFCS,A2EZTM9WY5B5IL,A298GL2D0BHGKZ,A34LQ791ACZ0JC,A1ZM846Y7AUYD,A2IIAQ7VVAHXTD,A1U4GOVZWL8ZTL,A2MCRCK1V61FWQ,A1F9Z42CFF9IAY,A32AFX2PUJ82HG,A3EQQHWJ1EEYEU,A2QI2JHSIQ3SN3,A506HOOCVL8GW,A3GQY0TFRG0MPZ,A54SG05AV6S4H,A1URXSRV6WDHVY,A1B8EJQU73YGL9,A2WLNSZ9U0T1S3,A2T3S3VTW65VO5,A1V4VVBQBFXRHC,AKT8TGIT6VVZ5,A1MJMYLRTZ76ZX,AS8C336DDLSO4,A32QOZWIKQDNZX,APQQK1V695AUE,AW68KVDV7BBRS,A2MOJANFPX353G,A3OXHLG6DIBRW8,A2AF0NOCM71J0B,A250AXLRBVYKB4,A2EF8N7ZE7ONWX,AE88D7OM7YU99,A3J2YU2D9BH2J7,A4IL0CLL27Q33,AAR7CEPXYJA0T,A100WO06OQR8BQ,A3NGOG8Z78AZSD,A1R19YYR5OR26T,A2MOD50IHEDH3G,A3TAS1AG6FMBQW,AHIK7BUXFRMT8,A23GFTVIETX7DS,A36K2N527TXXJN,A3HC7NWLKCPX4X,A1EH2S92FHWZRP,AZOK5STV85FBJ,AHNHLGKIZ2N3B,AN81JUYW2SL24,A3QMJMTLJC34QC,AT2J7H5TRZM8Z,A3NHUQ33CFH3VM,AYMD77ITD15PT,A1IU7S4HCK1XK0,A2NYK9KWFMJV4Y,A1D27BCSYV7VWH,A1BC62X6HZJGZR,A34UVV757IKPVB,A2ED50E3KWKUKW,A21NS06GDEA3V0,ASJSX783R5HTZ,ADOR3TR7GDF68,A15XI2BEGGFEOW,AZCE11PSTCH1L,A6VPK7X53QNAQ,A1VJ0V58N0698J,A30J7WQV0ZNRXG,A2IFGGXG3YV3Y6,AEJAGHLC675A7,A259MPG6SOL02P,A1RPTVW5VEOSI,A1U5NWJOYH2QQH,A1AQ8JT2A3UWMY,A2SKEQT0WTB954,ARC5ASW9CUAGP,A3AGQAXTX6VRJ3,A1R377IPZOKLMM,AZAC8O310IK4E,AJCR7L4AXL2OG,AGEWOMQ90BV8R,A3EP26M3QHINXT,A1ODOGXEYECQQ8,A2AEZQ3DGBBLPR,A1TDR7Y90SVCHL,A87CILADRIZW0,A3EZEP0FX5BC1P,ATDE9JYCPI0L1,A2X8KN82L07RSK,AMKNPIDFLRFMP,A3GFQHHVMEAIO,A1JWSDDIH5Z7DV,A2SL5IW096Z2BL,AUITG1DJ3QUGK,A3TPNC3TKGCCEI,A1EXGL6L0QQ0M5,A2B7BUH8834Y6M,A1GNYV0RA0EQSS,A1SDPA1J98UP4L,A225G2TFM76GYX,A19W47CXJJP1MI,A1Z7U9K6X3FEOU,A1L1N3J6XNABO2,A1SX9PHJWTDMF9,A1GBT4UN2RW7XY,A35W3JQYP0M655,A3TA1UJWRJF9NC,A35HUT8MQMT21L,A2R6RA8FRBS608,A2HDTOF8222KN3,AT28RL25Q2OLK,A11D1KHM7DVOQK,A3T7V207KRDE2O,A3FS3FJPD3RJTD,AN9CP6J4JF91X,A145LBW8ZHF0TW,A365PBEOWM7EI7,A2HMF8ZR67BNZS,A4WEZJOIZIV4U,A1C5WS021EL3WO,A17Z0LVY96TO53,A2UQK3DAZ8NO2T,A5KMMY627T3W,A5MCDQ60DWUEV,A1HSM98KUGTHNY,A2PK64OVZA1U8Z,A3R1GJY2MY8041,A1X3DA7C61WZLQ,A1YVO5V1SO18DZ,A12DQZKRKTNF5E,A74UT8IQCM0I2,A30XZK10EZN9V4,A203OCQQ12MAVT,A26CPEEWB2WKRE,A2XX2A4OJCDNLZ,A11KZ906QD08C5,A2J3VCGBNDLAKF,A1ZTR0FR5AW9B4,A25TNBMJ4ZO7RD,A14I1F2H7NOYDC,A3CFU12GS5CZCN,A1V4A5U5O3TMMD,A3PD8JD9L4WEII,A1FDV3WPOHREY9,A194Y47BF3CUTJ,A26LD9FQHTM8ZH,A3QDY9I0CNMD2W,A2J0IBS4PFRO2C,A3SX5MZTCZRQLF,AGXV8E7XK9J6H,A10Y058K7B96C6,A3Q4TYJVAM4IRM,A3PJJTAKISAFI9,A3REK3OFONWB1Q,A3L9E0YI7C5G0W,A1H98YV5K5BUX0,A4UGMKUSX9XHI,A3P4T1DKRWTL36,AQNSQW4495SG0,A21T0D2F7SKG5S,A3OYO7B6SS7QLH,A23E9QQHJLNGUI,A3QU3O79AGNWCY,A2GMZZ6TDYOHY7,A3TR3KLL5PXSZ8,AHF4I1FSIHABC,A1RJKTYC03L0JY,A2ARDVMUGDFED6,AIJQU979J6UFY,A3EPJSPH03AS29,A1N3EH28S4DI8L,A2DS9DLMSU2M2Z,A24HWYHR28JJ7A,A25C2M3QF9G7OQ,A30C8WHQ2CYFO4,A2W9GX82SLKROQ,A3EZFFPVS34AMO,AAQ9NJ480N9W5,A2PY5ED630H0QJ,A3CEUT263RNUDO,A1PSVZBM894R5H,A2XU6J41ZQOJ2V,A3N4VTNFPMTHEF,AQ55H30MZSV0Q,A11R5VW7IM6ISQ,A2NP9CGUSFP22E,A1D9V11QUHXENQ,A9BWUH9XKZ2DQ,A17W0GMB0YY83M,A3IOQ7NVVLAUEE,A1X1CEGHTHMBL1,A3V0YR50F1XSKP,A1CMD08Z49PGKQ,AN2IZT80ZUNJN,A1CMWB7AWQUQH4,A2Y3WWPUKIJ59I,A3QDMDSANPYGUX,A3DQWFWINN3V5A,A2NX6MFZP8TM6S,A100UD67AHFODS,A1QRST0A3IQIEF,A2WBVO6X3KPMDT,AOMEH9W6LHC4S,A3QQGPI3CTV9SX,A141OPVE376YFI,ARBKYIVNYWK3C,A3S0DBBR693O06,A215IN14OKAE2T,A2OOXVZ6B1VZ9A,AD9ZL63H0VKCZ,A3H4S6YO9VNGDZ,A3QUDXLOJTKEP9,A1H4IVXNXWWBLV,A16HXVNPU5TCGE,AZ515FFZ7I2P7,A20WUUD9EDWY4N,A1REY92IEZJUSX,A253IOATGMT2UP,A3G007LQX6KGOD,ABMN74TBW5UWE,A38NELQT98S4H8,A38NHXL5257E3B,A19X4BF861LQST,A2BGZ52M908MJY,A7QMQBGJ2TCQG,A2ZRMCRLDSUX6R,A2EMUM49CE0JV4,A1IG1I6MR3HAWA,AA8RBTN3J2F5H,AK3GKIV8DEY8B,A2YRX8J4WM5BRX,AU627A4UGIW6V,A16RL0RMRF974O,AR8LWDT6TUKNZ,A32T2H8150OJLU,AHR86ZEYETLJI,A11P105WVK5240,AU2UJF4I7KAWL,A9Y5O2R4D6EH5,A32482Z7XIKDQX,A2FXBWR4T4OFQ,A3DOPYDOS49I3T,A1FLJCHN5CG5M5,A1NNMOD9H36Q8E,A1FXT4VNDA25LY,A1PV5T5S4D5NPI,A3E68EBGXTWDNP,A2YEZ8Z3BW2SKG,A3TRY87JJCA5Y8,ANXEW7IDYDJEH,A1SFPA80X7TRBR,AFR9GYKAHM37U,AWH2AY17ZU7W2,A2ALRZ0ENQLYY5,A3PU3EDJ2FG1AW,A2Q7OJTVPIO2XH,A1VVRA3P6G1TWH,AH3LF9RAD1O2V,A30ADSBTWCORYC,A8X478DM3KAWM,A376OJHLE6SU9Q,A1VQHH85U7PX0,AGVWTYW0ULXHT,A1ZVFCPHCWFV71,AEAFHD09X8044,A12ANFNOSMW5VD,A28RSMADFCBJDT,A2TA40MV2H4O6F,A1VRANSQ0WF1YS,A2XRMQA6PJ5ZJ8,A3FPSY1M6G7XIB,A2NOW4U7W3F7RI,A1MFAPVBW9BEGD,A2J8T58Z4X15IO,A1TQZUSOU22E9M,A1XXMNLOLKNO0I,A197T2N6RU7K56,A3JU16JTNLVK1J,A3TBMAWIIHKHFN,A27H61OHW44XA7,A20G074MWH9U7O,A22R9L5DAVYYWR,A33HIV8RXRDM88,AAEVGE52KL0DJ,A1VLE2SH9J8WYS,A2GYV87WW0DMSN,A1LA4K5JF78BER,A1QVFHPY8418HC,ADLVFFE4VBT8,A33SX0AD5PYD9B,A1E55W6ES0FY17,A31N0XY2UTB25C,A314KKDIJWCNMV,A2LEIANN1UZTHP,AT6CZDCP4TRGA,A3D7BGK0P5QY0X,A33ZYFE8XMKKR1,A1KWPIORLG2QV,AUBEFRFHJR64Y,A2V5M5EJPOD2IU,A200DY76VXVGP9,A3EFSLEMHNPP6A,AWNJAY0M5UI70,A2SATO5BNKWY3Y,A2F7CSE6KT7NI4,A10X9ME6R66JDX,AXU8RH1DEV21H,A19HT7YC1UW3D6,AD8DLOGHAXL,A16CVJUQOB6GIB,A1MFPAM9TTRTXN,AROQO2VDODT7,A2LCE1D0TW2XY0,A16SRDVPBXN69C,A3OA4DV4L81N1D,A2T689YVOAYGGD,A2RIL2NXHE00AQ,A1ILWPH1GHUXE2,A2NSMJVQY0RV9S,A1QNYLBG73QRNF,A31ICLWQ9CSHRS,A3FKQQTSMHOCE0,A3Q1J68QY1MZQ9,AZNUHQSHZHSUE,A1EKSETIBS9ETQ,AQ3IN3MRXQ5KH,AWJWCKB92RJX2,A1OMXVXXP07F05,A34VRVI4CSI5RQ,A17HMM1M7T9PJ1,A2D1LPEUCTNT8X,A23D13HKTA95WX,A3IUW081KXD3PE,A11ULAZ4B5ZXC8,A23NSKTMSPPBTR,A19XMHRB3G4DIR,AG0PM9IAHQ06C,A22S7D0LP8GRDH,A9J4UURM4OSDW,A2DF62DP20RIXF,ACSX5AIZE3MJ9,ADHA1W879JNT0,A3NOBH42C7UI5M,A22MANL4US4RMY,A19FRW264WZTGP,A3CJ7MHAS9IMAM,A3KTWUXXB8KKC7,A3FEJ8H2VTN0OJ,ATNOI7E8GTIVE,AMUP8DYE7EAN2,A3INN916E4VION,AOWF9T81XMX2S,A2Y29IRSI08F0I,A196JN53PG0C7R,A2L4W1M5YU5QX3,A6VXZ1EEPRTLV,AV10H5K6VPQIJ,A2UEB48LAWFUCW,A26BDXG9KVH7SU,A3IY316DRNF5F2,ATS2855497V0I,A1XB7JGJ459ERP,A2NOIWPJDD7WIQ,AC6Z7DP1Z5GHD,A15G70V9OBTOVO,A35HNL2VEDK9Z1,A15QYHQH80W30L,A1SHHQSPOWR00F,A324X7RVDAV3FT,AGXMC3ITWZASE,A294BKN913UOGP,A3QNX5KWHDV0GD,A1FR68QH6Z4YZM,A33YZNZIRA3H97,A3O5ASFUXC32UA,A2LXX47A0KMJVX,A2VODABWSVHV8E,AGOH8N902URMW,ACYZXQ2JKPZKT,A2SYAQXJGRY3XE,A1435P5AMCPB3X,ABDR6IJ93HFIO,A1F5O1USOUOOXI,A2RW587355CMVA,A1Q5P5ML3176C0,AY3XPKRAMKKY7,A1PAGHECG401K1,A2D1ZQEFS1NBH2,A10O7THJ2O20AG,A5Q1FK0FWU7DH,A96JD9312DHWC,ADKGE078JK8K7,A27QXQQOLAMRRR,A35X2JJI49OBZP,AU3GYRAKBUAEU,AWZR0O65DL2Q,A2XJMQ2COPGWJH,A8X8D4BUY5DFU,A1PN2U0AWXGVML,AR1T36GLLAFFX,A2RU4U1JZ3DMP5,A12LH2100CKQO,AGHZXQL9F94T9,A3R33KMESG0XGQ,A2FWZ58M6IQMD7,A4H4KYSM2KQ85,A1BT6TL7UCIC5Y,A1PL7QILVQV3IF,A2TN0U8173HM7A,ATFBVUXDIRXT6,AOJA1LC8PN7K1,A1P3DDFL423B3C,A3G5MOHY1U635N,A3NXJDNTQK2YJL,AI2AOCTC8BQVZ,A3NVZTGPORNPRW,A3L1VJMHFWONCB,A2CWUM49ZWMGEY,A2BLFCOPSMBOZ9,A233TZONT1OGR0,A15TABNGK6L4N3,A2PJH18W4XHTZW,A370XYLIZCSK1Y,AZMY6E8B52L2T,A1MFVAHTT2BHM0,A1BJOHHLG0D965,A38Z6QG6988WS7,AAK6SOEJY30YG,A1QQA7Y92L4F9R,A3NKRH3TJ4DPVI,A39137LW12KK7B,A3D2VIUT2HWP0Z,AI8EMB0HUC6Z5,A335QXPTV1RIV1,A3EXWV8FNSSFL6,A2NX6PABLIJLP1,A3BI8BKIHESDNQ,A1MRPX3RM48T2I,A3FFZQKCA7UOYY,AOQLV2LSI9B2W,A2UTZ4O5E2W4DK,AGYH5U11ZKPFB,AWPODHOB4GFWL,AKBVYIIHWI04B,A1G5MI2KREPEIB,ABMF4UC4Z00NT,A3V15SFD7918WZ,A213J54E63SYOP,A2JP9E1H0SF392,AEL6CQNQXONBX,AS7J4952JB5XR,A1CPRP3VFJRS1R,AFM7FK7NFEKFZ,A1LAGS8H4A2DR7,A1DO9LRCO23EOM,AULFLNWJP1QXY,AQM0K7MBBT4AY,A1AWL9JASMG904,A30JPZ9TZ7I61U,A2JRDFIGWTX50J,AHROSV6WJOEGY,A2AC6GQ24S45GA,A16QODENBJVUI1,A3Q6ZPW60CVF2L,A377LPVLLAI42D,A3SL0HA6422W4M,ANW6EGY12V5XS,A2HXE29CU1I24Y,A2NJQF2UI60VGT,A2GKMXRLI7KLFP,AG35JCCQWDRCS,A1Y4EWMUTW73GD,A11EXFO14WEJM1,AH5BCMZELZSKG,A37IRE9GZ0CZ7I,A35A2RWUMC737N,ANYC38I00IRVK,AB094YABX21WQ,A2PL06HW6KZH2,AMFXXAOVV4CPJ,A3KCETSIJNOK56,A1QLQCJVGCQPP0,AL42PIIG5DXYD,A14Z6D3IRJ23F7,AFXTKAO0CB354,AWSK1ZAEU1KFL,A3JNBO7H2SPL44,A8CKH8XB33XGN,A37CEYB95LK6R6,A3V5F050GVZ56Q,A2RGA7UGAN3UL7,A1OO9N1MRNQ7K0,A2J7FHZFKOKGZ6,A3QRR8PSCBI07C,AK9BXHEXOOM6Z,A2ZDY0V4Q1SZD7,A1EOTB1WHLSW6G,A185O1MX1RP964,A23ZXHFLC6TBLD,A1VR1HIOVQWN09,A1B0NL8UWAELI7,A24P4E3RJ6AX94,A1WJ3P43SZUNDM,A2KYRPDKVBI2R4,A2L42QEWR77PKZ,A3SRDVCD2ATIIS,A3CG93783LP0FO,A3NYBI5VMVEEIK,A87N6UTYA6NOB,A3U6J0DLLDEWM2,A2QDOJFFLFGF18,A2BX8DDQGCCG2J,AG7EF0SVBQOUX,ACJT8MUC0LRF0,A13WOT3RSXKRD5,A1NGFGBX2VCQS8,A3KNGMX2RVQG91,AZBXKUH4AIW3X,A3IRA0BHI9NE9U,A22NKFOH9RATRC,AFM2J3HJNPIHV,A2YYHSORXIHZCS,A38CHSS1ZAE51B,AYB4ELCS5AM8P,A23WPWLYT3P1CZ,A3O1FVLUD9X1XC,A19EKT8H85AKO5,A7EJERNB7IK3Z,A3NEAETOSXDBOM,A2ER8G4JJJ7XER,A1MCH5RXDOH87H,A1AH8033GWKBY7,AKSFZ4G1AXYFC,ACY9QYNDFLVBI,A35SNSDRNE9P8Q,A2LLSFQO8O8XNW,A2CPP7BZKOF9TP,A3A4ZAIBQWKOZS,A2L36AGL8CKY3D,A24J2Y1O22JYZX,A2XXBZPQT5EXHV,A2UOHALGF2X77Q,A3F3B6HY9RJI04,AT09WGFUM934H,ABUE0ALHKWKHC,A2NSXY5L42ZUGO,AQR4HPVSOPS08,A3LSEIG2PIJYBL,AUK79PXTAOJP9,A16WP8NTPYB0ZM,A2MIP3AQVSF2SS,A3MU9G6YWKTGTA,APOGXH3A74CM3,AY4EXFOO43C3S,A2MR696ZU17F12,A2NQMVTQ4PVLL,A680RUE1FDO8B,A2PICNZWHEINQC,A1ZXMMQPYC3Z9I,AEWYUPCNDV7HY,A3M82NO6OU1FHS,A1UEL5C1N6E5SE,A23ONMGKEWDG4M,A30X750M8V1XXW,A32HSNCNPRUMTR,A3CP3J7OEGQMD5,A1OES7R7FDAT2L,A2Y1WNETD9AYHO,AD0J5KK4WQXNS,A3R4794K2RVU1S,A1KXJCXS6HFRQZ,A2WDCAMKCCP1UR,ABE5E8B3J7MKY,A1ZU55TM45Y2R8,AR74YY08IP2WE,A8WEXFRWX1ZHH,A1Y051MQ2SVPFI,A2X06FP2PQ6EK0,A1CST2WUA32GP0,A2LF07KCXDR70D,A1Z4GII5CHCDG7,A2XAKGRUHIE2ZA,AFHYEO3Y1IIDD,A124WZCUIH2T7W,A28I5UM0FT3I6T,A3HXGSMCIOZEW8,A28LUOEY0ECT9G,A2A4X545ERLS7H,AHS6PX6H22WW1,AQIJ3ZEEVCIKU,A1MZL91Z44RN06,A1ROUMJOGO4QMB,AYP0YPLSP9ISM,A37D1ZP8GBHE38,A20DZX38KRBIT8,A1ZCSSCAGBCD49,A3LGT6UZL99IW1,A3AYSYSLHU26U9,A2LW5AL0KQ9P1M,A35IX2GE0VC0JP,A17BUUBOU0598B,A3W4D8XOGLWUN5,A240FRPD4MEXND,A1VS1LL905P5L5,A3V6Z4RCDGRC44,A19RGDJPNZ7NZ,A2VAD79S4A06DD,A2IFKH3TJ10387,A1LYMYNURB9EWW,A2KOV8XWZOZ0FQ,AAA0TUKS5VBSA,A1I96OYAUJ3HQE,A1L64KDYO5BOJA,A2D0CO1OA6DSWY,A2Z2MUP8JRJXEU,A21S26XYPGXJZX,A2PSD2R9A1CXG7,ACHTDPEQYSEQL,AQ2FC1DLKVD8H,A24ARANWS5E3T8,AYCAIHABPYWVJ,A2RTVGR9B1M600,A6KL17KKN0A5L,A3BACUOZV1M0WM,A1NJHKPHD4YWZV,A1DB5QPH7WO488,A1987V5OCO6QHS,A362FM6FYA1SYS,ALNE7Q71JFC0F,AV9PIER7NE448,A7KBAXO177NND,A1L5TA5UQF7EWE,A6XLG77BC9R8R,A2J8DE8R94ZB02,A3CMO216CWOF5N,A3GVXKCTFN3YDN,A1TQBAHI3M4ZBQ,A28621TSIR5EOG,A9ELHLPXF7JKD,AETQIN7OH0RL9,A27M75LRSJ788H,A2BYV7S1QP2YIG,A2OKRGHIYTBQ6P,A2F2GLVFRNV7JJ,A2I357I10ZY7CI,A25FL6VLD7S23S,A33PVCHCQ2BTN0,A1PM7HH4F77NEH,AL1XV4L25FZ2S,A3V7D0LH8L7BG0,A2YHXGPCTENZY3,ABH9D1TEOJ56E,A3MQAQT8C6D1I7,A274MXTX3DYLUV,A38KK0SZYEH5UD,A206CGM6J75UJY,A2I5LVVQ7WXEH6,A13BX9O5UDBILC,AGILRZOT49R0V,A3QAO3QBCQF89T,A3F7USIDJBR8WU,A3HR0ZZOFKQ97N,A2TKWMX4563NR6,A1J87SYB3JPQWH,A2I2KPNJDQ9SL0,A37PV5GMP2ILJC,A1VEELTKS8NLZB,A2V1J3JT5OOZFO,A20DDH4NT6Q1E8,A2XQYE6TJYROHQ,A15J9K7O10A3M6,A3NG7X4APIV649,A3IMALU0RM8UT9,A2AY4YUOX2N1BQ,A2F92M62KN324B,A2FSOHSM9X13JT,AG2YXYIQ8TLTA,APGQTZZ4ZFPHO,AXU3VKZE848IY,A23R3EOZ837242,A1ATVMMJZP3Q4X,AOEDWQLH2WKKW,A3PPO2X5PJE1L9,A3V6QSTG2T9MIO,A257X1MQJO82P2,A2JE071UW97J2A,A3SOJO7Z7R9WIA,A1QJ10LEINDRWW,A3CIET1UO3G51E,A8FKL1DHTHC12,A31BD4RXCON7QO,A3JAH5WW61N2EK,A1Y85GQ09Y95JL,A1GQRGB8FGSLIZ,AMVXR3NPL0GWX,AFQBS241UKPAZ,A2L90SGUP36KGA,A2HBOG4LVIY15L,AOEAD7DPLZE53,ASFP250F22MDZ,A31RZMVAFMLB8B,AFICF7DKHTQ87,A2ZY49IDE6TY5I,A1BXVZSQOJE6UE,A11YOTONCPRQ9S,ATZJNEXX7LWD3,A24RCBRDXRXR0Y,A1E1LEVQ9VQNK,A15CL28ALB7MTZ,AT8V3JOZD3KWK,A21INUA35HX4XQ,AVTJEWTCJ3PBE,A2HXEJXEQQTM1D,A2L0F2T1DLTNT8,A1SC5OXLQNGPLN,A35C2IVVQR1HTK,A1A5KUIIIHFF4U,A1NMM0RDRF6R84,A10ZFE6YE0UHW8,A32JCI4AK2JTTG,A3VL4RXCWNSR3H,A2HKUM9OEBQKDW,A27B1U3OWCU14J,A24QFMD1RXLJMB,A3TP31S61PPE3G,A25HBO5V8S8SEA,A3P69DTOXII004,A18YMFFJW974QS,A1X2LENOF84LCQ,A21Q9JVG4SII51,AHQRU3MRORIWQ,AVPNQUVZWMDSX,A32O5FZH994CNY,A2HPJKM7L4EOQB,AELK0E5DK7LIZ,A17RFKCYS69M3Y,A11YIHB6IW352W,A1RPJHUVVSI98A,A11IXJ8M1JO296,A291XTI6NO7DEG,A2DG63DN704LOI,A2BCDZO1XQLDH,ARIDN94LOCQFD,A1Z7SC7HH1BJKA,A2NB2E5DXE319Z,A386LG0LRWKJZP,A2V0I904FH7ABY,A28J3123I1QDKI,AM8W6Y3HVXLZT,A2VCXIAWCPQ13P,AM0QLU79O05JR,A1A306IAZ3TM1,A2PZXXPGLXXKZU,ADKZOXAOV8EXD,ALRCAGJOJ9583,APBB297H3ZA5E,A1DSRM2P0WGQNS,A2SH7OWE8QJYNC,A3BVN2QBNPBHCR,A1T9MILRRZ00F8,APBDZ88BBTN4F,AVBLGXSWRN666,A2L9OPJAAEK08Q,A1C5TCCR2IGKBU,A3B20R4ZAH0Y2Y,AW3LX47IHPFRL,A12DLJESJKM1OQ,A2AX2UGB167J31,AJX9A4Q19UTJU,AGX2K0FMS0IVL,A2TVJ0YDW3QO63,A3284KYDZ00BZA,A16RI68PS6T5CA,A3JV071KO43Q5X,A3UW0PQLDUACMH,A1VTCSCH8FFC76,AG5WSXI52FPKH,A3RR2P5IS3DGPR,APMYPD97EHUUZ,A3U5HKDHPYBAK3,A14NA0W8ESGDSI,A1SB9BNNGKNX2Z,A10NMELR4KX0J6,A2NLI1M5K2MQ5E,A2G563AC1HME2R,A32NEDX6UVV8DE,A3K91X9X2ARDOK,A2PSC7LUNIDEAH,A1JBEKU5TYIWE7,A3SVYWA9O1KUQV,A1VFX417XDNWIU,A36A1ZYZH8568P,A18GJ9MYYO6GCQ,A2X78O6G89CB30,A3U41ZL33SS92P,A3T4OHEAHOJ700,AONUCJBC85BL,A132ETQPMHQ585,A18S2VGUH9SCV5,A2VIYTWXANL343,ABSYIF0ONC2AF,A28UMA3GW9L124,A1VUN4JU731CBH,AZ8XSDMIX04VJ,A3VBXQKRM7A4JR,A1WG97A0EFHYXN,A1ASWDAEDTTY5I,A3SMD3T0QTN109,AR6APXLK7TJU2,A1VLVWTLV3LVHR,A3IK2VCQ007CJ,AV8MDYLHHTUOY,A274X54O9CN2SR,A3VZH0PWLQ9BB1,ADPKRJ2BSFJ0I,A2XA8CW5DF4MNZ,ARX7Z3NI6O0F7,A3R1WFO4KIUQXZ,A361M14PU2GUEG,A18FLOC8YQY0P8,A35OIWPVTGW3UC,AO2EURP2Y4JZM,A3DGJMO6VPG6FJ,A1UL2JH7XOUGM5,A2HJY7418G1KV1,A3T8WOFS5RD2IR,A21I62TCDL4754,A2HNH4PKE5DPSI,A2F4HP0J5VNOYR,A2E1EFNIZL2FVA,A18OTCHQ6MXD6X,A2K5RRMPICZ606,A3S3VSXEFXBMRC,A204K1OFE8OB9Y,A2ZRG5NOFZ47RK,A1PVX61PRPVX27,A17O9AHKHK66AI,A3CJOB7CHOSZUG,A3U029B8Z5WGI2,ADZF3QDGSZE7K,A14MZJTZAQS6CV,A7EU2BWLLCJY2,A2294LS59GC5K7,A27Y4OEC9MD9PA,A1WF4QNIE2Z3I7,A1L0P1ZP5FD6EC,A3SU7JSTPH9CC9,A3FEGTOLCWXSV4,A3UQSOJW51UU9T,A2WYF4POBUXL2O,A3DWO5RJDA430F,A2THQCHKR89E16,ACH055GTTIGC9,A2RS66Y79Q8X0W,AXYM52DNK6NDF,A20OBCQWBKCGZT,A2DIQTZPF26T1L,A5QDZEOIMQ4LW,A1F7YU6O5RU432,A28525P0S5ZVJ3,A1O229NVVDJUX2,AEFTIUQHSVUFX,A6TBR6L2D4XKC,A359MYLPLEOF7N,ATDQ9CGCWTT8D,A2LFWJ8X817QGX,A1VGXHHR08G044,A11KQADBYE0UZL,A1PS4OYWUB0VX,A1F0KPA232MTYC,A4S2WAQVQR6PI,A1AKW788238PWQ,A2X61KKXXR6WNP,A28P7V9KI7MXP,A1CN1P7147QDJC,A33XMCG1UFDSY2,A2PB325LKXYDOL,A27H0T39U3FZB5,A2SNE4QQGVP13U,A1ZA5SXZS8Z3CK,A1VYFEJM12ZP11,A1OA2ZW406NQXM,A4IEUHNRFZO0,AJEOFP6ZWY0MK,ANFJYYQ0P35CW,A2ULZRSHXS3HL7,A11FX8HL2ANK6T,AWNBZSEZ9P8BE,A5CDMTW6JKV5G,AMWL7XIWIPXEZ,A19HKRB4LU5YR,A2XRIU3SOYZ0ZC,ABXANRX4GPYRZ,A1N5FSCYN4796F,AKX9EQ37PAYMY,A27T4RQ3XA661C,A2W9I628I6SE1U,A3H6NNGCINPLEC,A2OBDNQ5ZYU1L8,A1ZPUEHF4AES86,A2SH6A32BE6NEV,AX05DBU8IRUWY,A25UZ7MA72SMKM,ALDAF4VVLFRHP,A1PEXTGNF36I1Q,A178M2AHNWQZB0,AFH97KY1SBP2C,A2IT7S59GSASN7,A19RW25Q6206I3,A3QKIR8J56EUI1,ABIVKBMSIPEDY,A2EN82VBJT44QP,A12R3YGEHW7D8G,A214W7SK2DJQ99,A25TQLMIAPI1T6,A2EW01G2LNJN06,A186697K4XKXQL,AX7317G153T8W,A21KNRUAA5RK5E,A3SP7T2PZ3HSDE,AIBRTGBN07D6A,A1S7BFT0HDF3HA,A3PCEB9ND82AGE,A1BZIM4WGZ6DZP,AVJORH3ACR2A5,A3S3R88HA0HZG3,A2TRXEZYU9GYY8,AFNG8O2DXRCUV,AWHL379EE14K7,A2MSBIA18RXYQC,A2K6CDQ9HZ359G,A3MQ15651KGVLJ,A198CCH4NNLI2E,A1901NTE8LFJF6,A3D6OI36USYOU1,A2XHOLOLKGV1FE,A2QI2NTDTMK2FV,A3RGJ1FXOB1ZLL,A2RN2AO4BE6F4K,A357B3PUHSVQA,A64LEAZ2QF8L2,AG8YP2XTC5X1I,A11EYMH9UV9XG7,A209G57KXCBF4C,A1RL1OTV8IJMVD,A20VG5W98SX99L,A1XK4VP74IB9TQ,AXP8GO5Q3AXSA,A1JUBRIZMO0RJV,A38QEATH3NODFM,A1QOIHVQC5XWCJ,AR3EVUQF0AC7R,A3EX8ZFNVDHGPM,A2WW57XX2UVLM6,A1M7HP5CHDXXOU,A1NAA1R38JSNHV,A3TCMJ6GKZJFBQ,A3VONQL7YW8UPM,A7Z2J9V37ABCO,A3S0EHEIR52HP1,A2VJ5ALN1BIV3B,A29KJ32G75L7G9,A20951I210L0IB,A4U27URFECK1U,AW6FQE5QRF2LM,A2NYOY6H42SORF,AW5JSQCHC2ZJO,A2SPV96SGOEO2,A20L63B48RPSOH,A1FOSIV4TWZFR7,A25RTRAPQAJBDJ,AWPN47SSWK1JV,A3094EPI56GKZ6,A368IPE6EW0GZL,A2PREU4LOFQRB1,AP53MVRC8ZEW2,A2Q2A6JKY95RTP,A195EZSQDW3E21,A4GHPW9AAH1NY,A3IJ4Z18FTIIP,AOVTLYTHVDNUX,A3D1TZH619NKHN,A3872Y2XH0YDX1,AKCZIJ6ZHE41D,A13QOK3SKIT9QL,A2PMR2PIGWKCQ9,A2NU9H8H5MJZSL,A1A535TCGNMVPI,A2O6HZ2B9YSRXR,A3VC74TJ06WDDD,A3LPL35P7FH78Y,AVSMRPI23DQI2,A2JMJVNTBL7K7E,A1CYTBE7LLUQ8F,A2WF58BAWLVI95,AC1YLEFC9AN5X,A3QNQQKJTL76H0,A3AVJCB1ZD6ZY5,ASRA2UZ3JV87B,A31HE83MU98GBV,A1UCAVBNJUZMPR,A29GWIJL72GXXZ,AHD3NZHDUZ5I6,A2NXRD80LWHUOP,A28BX3MM90A6FI,A1H55L0BLPCWYF,A3UW23DBF2KHWC,A34JKODTSKCGEN,A2FZQF0MH29VYN,A3VI2VETB90ZG5,A2CL818RN52NWN,A20H1M28WLI9J2,AYNAH993VDECT,A353U0L2HAMSHV,A35KBAQ4VBNQ6L,A1KKE6VX8VPWZK,A1143YEAZYMYHJ,A14X244VGHWPSX,A2VH0UT5EQFB6P,A3E9O1VNJ3U324,A3JLOIXFM75QNV,A1QOK9LU90ACF7,A1OH33MR6K4G5J,AJL3U764D7NI3,A13EQE9EY2ET93,A35Q0RBM3YNQNF,A2WC9NFLG57W4H,A2RG1B0K8YBJ4A,A3F3B1JPACN215,A2OOLI2WFY4L2,A2OWR5G2OAQF7C,AI0BCEWRE04G0,A5A4374R8I7NB,A3LDPF5FMB782Z,A2JAEZ0FMAMJVW,A1HFT68GJ42LTM,A3S5WYWYKSAI9C,ABQWMANK4AR63,A1EVV74UQYVKRY,A303SNZ4AR7TDQ,A2NVQZ4Y7Y0J1R,A3CKI6VEH0HBMJ,A36IHC0K68NS2,A2IMLOJ2Z2QEU2,A3IJL9A50KVVZ1,A3PDWA32BAMB2Y,A3P1508PZ0UADD,A2FRKEXDXDN1KI,ARW8VGT10JG60,A5GPH59NDWJRB,A2AFTRU43PY9P5,A2UWPPU5GZLMQZ,A2ZFFSJ0VM6KSJ,A292TRC6DX2GKK,A1EQ5D5JRSW23K,A2WPL6Y08K6ZQH,A6XDZ1MJ0B1A2,A1FMU4CJLIDHR9,A1E3OB6QMBKRYZ,ANEXFROORI6F6,A1T7EHCMZ92TKC,A3J3ZHGDUDPCFL,A3HSDV9Y0TV5Z2,A12EVK82QUTSA6,A25WJCAP606YMP,A2BIJMB2BITQUM,A19NP8YYADOOSF,A18L9A64XNGVGU,A2ME89MSWVG9NF,A31HOWJKEIY037,A19XPAWSWDRI3B,A2EHYCA29NSQLU,AL5CUWBFBMWYQ,A1UQUDT2Q0YENM,A2Z1R98M2XOCEJ,A27AF4DLLOBQDQ,A3LDLV1GWQJLEQ,A2YW6XOID7GV6G,A22I55P15NSAOX,AGLT3L7ALL4O4,A2OT3PDH1AWLTG,ARX0KOX5Q01BJ,A1GW7V6S6XSXX3,A2WXURU33RBGQS,A2WCFDOCS73PNB,A3GX0FAMEXV6FB,A9DYWY9VOSP1P,A3QD59N3M7O7KB,A3D01HLSUFEZQY,A3BNMHRW2R35LK,A32AK8FOAZEPE2,A11T807LX2EF00,A1H0D7635GEEJ1,AMRMK86X3PKXD,ANTN61S4L7WG9,A1FDSZISWIXH1A,A2W2ODLRQ2L8LE,A21VM9WVF8EOSJ,A1TFDMY4YNTV97,A10ZBR6O8S8OCY,A2NT3W1F1XYBFZ,A1K4G5YJDJQI6Q,A2858RV2VLI14X,AEN44U6T9R93,A11OTLEDSW8ZXD,A1MEISNED4NP7U,AMS2CPERWN7JV,A1NQFT941TOTT7,A2Y739CRM15WDL,A3BY5KCNQZXV5U,A2ZFBTGPDP6PH6,A1Z3598J0371ND,A2ZGDHLJ85T6AD,A1YEPFLLH42OU1,A34C9AFFZOI45T,A1UQBFCERIP7VJ,AGR1V15L6FLMA,APG2BHOAXPNEQ,A20ZM879PCQQEZ,A1S27P7KJO9I96,A15U64VGUV6RBF,AGGAQLXPVGM5D,A23ZNGL704AW7O,A296QED1MV1V0J,A3EK2KTYHJCPB9,A1MRRMHGV3PN5W,A2S26YGSVXBCFL,A307Y3LMCVEZS1,AATWFX0ZZSE6C,A2KZOIOFXXMC1H,A1VOFY3QFT9WCG,A1PVJICI412IN4,A2Y4H3PXB07WQI,ALQ4USPEQ9L5N,A1YN5I4FINMBTI,A84FLVDK2R5JF,AVU1ILDDYW301,A1USYP4AXF5I1D,A781ITP3HE2N5,A39K52QDP4C3ZS,AS2II0671KT2C,A1H7Y5XKPGT0OS,A3RMEU4GNP60BM,A1JZFGZEZVWQPY,A30UP2KKD5IQEP,AEIB3UR05OP7A,A4D5B7Q8A7PA6,A2POXR5VS3PHKR,A3VTOLNB5N6FVP,A2XIOXRRYX0KZY,A2QRXQPHDMFCQV,ANEDXRFDZDL18,A3M7R4PD0FEPUB,A23QII83UGZP5U,AG6TX1ZJHLMO7,A2VC48WIMY6L6E,A8P6GIIQ6YQV8,A141R97FHSSUQ0,A33GNK4YENACDJ,A328GLDSDNFYII,A1AZQCVCDBQP6,A2I18AO597DSDI,A33CNFK776MTWR,A3LQUEB84IR3VO,A3KZ7OH4VRL048,A361U4SXK7FCQE,A51OFQVC6O5YL,AQB4DH57MSZSC,A2WA8TDCTGUADI,A26KXNN6H1IL0I,A3S5EXYZDEBF3K,A2DXENZNO2JT4F,A2H4OMJLE7JFM2,A26EQ8U96JA92T,A3HH340REI4J47,A2X3L31KCXBHCL,A2FHTXLKY1XJDB,A3E3EQ39FZTZEK,A1Z16630QMH8Q6,A111WCUF5KA2I6,AFFVUZEGP1FDQ,A1G3DKT38DNZJP,A1HBI9BBQIG1NH,ACQYIC13JXAOI,A3HCMJOGRRSAF2,A2F2F7N94SR1KQ,A18A5VSD0IPN14,ASF3J4UYV34KA,A1RCGK44YXNBBB,A2SGAJWXG65464,A1G650TTTHEAL5,A18U49406IPPIJ,A1P0JSFW184ZXJ,A1CSRR7FCKBL9M,A200RY2ELZL2Q3,A2MJ8OL2FYN7CW,A2DKQQIZ793AV5,A2LTYEYGKBYXRR,A2GOHNFBHUU3UI,AGATRDOFW48DK,A3J6Q0Y0SKY7AR,A21GW4L8FO307V,A12O5SEIF162P8,A2U3OEIK1CUPIK,A2XPK6XCL0UH1S,A1RDHBBZE1NPS3,A3QJU4FEN8PQSZ,A2UKE7GIVC7XFW,AS269J1OGZT1V,A3QRW0UJPKIAX7,A1J5HIF41ENSMZ,A57Q87B0TC9IJ,AGFSSC5DBY2HU,A17NVM7IAPF2NS,A15T9G38F589KM,A379DLIAF0MFM5,A3D5B2CBFNJB0K,A2C8I2RQ0WG940,AUCISQA1YXX86,A7UPJYPAH73NC,A3F8T3BRXRX5P3,A1TY97ZGQT5FGF,A31RULW0KNYJ5H,A2NPN06SYI5VL3,A17UNMURMLX0ZE,A2L4ZGN7GZJ95T,A1NRMTQ5SZPZA,A30R8VFR16RE32,A110PC8C5Y7MQD,A2LB4FLRZG6CUV,A3VVMIMMTYQV5F,A2ZWJVKITA32OV,A2OS3TIVAKUAHG,A1GWG5CWLKJ7ET,AXR3CV6A4FMBG,AW63IRQWH10GF,A27TN8D0CZ8LUY,A3F7F7QKQP2FKT,AYOTEJ617O60K,A32O98PFC3OP7K,A3MFORLOKIOEQY,A2TVH2OBNXYXHV,A10AFVU66A79Y1,A1ZBEIL78MLR9Z,A2KHG3JOFXQ4CE,A10PEXB6XAQ5XF,A1MNN0ZMHYPJDU,A3KZEGBTPH6MMF,A2RIXSMGE9VIBG,AYGEKID3G7DPW,A2KIJBT9HRIOM8,AR18DH5SL9F73,A1LD5SE8IZ1H70,A2V9DTXTQ5YIMK,A1KSNK256G46GX,A2NN1KIYEM2SKS,AVFJ327UXPXLF,A3VBZDYGHF4NK8,A3HQAPXAJV7PRX,AM9APPMIE1BHZ,A3UR2N0ATGBCU8,A1IDAKX7OM3QIE,A1ZPY91VE3IDN1,A2W0XCWOK3MW6F,AMO1MLSIJSQOF,A2R1HUYHXV7H18,A3R19YKNL641X3,A95PWI4S6WHGL,A1VQBEW0G4IH1J,A34CKIMZ969UW7,A3MMR2WDKAK0PA,A1W415JP5WEAJK,AGJRUK27RBVYS,A3UKWQS8SRW6IO,AMZCZBK1EF1PV,AYLLSFYS3UP1H,A1KI7YHQEOS1RB,AL9WKVMRI6GFB,A25KKXUQQ0OLWB,AENULRBQ2IE5I,A3EWJX7W1X7E79,A19UTUEBWKIZFT,A2XCCN239AR1XK,A2SZLNSI5KOQJT,A38V76R24EJSHA,A3O4OIBCML0683,A20UU20K7M9ZPF,A2QNS95WGN35G9,AKSQNMIKOU01H,A2RGWCT6K2C3EZ,A2CIQEY05SPHTZ,A1W4F91DH3XPB2,A3QQCEQ33O0GJU,AP2NZAALUQKF5,A3M7BCQKSQAK4L,A27GITTN6AVW5I,A1R76R4E6A8S3B,A1IBKN1GXYJ3K4,ASFW4ZMNZJKDA,A11LNPG39A2ZV4,A1WXG10FJ353K0,A9LNWA25IM2DX,AAXAKFQEAQPWC,A2OTQMC69J8MUI,ABMNX856X89CS,A34BZM6S9L7QI4,A1WUQF5HWBAQJU,A3BKNXX8QFIXIV,AOTZOHB2LZGYR,A11I1I9QLMAM1A,A17V9XL4CWTQ6G,A3EHJ5519LG7TR,A3AG5QAT8L0I3R,A2LF16F0KX9L7P,A2I6GN7OHB9JKF,A26877IWJGISYM,A226VGZWOEBPGL,ASJZT7DM51QEM,A105S56ODHGJEK,A27ADCSD15F3GL,A2M14CFAMF8J7I,A25QJBK33C4O0R,A2ROZACRW31PC2,A10H24TDLK2VDP,A28CCQNXWV6WA2,A316XO4RWX21YN,AW6J9IILGOZY3,A267FU71Z01CIH,A2BUQ240COLAOP,A3N0P5AAMP6XD2,A16J281SJ9QXIQ,A3D0UM4ZD2CMAW,A2503LT8PZIHAD,A3J029KBNG5MNP,A28N2AWOVO2PB,A3SQCTNYQFVBWM,ASCBJEPXTOU0V,A1UTM65Y3G9HUL,A2N3JSOIQ6ZNFL,AQSV34W54L0VO,ANTGGAQYPSWHF,A1BVE2ZIBKJ7YI,A1GBU479WXR7UG,A1PI8VBCXXSGC7,ABAPF3XY1W6JX,AN9WA4C5E7YY5,ANSVB7OYSXZSL,A1R6RKKE44AYA8,A1HBEQWSMVQEWJ,AA91O96C1Z18W,A36MP37DITBU6F,A1GYEGLX3P2Y7P,AYO1146CBIV5C,A2JKM8KF3296CW,ATMQEI1LKR6VB,A2TMFC9O3ZCNKE,A3EM243NDJ4DF3,A2YEOR4XJ8N3QE,AY3D7DG5L5WCK,AM3XNQU9TZBD8,A2CWIYIETNBAK3,A247L282PID4PE,A3KCKECEO3E2AN,A2N75ADJSRW0AH,AGEKVD8JPZQMT,A3TNM3C9ENUCFW,A2X695AM08AIN1,A2ZY3S7SD3QO8Z,A3FOSLM5G1BO63,A3LZA698SQPCXE,AN0JK8OQLUC55,A1C47ROOK7BSVL,A2JCJJNY43QQIV,AIFLY2HF8NS8U,AQCJWSMSURQI2,A1HYH206E18XVC,AA95DWUI3ODU,A1YE1IK0JYSIIE,A2J96FILPQA01,A145B8OHVNNFAJ,A1MBXP3NZM2BUO,A3N4I2KRSMACW8,A1BBYSMT9YCODI,A3V2EZ6MA32FF6,A3MV1KKHX51FYT,A2IXK5LB4Y0NYV,AC9QEWWN4W9MC,A3F9CMU8KNAY1M,A1PPS91NLI7KEH,AO8NH0BV82XIE,A34CSXOGVYF94S,A3LDFTSXU3UPBO,A26SO3TOT2TLJE,A15J71JLC29KPW,A2SR7S6ZJJDGNB,AA3FTJYJYX55C,A2T24Z5QP2OMXU,A1DTCJV6KOMJOA,A2M9ME0N2S3R39,AYOMAHLWRQHUG,A1UNJ46NSB352E,A1ITRGMT80D5TK,A18NDN2CIG2TKR,A7FDGFK0KN7QG,A1IU4UAV9QIJAI,A30KPB2ILF6K6J,A16C19G0I2DE8S,AUUV3XDYB16X5,A3DL29NLZ7SXXG,A2UCDLO7V7DG6,A2Q204DY2L7YRP,A3E049PVKG7NDK,A34DQINHT6NYJU,A1H6SBO7R007I8,A3JUHP1E3WUHEA,A15Q2L6DYRTFIU,ASJLXOX1VD4DF,A1XEQGYY1IL8CD,A110VKXAVLAYKY,A3OIMUR42XIOFQ,A2HV76MYH7UL3S,ARTA78TP6H73D,A35HOUWHAYZZN6,A3MUSWDCTZINQZ,A3OZA8HNJM26DC,AO09RWV40IX78,A2V2URLB31HG59,A3FBM0RMCMAABV,A1UMSB7LAW0RIR,ACP9S40H3SHY1,A1TR1R2QKWRSRA,A1U11IP6K6NHAK,A3JU990UTN5RQP,A2VALCFTOWFYXZ,A3223W5IROMYTY,A319Y83RT0MRVR,A3AZI828WJN1CD,AT53ZTTO707MB,A1X3ESYZ79H59E,A328S9RN3U5M68,A215WH6RUDUCMP,A38C12950IM24P,A2J4XMWKR8PPD0,"
          ]
        }
      ]
    },
    {
      "cell_type": "code",
      "source": [
        "user = 'A34BZM6S9L7QI4'\n",
        "getuser_not_seen = list(filter(lambda i: i==user, lt))\n",
        "print(getuser_not_seen[0]+' users who has not seen the product with product id \"1400501466\".')"
      ],
      "metadata": {
        "colab": {
          "base_uri": "https://localhost:8080/"
        },
        "id": "3OXDuAENC6Cp",
        "outputId": "ef4133ed-747d-492b-b0a8-32552b9349e2"
      },
      "execution_count": null,
      "outputs": [
        {
          "output_type": "stream",
          "name": "stdout",
          "text": [
            "A34BZM6S9L7QI4 users who has not seen the product with product id \"1400501466\".\n"
          ]
        }
      ]
    },
    {
      "cell_type": "markdown",
      "metadata": {
        "id": "KT42ecaSTsno"
      },
      "source": [
        "* It can be observed from the above list that **user \"A34BZM6S9L7QI4\" has not seen the product with productId \"1400501466\"** as this userId is a part of the above list."
      ]
    },
    {
      "cell_type": "markdown",
      "metadata": {
        "id": "EXSgq8OEnVNE"
      },
      "source": [
        "**Below we are predicting rating for `userId=A34BZM6S9L7QI4` and `prod_id=1400501466`.**"
      ]
    },
    {
      "cell_type": "code",
      "execution_count": null,
      "metadata": {
        "id": "PbFcBj1PpfEV",
        "colab": {
          "base_uri": "https://localhost:8080/"
        },
        "outputId": "629dc2c4-01c8-4b98-bce6-d4f03cb338ba"
      },
      "outputs": [
        {
          "output_type": "stream",
          "name": "stdout",
          "text": [
            "user: A34BZM6S9L7QI4 item: 1400501466 r_ui = None   est = 4.29   {'was_impossible': True, 'reason': 'Not enough neighbors.'}\n"
          ]
        },
        {
          "output_type": "execute_result",
          "data": {
            "text/plain": [
              "Prediction(uid='A34BZM6S9L7QI4', iid='1400501466', r_ui=None, est=4.292024046561495, details={'was_impossible': True, 'reason': 'Not enough neighbors.'})"
            ]
          },
          "metadata": {},
          "execution_count": 34
        }
      ],
      "source": [
        "# Predicting rating for a sample user with a non interacted product\n",
        "sim_user_user.predict(\"A34BZM6S9L7QI4\", \"1400501466\", verbose = True)\n"
      ]
    },
    {
      "cell_type": "markdown",
      "metadata": {
        "id": "02rwld8yemRI"
      },
      "source": [
        "**Write your observations here:__________**\n",
        "- User ID: A34BZM6S9L7QI4\n",
        "- Item ID: 1400501466\n",
        "- Actual User Rating (r_ui): None, indicating that no previous rating is available for this user.\n",
        "- Estimated Rating (est): 4.29, is the predicted rating for this user item although, the prediction was considered impossible due to \"Not enough neighbours."
      ]
    },
    {
      "cell_type": "markdown",
      "metadata": {
        "id": "ejjof6csnVNF"
      },
      "source": [
        "### **Improving similarity-based recommendation system by tuning its hyperparameters**"
      ]
    },
    {
      "cell_type": "markdown",
      "metadata": {
        "id": "p2j4VvfQnVNF"
      },
      "source": [
        "Below, we will be tuning hyperparameters for the `KNNBasic` algorithm. Let's try to understand some of the hyperparameters of the KNNBasic algorithm:\n",
        "\n",
        "- **k** (int) – The (max) number of neighbors to take into account for aggregation. Default is 40.\n",
        "- **min_k** (int) – The minimum number of neighbors to take into account for aggregation. If there are not enough neighbors, the prediction is set to the global mean of all ratings. Default is 1.\n",
        "- **sim_options** (dict) – A dictionary of options for the similarity measure. And there are four similarity measures available in surprise -\n",
        "    - cosine\n",
        "    - msd (default)\n",
        "    - Pearson\n",
        "    - Pearson baseline"
      ]
    },
    {
      "cell_type": "code",
      "execution_count": null,
      "metadata": {
        "id": "9LmPbSUSTsnp",
        "colab": {
          "base_uri": "https://localhost:8080/"
        },
        "outputId": "bfa55384-6977-4215-b8d4-af9b8e6c7c33"
      },
      "outputs": [
        {
          "output_type": "stream",
          "name": "stdout",
          "text": [
            "0.9711886641502296\n",
            "{'k': 40, 'min_k': 6, 'sim_options': {'name': 'msd', 'user_based': True}}\n"
          ]
        }
      ],
      "source": [
        "# Setting up parameter grid to tune the hyperparameters\n",
        "param_grid = {'k': [20, 30, 40], 'min_k': [1,3, 6, 9],\n",
        "              'sim_options': {'name': ['msd', 'cosine'],\n",
        "                              'user_based': [True]}\n",
        "              }\n",
        "\n",
        "# Performing 3-fold cross-validation to tune the hyperparameters\n",
        "gs = GridSearchCV(KNNBasic, param_grid, measures = ['rmse'], cv = 3, n_jobs = -1)\n",
        "\n",
        "# Fitting the data\n",
        "gs.fit(data)\n",
        "\n",
        "# Best RMSE score\n",
        "print(gs.best_score['rmse'])\n",
        "\n",
        "# Combination of parameters that gave the best RMSE score\n",
        "print(gs.best_params['rmse'])"
      ]
    },
    {
      "cell_type": "markdown",
      "metadata": {
        "id": "L2fHNvu7nVNF"
      },
      "source": [
        "Once the grid search is **complete**, we can get the **optimal values for each of those hyperparameters**."
      ]
    },
    {
      "cell_type": "markdown",
      "metadata": {
        "id": "NHWgxu_YnVNG"
      },
      "source": [
        "Now, let's build the **final model by using tuned values of the hyperparameters**, which we received by using **grid search cross-validation**."
      ]
    },
    {
      "cell_type": "code",
      "execution_count": null,
      "metadata": {
        "id": "PujRJA8X_JEJ",
        "colab": {
          "base_uri": "https://localhost:8080/"
        },
        "outputId": "80724a8c-ee3b-427f-b215-d2c96d74b9c2"
      },
      "outputs": [
        {
          "output_type": "stream",
          "name": "stdout",
          "text": [
            "RMSE: 0.9526\n",
            "Precision:  0.847\n",
            "Recall:  0.894\n",
            "F_1 score:  0.87\n"
          ]
        }
      ],
      "source": [
        "# Using the optimal similarity measure for user-user based collaborative filtering\n",
        "sim_options = {'name': 'cosine',\n",
        "               'user_based': True}\n",
        "# Creating an instance of KNNBasic with optimal hyperparameter values\n",
        "sim_user_user_optimized = KNNBasic(sim_options = sim_options, k = 40, min_k = 6, random_state = 1, verbose = False)\n",
        "\n",
        "# Training the algorithm on the trainset\n",
        "sim_user_user_optimized.fit(trainset)\n",
        "\n",
        "# Let us compute precision@k and recall@k also with k =10\n",
        "precision_recall_at_k(sim_user_user_optimized)"
      ]
    },
    {
      "cell_type": "markdown",
      "metadata": {
        "id": "yHsWvFjKTsnp"
      },
      "source": [
        "**Write your observations here:__________**\n",
        "\n",
        "- We can see from above that after tuning hyperparameters, **F_1 score, Recall of the tuned model has increased a bit as compared to the baseline model, while RMSE reduced and Precision also reduced**"
      ]
    },
    {
      "cell_type": "markdown",
      "metadata": {
        "id": "YhcAXK0CnVNG"
      },
      "source": [
        "### **Steps:**\n",
        "- **Predict rating for the user with `userId=\"A3LDPF5FMB782Z\"`, and `prod_id= \"1400501466\"` using the optimized model**\n",
        "- **Predict rating for `userId=\"A34BZM6S9L7QI4\"` who has not interacted with `prod_id =\"1400501466\"`, by using the optimized model**\n",
        "- **Compare the output with the output from the baseline model**"
      ]
    },
    {
      "cell_type": "code",
      "execution_count": null,
      "metadata": {
        "id": "FgV63lHiq1TV",
        "colab": {
          "base_uri": "https://localhost:8080/"
        },
        "outputId": "2a8f9fe9-a591-4dff-ede9-3ff3ff603d30"
      },
      "outputs": [
        {
          "output_type": "stream",
          "name": "stdout",
          "text": [
            "user: A3LDPF5FMB782Z item: 1400501466 r_ui = 5.00   est = 4.29   {'was_impossible': True, 'reason': 'Not enough neighbors.'}\n"
          ]
        },
        {
          "output_type": "execute_result",
          "data": {
            "text/plain": [
              "Prediction(uid='A3LDPF5FMB782Z', iid='1400501466', r_ui=5, est=4.292024046561495, details={'was_impossible': True, 'reason': 'Not enough neighbors.'})"
            ]
          },
          "metadata": {},
          "execution_count": 37
        }
      ],
      "source": [
        "# Use sim_user_user_optimized model to recommend for userId \"A3LDPF5FMB782Z\" and productId 1400501466\n",
        "sim_user_user_optimized.predict(\"A3LDPF5FMB782Z\", \"1400501466\", r_ui = 5, verbose = True)"
      ]
    },
    {
      "cell_type": "code",
      "execution_count": null,
      "metadata": {
        "id": "HXO2Ztjhq1bN",
        "colab": {
          "base_uri": "https://localhost:8080/"
        },
        "outputId": "0191683b-4fb6-437a-893b-6fbb88fcfce4"
      },
      "outputs": [
        {
          "output_type": "stream",
          "name": "stdout",
          "text": [
            "user: A34BZM6S9L7QI4 item: 1400501466 r_ui = None   est = 4.29   {'was_impossible': True, 'reason': 'Not enough neighbors.'}\n"
          ]
        },
        {
          "output_type": "execute_result",
          "data": {
            "text/plain": [
              "Prediction(uid='A34BZM6S9L7QI4', iid='1400501466', r_ui=None, est=4.292024046561495, details={'was_impossible': True, 'reason': 'Not enough neighbors.'})"
            ]
          },
          "metadata": {},
          "execution_count": 38
        }
      ],
      "source": [
        "# Use sim_user_user_optimized model to recommend for userId \"A34BZM6S9L7QI4\" and productId \"1400501466\"\n",
        "sim_user_user_optimized.predict(\"A34BZM6S9L7QI4\", \"1400501466\", verbose = True)\n"
      ]
    },
    {
      "cell_type": "markdown",
      "metadata": {
        "id": "s5i-OPprNF2e"
      },
      "source": [
        "**Write your observations here:**____________\n",
        "- User id: A34BZM6S9L7QI4, item id: 1400501466, actual user rating (r_ui): 5.00, estimated rating (est): 4.29, reason for impossible prediction: \"Not enough neighbours.\n",
        "\n",
        "- User id: A3LDPF5FMB782Z, item id: 1400501466, actual user rating (r_ui): None, estimated rating (est): 4.29, reason for impossible prediction: \"Not enough neighbours.\n",
        "\n",
        "\n",
        "- Users (A34BZM6S9L7QI4) provided an actual rating (r_ui) of 5.00 and A3LDPF5FMB782Z has not rated the same item (Item ID: 1400501466), but the estimated predicted ratings (est) for both users as 4.29. This rating is lower than the actual ratings but close to it.\n",
        "\n",
        "- The reason for the user A34BZM6S9L7QI4 rating predictions being marked as \"Not enough neighbours\" suggesting that we need to fine-tune the model."
      ]
    },
    {
      "cell_type": "markdown",
      "metadata": {
        "id": "op_zwO_FnVNH"
      },
      "source": [
        "### **Identifying similar users to a given user (nearest neighbors)**"
      ]
    },
    {
      "cell_type": "markdown",
      "metadata": {
        "id": "o2QsfqhanVNH"
      },
      "source": [
        "We can also find out **similar users to a given user** or its **nearest neighbors** based on this KNNBasic algorithm. Below, we are finding the 5 most similar users to the first user in the list with internal id 0, based on the `msd` distance metric."
      ]
    },
    {
      "cell_type": "code",
      "execution_count": null,
      "metadata": {
        "id": "TbFle7cKmBJG",
        "colab": {
          "base_uri": "https://localhost:8080/"
        },
        "outputId": "554ffd0a-64ea-49e0-aeb5-a6020fe9d474"
      },
      "outputs": [
        {
          "output_type": "execute_result",
          "data": {
            "text/plain": [
              "[6, 7, 17, 26, 32]"
            ]
          },
          "metadata": {},
          "execution_count": 39
        }
      ],
      "source": [
        "# 0 is the inner id of the above user\n",
        "sim_user_user_optimized.get_neighbors(0, 5)"
      ]
    },
    {
      "cell_type": "code",
      "source": [
        "train_user_ids=[trainset.to_raw_uid(each) for each in trainset.all_users() ]"
      ],
      "metadata": {
        "id": "7vcFt8UUZVhK"
      },
      "execution_count": null,
      "outputs": []
    },
    {
      "cell_type": "code",
      "source": [
        "neighbours_raw_ids=[train_user_ids[each] for each in sim_user_user_optimized.get_neighbors(0, 5) ]\n",
        "neighbours_raw_ids"
      ],
      "metadata": {
        "colab": {
          "base_uri": "https://localhost:8080/"
        },
        "id": "bjCGJ-DlZGzS",
        "outputId": "131c60de-0580-4282-8754-af14f0167ffc"
      },
      "execution_count": null,
      "outputs": [
        {
          "output_type": "execute_result",
          "data": {
            "text/plain": [
              "['A16J281SJ9QXIQ',\n",
              " 'A1HBI9BBQIG1NH',\n",
              " 'A3VBZDYGHF4NK8',\n",
              " 'AZAC8O310IK4E',\n",
              " 'AM9APPMIE1BHZ']"
            ]
          },
          "metadata": {},
          "execution_count": 41
        }
      ]
    },
    {
      "cell_type": "markdown",
      "source": [
        "Write your observations here:____\n",
        "\n",
        "These are the similar users identified as nearest neighbour\n",
        "  - 'A16J281SJ9QXIQ'\n",
        "  - 'A1HBI9BBQIG1NH'\n",
        "  - 'A3VBZDYGHF4NK8'\n",
        "  - 'AZAC8O310IK4E'\n",
        "  - 'AM9APPMIE1BHZ'"
      ],
      "metadata": {
        "id": "ERnVWwx_QVNm"
      }
    },
    {
      "cell_type": "markdown",
      "metadata": {
        "id": "Z0NsrX_anVNH"
      },
      "source": [
        "### **Implementing the recommendation algorithm based on optimized KNNBasic model**"
      ]
    },
    {
      "cell_type": "markdown",
      "metadata": {
        "id": "U3ESobDynVNI"
      },
      "source": [
        "Below we will be implementing a function where the input parameters are:\n",
        "\n",
        "- data: A **rating** dataset\n",
        "- user_id: A user id **against which we want the recommendations**\n",
        "- top_n: The **number of products we want to recommend**\n",
        "- algo: the algorithm we want to use **for predicting the ratings**\n",
        "- The output of the function is a **set of top_n items** recommended for the given user_id based on the given algorithm"
      ]
    },
    {
      "cell_type": "code",
      "execution_count": null,
      "metadata": {
        "id": "vW9V1Tk65HlY"
      },
      "outputs": [],
      "source": [
        "def get_recommendations(data, user_id, top_n, algo):\n",
        "\n",
        "    # Creating an empty list to store the recommended product ids\n",
        "    recommendations = []\n",
        "\n",
        "    # Creating an user item interactions matrix\n",
        "    user_item_interactions_matrix = data.pivot(index = 'user_id', columns = 'prod_id', values = 'rating')\n",
        "\n",
        "    # Extracting those product ids which the user_id has not interacted yet\n",
        "    non_interacted_products = user_item_interactions_matrix.loc[user_id][user_item_interactions_matrix.loc[user_id].isnull()].index.tolist()\n",
        "\n",
        "    # Looping through each of the product ids which user_id has not interacted yet\n",
        "    for item_id in non_interacted_products:\n",
        "\n",
        "        # Predicting the ratings for those non interacted product ids by this user\n",
        "        est = algo.predict(user_id, item_id).est\n",
        "\n",
        "        # Appending the predicted ratings\n",
        "        recommendations.append((item_id, est))\n",
        "\n",
        "    # Sorting the predicted ratings in descending order\n",
        "    recommendations.sort(key = lambda x: x[1], reverse = True)\n",
        "\n",
        "    return recommendations[:top_n] # Returing top n highest predicted rating products for this user"
      ]
    },
    {
      "cell_type": "markdown",
      "metadata": {
        "id": "Oj_S7kh4nVNI"
      },
      "source": [
        "**Predicting top 5 products for userId = \"A3LDPF5FMB782Z\" with similarity based recommendation system**"
      ]
    },
    {
      "cell_type": "code",
      "execution_count": null,
      "metadata": {
        "id": "qWbR85mI5Hrk"
      },
      "outputs": [],
      "source": [
        "# Making top 5 recommendations for user_id \"A3LDPF5FMB782Z\" with a similarity-based recommendation engine\n",
        "recommendations = get_recommendations(df_final, \"A3LDPF5FMB782Z\", 5, sim_user_user_optimized)"
      ]
    },
    {
      "cell_type": "code",
      "execution_count": null,
      "metadata": {
        "id": "b5WfIX0Z6_q2",
        "colab": {
          "base_uri": "https://localhost:8080/",
          "height": 206
        },
        "outputId": "e44991b7-628d-4c61-9345-d839fb87ea1d"
      },
      "outputs": [
        {
          "output_type": "execute_result",
          "data": {
            "text/plain": [
              "      prod_id  predicted_ratings\n",
              "0  B000067RT6                  5\n",
              "1  B000BQ7GW8                  5\n",
              "2  B001TH7GUU                  5\n",
              "3  B005ES0YYA                  5\n",
              "4  B00834SJSK                  5"
            ],
            "text/html": [
              "\n",
              "  <div id=\"df-470aae7e-d1ad-4959-b116-419a02a1e265\" class=\"colab-df-container\">\n",
              "    <div>\n",
              "<style scoped>\n",
              "    .dataframe tbody tr th:only-of-type {\n",
              "        vertical-align: middle;\n",
              "    }\n",
              "\n",
              "    .dataframe tbody tr th {\n",
              "        vertical-align: top;\n",
              "    }\n",
              "\n",
              "    .dataframe thead th {\n",
              "        text-align: right;\n",
              "    }\n",
              "</style>\n",
              "<table border=\"1\" class=\"dataframe\">\n",
              "  <thead>\n",
              "    <tr style=\"text-align: right;\">\n",
              "      <th></th>\n",
              "      <th>prod_id</th>\n",
              "      <th>predicted_ratings</th>\n",
              "    </tr>\n",
              "  </thead>\n",
              "  <tbody>\n",
              "    <tr>\n",
              "      <th>0</th>\n",
              "      <td>B000067RT6</td>\n",
              "      <td>5</td>\n",
              "    </tr>\n",
              "    <tr>\n",
              "      <th>1</th>\n",
              "      <td>B000BQ7GW8</td>\n",
              "      <td>5</td>\n",
              "    </tr>\n",
              "    <tr>\n",
              "      <th>2</th>\n",
              "      <td>B001TH7GUU</td>\n",
              "      <td>5</td>\n",
              "    </tr>\n",
              "    <tr>\n",
              "      <th>3</th>\n",
              "      <td>B005ES0YYA</td>\n",
              "      <td>5</td>\n",
              "    </tr>\n",
              "    <tr>\n",
              "      <th>4</th>\n",
              "      <td>B00834SJSK</td>\n",
              "      <td>5</td>\n",
              "    </tr>\n",
              "  </tbody>\n",
              "</table>\n",
              "</div>\n",
              "    <div class=\"colab-df-buttons\">\n",
              "\n",
              "  <div class=\"colab-df-container\">\n",
              "    <button class=\"colab-df-convert\" onclick=\"convertToInteractive('df-470aae7e-d1ad-4959-b116-419a02a1e265')\"\n",
              "            title=\"Convert this dataframe to an interactive table.\"\n",
              "            style=\"display:none;\">\n",
              "\n",
              "  <svg xmlns=\"http://www.w3.org/2000/svg\" height=\"24px\" viewBox=\"0 -960 960 960\">\n",
              "    <path d=\"M120-120v-720h720v720H120Zm60-500h600v-160H180v160Zm220 220h160v-160H400v160Zm0 220h160v-160H400v160ZM180-400h160v-160H180v160Zm440 0h160v-160H620v160ZM180-180h160v-160H180v160Zm440 0h160v-160H620v160Z\"/>\n",
              "  </svg>\n",
              "    </button>\n",
              "\n",
              "  <style>\n",
              "    .colab-df-container {\n",
              "      display:flex;\n",
              "      gap: 12px;\n",
              "    }\n",
              "\n",
              "    .colab-df-convert {\n",
              "      background-color: #E8F0FE;\n",
              "      border: none;\n",
              "      border-radius: 50%;\n",
              "      cursor: pointer;\n",
              "      display: none;\n",
              "      fill: #1967D2;\n",
              "      height: 32px;\n",
              "      padding: 0 0 0 0;\n",
              "      width: 32px;\n",
              "    }\n",
              "\n",
              "    .colab-df-convert:hover {\n",
              "      background-color: #E2EBFA;\n",
              "      box-shadow: 0px 1px 2px rgba(60, 64, 67, 0.3), 0px 1px 3px 1px rgba(60, 64, 67, 0.15);\n",
              "      fill: #174EA6;\n",
              "    }\n",
              "\n",
              "    .colab-df-buttons div {\n",
              "      margin-bottom: 4px;\n",
              "    }\n",
              "\n",
              "    [theme=dark] .colab-df-convert {\n",
              "      background-color: #3B4455;\n",
              "      fill: #D2E3FC;\n",
              "    }\n",
              "\n",
              "    [theme=dark] .colab-df-convert:hover {\n",
              "      background-color: #434B5C;\n",
              "      box-shadow: 0px 1px 3px 1px rgba(0, 0, 0, 0.15);\n",
              "      filter: drop-shadow(0px 1px 2px rgba(0, 0, 0, 0.3));\n",
              "      fill: #FFFFFF;\n",
              "    }\n",
              "  </style>\n",
              "\n",
              "    <script>\n",
              "      const buttonEl =\n",
              "        document.querySelector('#df-470aae7e-d1ad-4959-b116-419a02a1e265 button.colab-df-convert');\n",
              "      buttonEl.style.display =\n",
              "        google.colab.kernel.accessAllowed ? 'block' : 'none';\n",
              "\n",
              "      async function convertToInteractive(key) {\n",
              "        const element = document.querySelector('#df-470aae7e-d1ad-4959-b116-419a02a1e265');\n",
              "        const dataTable =\n",
              "          await google.colab.kernel.invokeFunction('convertToInteractive',\n",
              "                                                    [key], {});\n",
              "        if (!dataTable) return;\n",
              "\n",
              "        const docLinkHtml = 'Like what you see? Visit the ' +\n",
              "          '<a target=\"_blank\" href=https://colab.research.google.com/notebooks/data_table.ipynb>data table notebook</a>'\n",
              "          + ' to learn more about interactive tables.';\n",
              "        element.innerHTML = '';\n",
              "        dataTable['output_type'] = 'display_data';\n",
              "        await google.colab.output.renderOutput(dataTable, element);\n",
              "        const docLink = document.createElement('div');\n",
              "        docLink.innerHTML = docLinkHtml;\n",
              "        element.appendChild(docLink);\n",
              "      }\n",
              "    </script>\n",
              "  </div>\n",
              "\n",
              "\n",
              "<div id=\"df-57be9343-9627-4968-9f5b-e370da1b2a5f\">\n",
              "  <button class=\"colab-df-quickchart\" onclick=\"quickchart('df-57be9343-9627-4968-9f5b-e370da1b2a5f')\"\n",
              "            title=\"Suggest charts.\"\n",
              "            style=\"display:none;\">\n",
              "\n",
              "<svg xmlns=\"http://www.w3.org/2000/svg\" height=\"24px\"viewBox=\"0 0 24 24\"\n",
              "     width=\"24px\">\n",
              "    <g>\n",
              "        <path d=\"M19 3H5c-1.1 0-2 .9-2 2v14c0 1.1.9 2 2 2h14c1.1 0 2-.9 2-2V5c0-1.1-.9-2-2-2zM9 17H7v-7h2v7zm4 0h-2V7h2v10zm4 0h-2v-4h2v4z\"/>\n",
              "    </g>\n",
              "</svg>\n",
              "  </button>\n",
              "\n",
              "<style>\n",
              "  .colab-df-quickchart {\n",
              "      --bg-color: #E8F0FE;\n",
              "      --fill-color: #1967D2;\n",
              "      --hover-bg-color: #E2EBFA;\n",
              "      --hover-fill-color: #174EA6;\n",
              "      --disabled-fill-color: #AAA;\n",
              "      --disabled-bg-color: #DDD;\n",
              "  }\n",
              "\n",
              "  [theme=dark] .colab-df-quickchart {\n",
              "      --bg-color: #3B4455;\n",
              "      --fill-color: #D2E3FC;\n",
              "      --hover-bg-color: #434B5C;\n",
              "      --hover-fill-color: #FFFFFF;\n",
              "      --disabled-bg-color: #3B4455;\n",
              "      --disabled-fill-color: #666;\n",
              "  }\n",
              "\n",
              "  .colab-df-quickchart {\n",
              "    background-color: var(--bg-color);\n",
              "    border: none;\n",
              "    border-radius: 50%;\n",
              "    cursor: pointer;\n",
              "    display: none;\n",
              "    fill: var(--fill-color);\n",
              "    height: 32px;\n",
              "    padding: 0;\n",
              "    width: 32px;\n",
              "  }\n",
              "\n",
              "  .colab-df-quickchart:hover {\n",
              "    background-color: var(--hover-bg-color);\n",
              "    box-shadow: 0 1px 2px rgba(60, 64, 67, 0.3), 0 1px 3px 1px rgba(60, 64, 67, 0.15);\n",
              "    fill: var(--button-hover-fill-color);\n",
              "  }\n",
              "\n",
              "  .colab-df-quickchart-complete:disabled,\n",
              "  .colab-df-quickchart-complete:disabled:hover {\n",
              "    background-color: var(--disabled-bg-color);\n",
              "    fill: var(--disabled-fill-color);\n",
              "    box-shadow: none;\n",
              "  }\n",
              "\n",
              "  .colab-df-spinner {\n",
              "    border: 2px solid var(--fill-color);\n",
              "    border-color: transparent;\n",
              "    border-bottom-color: var(--fill-color);\n",
              "    animation:\n",
              "      spin 1s steps(1) infinite;\n",
              "  }\n",
              "\n",
              "  @keyframes spin {\n",
              "    0% {\n",
              "      border-color: transparent;\n",
              "      border-bottom-color: var(--fill-color);\n",
              "      border-left-color: var(--fill-color);\n",
              "    }\n",
              "    20% {\n",
              "      border-color: transparent;\n",
              "      border-left-color: var(--fill-color);\n",
              "      border-top-color: var(--fill-color);\n",
              "    }\n",
              "    30% {\n",
              "      border-color: transparent;\n",
              "      border-left-color: var(--fill-color);\n",
              "      border-top-color: var(--fill-color);\n",
              "      border-right-color: var(--fill-color);\n",
              "    }\n",
              "    40% {\n",
              "      border-color: transparent;\n",
              "      border-right-color: var(--fill-color);\n",
              "      border-top-color: var(--fill-color);\n",
              "    }\n",
              "    60% {\n",
              "      border-color: transparent;\n",
              "      border-right-color: var(--fill-color);\n",
              "    }\n",
              "    80% {\n",
              "      border-color: transparent;\n",
              "      border-right-color: var(--fill-color);\n",
              "      border-bottom-color: var(--fill-color);\n",
              "    }\n",
              "    90% {\n",
              "      border-color: transparent;\n",
              "      border-bottom-color: var(--fill-color);\n",
              "    }\n",
              "  }\n",
              "</style>\n",
              "\n",
              "  <script>\n",
              "    async function quickchart(key) {\n",
              "      const quickchartButtonEl =\n",
              "        document.querySelector('#' + key + ' button');\n",
              "      quickchartButtonEl.disabled = true;  // To prevent multiple clicks.\n",
              "      quickchartButtonEl.classList.add('colab-df-spinner');\n",
              "      try {\n",
              "        const charts = await google.colab.kernel.invokeFunction(\n",
              "            'suggestCharts', [key], {});\n",
              "      } catch (error) {\n",
              "        console.error('Error during call to suggestCharts:', error);\n",
              "      }\n",
              "      quickchartButtonEl.classList.remove('colab-df-spinner');\n",
              "      quickchartButtonEl.classList.add('colab-df-quickchart-complete');\n",
              "    }\n",
              "    (() => {\n",
              "      let quickchartButtonEl =\n",
              "        document.querySelector('#df-57be9343-9627-4968-9f5b-e370da1b2a5f button');\n",
              "      quickchartButtonEl.style.display =\n",
              "        google.colab.kernel.accessAllowed ? 'block' : 'none';\n",
              "    })();\n",
              "  </script>\n",
              "</div>\n",
              "    </div>\n",
              "  </div>\n"
            ]
          },
          "metadata": {},
          "execution_count": 44
        }
      ],
      "source": [
        "# Building the dataframe for above recommendations with columns \"prod_id\" and \"predicted_ratings\"\n",
        "pd.DataFrame(recommendations, columns = ['prod_id', 'predicted_ratings'])"
      ]
    },
    {
      "cell_type": "markdown",
      "metadata": {
        "id": "QgbzJKk7Tsnr"
      },
      "source": [
        "### **Item-Item Similarity-based Collaborative Filtering Recommendation System**"
      ]
    },
    {
      "cell_type": "markdown",
      "metadata": {
        "id": "qTJu_2hcTsnr"
      },
      "source": [
        "* Above we have seen **similarity-based collaborative filtering** where similarity is calculated **between users**. Now let us look into similarity-based collaborative filtering where similarity is seen **between items**."
      ]
    },
    {
      "cell_type": "code",
      "execution_count": null,
      "metadata": {
        "id": "W5RMcdzjTsns",
        "scrolled": false,
        "colab": {
          "base_uri": "https://localhost:8080/"
        },
        "outputId": "bf3bf6a0-292e-4748-fb55-8f995428af08"
      },
      "outputs": [
        {
          "output_type": "stream",
          "name": "stdout",
          "text": [
            "RMSE: 0.9950\n",
            "Precision:  0.838\n",
            "Recall:  0.845\n",
            "F_1 score:  0.841\n"
          ]
        }
      ],
      "source": [
        "# Declaring the similarity options\n",
        "sim_options = {'name': 'cosine',\n",
        "               'user_based': False}\n",
        "# KNN algorithm is used to find desired similar items. Use random_state=1\n",
        "sim_item_item = KNNBasic(sim_options = sim_options,random_state = 1, verbose = False)\n",
        "# Train the algorithm on the trainset, and predict ratings for the test set\n",
        "sim_item_item.fit(trainset)\n",
        "# Let us compute precision@k, recall@k, and f_1 score with k = 10\n",
        "precision_recall_at_k(sim_item_item)"
      ]
    },
    {
      "cell_type": "markdown",
      "metadata": {
        "id": "ni9LoeUVTsns"
      },
      "source": [
        "**Write your observations here:**____________\n",
        "- The baseline model has an F_1 score of about 84%.\n",
        "- The RMSE value of 0.9950 suggests that the model's predictions have some level of error, and there is room for improvement in predictive accuracy.\n",
        "- The precision score of 0.838 at good at making correct positive predictions.\n",
        "- The recall score of 0.845.\n",
        "\n",
        "- Indicating there is room for improvement in predictive accuracy and precision"
      ]
    },
    {
      "cell_type": "markdown",
      "metadata": {
        "id": "jFbcDQmxTsns"
      },
      "source": [
        "Let's now **predict a rating for a user with `userId = A3LDPF5FMB782Z` and `prod_Id = 1400501466`** as shown below. Here the user has already interacted or watched the product with productId \"1400501466\"."
      ]
    },
    {
      "cell_type": "code",
      "execution_count": null,
      "metadata": {
        "id": "JsF-aaWYTsns",
        "colab": {
          "base_uri": "https://localhost:8080/"
        },
        "outputId": "bc58f9e0-cd0d-417d-ee5a-c5f796971e7e"
      },
      "outputs": [
        {
          "output_type": "stream",
          "name": "stdout",
          "text": [
            "user: A3LDPF5FMB782Z item: 1400501466 r_ui = 5.00   est = 4.27   {'actual_k': 22, 'was_impossible': False}\n"
          ]
        },
        {
          "output_type": "execute_result",
          "data": {
            "text/plain": [
              "Prediction(uid='A3LDPF5FMB782Z', iid='1400501466', r_ui=5, est=4.2727272727272725, details={'actual_k': 22, 'was_impossible': False})"
            ]
          },
          "metadata": {},
          "execution_count": 46
        }
      ],
      "source": [
        "# Predicting rating for a sample user with an interacted product\n",
        "sim_item_item.predict(\"A3LDPF5FMB782Z\", \"1400501466\", r_ui = 5, verbose = True)"
      ]
    },
    {
      "cell_type": "markdown",
      "metadata": {
        "id": "2h0OyDMFTsns"
      },
      "source": [
        "**Write your observations here:**____________\n",
        "- User ID: A3LDPF5FMB782Z, item id: 1400501466, actual User rating (r_ui): 5.0, indicating that no previous rating is available for this user. Estimated Rating (est): 4.27, is the predicted rating for this user item although, the prediction was considered impossible due to \"Not enough neighbours."
      ]
    },
    {
      "cell_type": "markdown",
      "metadata": {
        "id": "BqKGZoAtTsns"
      },
      "source": [
        "Below we are **predicting rating for the `userId = A34BZM6S9L7QI4` and `prod_id = 1400501466`**."
      ]
    },
    {
      "cell_type": "code",
      "execution_count": null,
      "metadata": {
        "id": "5yILOxXRTsns",
        "colab": {
          "base_uri": "https://localhost:8080/"
        },
        "outputId": "a948847e-58d5-49ea-d165-687ebcb9c71b"
      },
      "outputs": [
        {
          "output_type": "stream",
          "name": "stdout",
          "text": [
            "user: A34BZM6S9L7QI4 item: 1400501466 r_ui = None   est = 4.29   {'was_impossible': True, 'reason': 'Not enough neighbors.'}\n"
          ]
        },
        {
          "output_type": "execute_result",
          "data": {
            "text/plain": [
              "Prediction(uid='A34BZM6S9L7QI4', iid='1400501466', r_ui=None, est=4.292024046561495, details={'was_impossible': True, 'reason': 'Not enough neighbors.'})"
            ]
          },
          "metadata": {},
          "execution_count": 47
        }
      ],
      "source": [
        "# Predicting rating for a sample user with a non interacted product\n",
        "sim_item_item.predict(\"A34BZM6S9L7QI4\", \"1400501466\", verbose = True)"
      ]
    },
    {
      "cell_type": "markdown",
      "metadata": {
        "id": "sDKaAveJTsns"
      },
      "source": [
        "**Write your observations here:**____________\n",
        "- User ID: A34BZM6S9L7QI4\n",
        "- Item ID: 1400501466\n",
        "- Actual User Rating (r_ui): None, indicating that no previous rating was provided by this user for the product id.\n",
        "- Estimated Rating (est): 4.29."
      ]
    },
    {
      "cell_type": "markdown",
      "metadata": {
        "id": "meSvpNLj_EjD"
      },
      "source": [
        "### **Hyperparameter tuning the item-item similarity-based model**\n",
        "- Use the following values for the param_grid and tune the model.\n",
        "  - 'k': [10, 20, 30]\n",
        "  - 'min_k': [3, 6, 9]\n",
        "  - 'sim_options': {'name': ['msd', 'cosine']\n",
        "  - 'user_based': [False]\n",
        "- Use GridSearchCV() to tune the model using the 'rmse' measure\n",
        "- Print the best score and best parameters"
      ]
    },
    {
      "cell_type": "code",
      "execution_count": null,
      "metadata": {
        "id": "f5bcZ3HgTsnt",
        "colab": {
          "base_uri": "https://localhost:8080/"
        },
        "outputId": "63f6b08b-a5b5-4b94-9628-d0827316f2cd"
      },
      "outputs": [
        {
          "output_type": "stream",
          "name": "stdout",
          "text": [
            "0.9749882319296023\n",
            "{'k': 30, 'min_k': 6, 'sim_options': {'name': 'msd', 'user_based': False}}\n"
          ]
        }
      ],
      "source": [
        "# Setting up parameter grid to tune the hyperparameters\n",
        "param_grid = {'k': [10, 20, 30], 'min_k': [3, 6, 9],\n",
        "              'sim_options': {'name': ['msd', 'cosine'],\n",
        "                              'user_based': [False]}\n",
        "              }\n",
        "# Performing 3-fold cross validation to tune the hyperparameters\n",
        "gs = GridSearchCV(KNNBasic, param_grid, measures = ['rmse'], cv = 3, n_jobs = -1)\n",
        "\n",
        "# Fitting the data\n",
        "gs.fit(data)\n",
        "\n",
        "# Find the best RMSE score\n",
        "print(gs.best_score['rmse'])\n",
        "\n",
        "# Find the combination of parameters that gave the best RMSE score\n",
        "print(gs.best_params['rmse'])"
      ]
    },
    {
      "cell_type": "markdown",
      "metadata": {
        "id": "1psOlx6zTsnt"
      },
      "source": [
        "Once the **grid search** is complete, we can get the **optimal values for each of those hyperparameters as shown above.**"
      ]
    },
    {
      "cell_type": "markdown",
      "metadata": {
        "id": "JrSTaQemTsnt"
      },
      "source": [
        "Now let's build the **final model** by using **tuned values of the hyperparameters** which we received by using grid search cross-validation."
      ]
    },
    {
      "cell_type": "markdown",
      "metadata": {
        "id": "kOS9Dwnd_LN6"
      },
      "source": [
        "### **Use the best parameters from GridSearchCV to build the optimized item-item similarity-based model. Compare the performance of the optimized model with the baseline model.**"
      ]
    },
    {
      "cell_type": "code",
      "execution_count": null,
      "metadata": {
        "id": "dSeiM1qeTsnt",
        "colab": {
          "base_uri": "https://localhost:8080/"
        },
        "outputId": "0fc84c0d-e5e6-48ce-db65-e2d0ea47581d"
      },
      "outputs": [
        {
          "output_type": "stream",
          "name": "stdout",
          "text": [
            "RMSE: 0.9567\n",
            "Precision:  0.838\n",
            "Recall:  0.889\n",
            "F_1 score:  0.863\n"
          ]
        }
      ],
      "source": [
        "# Using the optimal similarity measure for item-item based collaborative filtering\n",
        "sim_options = {'name': 'msd',\n",
        "               'user_based': False}\n",
        "# Creating an instance of KNNBasic with optimal hyperparameter values\n",
        "sim_item_item_optimized = KNNBasic(sim_options = sim_options, k = 30,\n",
        "                                   min_k = 9, random_state = 1, verbose = False)\n",
        "# Training the algorithm on the trainset\n",
        "sim_item_item_optimized.fit(trainset)\n",
        "\n",
        "# Let us compute precision@k and recall@k, f1_score and RMSE\n",
        "precision_recall_at_k(sim_item_item_optimized)"
      ]
    },
    {
      "cell_type": "markdown",
      "metadata": {
        "id": "ZCXKnMI8Tsnt"
      },
      "source": [
        "**Write your observations here:__________**\n",
        "\n",
        "With GridSearchCV optimization, the prediction has an\n",
        "- RMSE of 0.9567 a precision score of 0.838, a recall score of 0.889, and an F1 score of 0.863 indicates a well-balanced performance between precision and recall.\n"
      ]
    },
    {
      "cell_type": "markdown",
      "metadata": {
        "id": "Sbcj_H94Tsnt"
      },
      "source": [
        "### **Steps:**\n",
        "- **Predict rating for the user with `userId=\"A3LDPF5FMB782Z\"`, and `prod_id= \"1400501466\"` using the optimized model**\n",
        "- **Predict rating for `userId=\"A34BZM6S9L7QI4\"` who has not interacted with `prod_id =\"1400501466\"`, by using the optimized model**\n",
        "- **Compare the output with the output from the baseline model**"
      ]
    },
    {
      "cell_type": "code",
      "execution_count": null,
      "metadata": {
        "id": "gIBRRvdoTsnt",
        "colab": {
          "base_uri": "https://localhost:8080/"
        },
        "outputId": "6e9e309c-72ed-404e-c3cf-88f0d80bdf5e"
      },
      "outputs": [
        {
          "output_type": "stream",
          "name": "stdout",
          "text": [
            "user: A3LDPF5FMB782Z item: 1400501466 r_ui = 5.00   est = 4.67   {'actual_k': 22, 'was_impossible': False}\n"
          ]
        },
        {
          "output_type": "execute_result",
          "data": {
            "text/plain": [
              "Prediction(uid='A3LDPF5FMB782Z', iid='1400501466', r_ui=5, est=4.67427701674277, details={'actual_k': 22, 'was_impossible': False})"
            ]
          },
          "metadata": {},
          "execution_count": 50
        }
      ],
      "source": [
        "# Use sim_item_item_optimized model to recommend for userId \"A3LDPF5FMB782Z\" and productId \"1400501466\"\n",
        "sim_item_item_optimized.predict(\"A3LDPF5FMB782Z\", \"1400501466\", r_ui = 5, verbose = True)"
      ]
    },
    {
      "cell_type": "markdown",
      "metadata": {
        "id": "I4M_AGfD60fW"
      },
      "source": [
        "**Write your observations here:__________**\n",
        "\n",
        "- Here the optimized model predicts a rating\n",
        "(**4.67**) for the userid whose actual rating is 5. This is the best prediction so far and the closet to the actual rating of the user\n",
        "\n",
        "\n"
      ]
    },
    {
      "cell_type": "code",
      "execution_count": null,
      "metadata": {
        "id": "iPymEe9w60fV",
        "colab": {
          "base_uri": "https://localhost:8080/"
        },
        "outputId": "fdd55d45-5b04-4fc3-be06-a388be4b964f"
      },
      "outputs": [
        {
          "output_type": "stream",
          "name": "stdout",
          "text": [
            "user: A34BZM6S9L7QI4 item: 1400501466 r_ui = None   est = 4.29   {'was_impossible': True, 'reason': 'Not enough neighbors.'}\n"
          ]
        },
        {
          "output_type": "execute_result",
          "data": {
            "text/plain": [
              "Prediction(uid='A34BZM6S9L7QI4', iid='1400501466', r_ui=None, est=4.292024046561495, details={'was_impossible': True, 'reason': 'Not enough neighbors.'})"
            ]
          },
          "metadata": {},
          "execution_count": 51
        }
      ],
      "source": [
        "# Use sim_item_item_optimized model to recommend for userId \"A34BZM6S9L7QI4\" and productId \"1400501466\"\n",
        "sim_item_item_optimized.predict(\"A34BZM6S9L7QI4\", \"1400501466\", verbose = True)"
      ]
    },
    {
      "cell_type": "markdown",
      "source": [
        "**Write your observations here:__________**\n",
        "- Whereas (**4.29**) prediction for a user whose actual rating is unknown, this seems to be the same as the previous prediction model."
      ],
      "metadata": {
        "id": "CBA5qlLgUKH6"
      }
    },
    {
      "cell_type": "markdown",
      "metadata": {
        "id": "MDlNB7tnTsnu"
      },
      "source": [
        "### **Identifying similar items to a given item (nearest neighbors)**"
      ]
    },
    {
      "cell_type": "markdown",
      "metadata": {
        "id": "RLdDiFA6Tsnu"
      },
      "source": [
        "We can also find out **similar items** to a given item or its nearest neighbors based on this **KNNBasic algorithm**. Below we are finding the 5 most similar items to the item with internal id 0 based on the `msd` distance metric."
      ]
    },
    {
      "cell_type": "code",
      "execution_count": null,
      "metadata": {
        "id": "ZRJS4oDFTsnu",
        "colab": {
          "base_uri": "https://localhost:8080/"
        },
        "outputId": "37f3a72d-3e53-4539-b27d-b2d9834b65a7"
      },
      "outputs": [
        {
          "output_type": "execute_result",
          "data": {
            "text/plain": [
              "[29, 53, 67, 106, 151]"
            ]
          },
          "metadata": {},
          "execution_count": 52
        }
      ],
      "source": [
        "sim_item_item_optimized.get_neighbors(0, k = 5)"
      ]
    },
    {
      "cell_type": "markdown",
      "metadata": {
        "id": "H9kZEVAB60fX"
      },
      "source": [
        "**Predicting top 5 products for userId = \"A1A5KUIIIHFF4U\" with similarity based recommendation system.**\n",
        "\n",
        "**Hint:** Use the get_recommendations() function."
      ]
    },
    {
      "cell_type": "code",
      "execution_count": null,
      "metadata": {
        "id": "rzoEbuZFTsnu"
      },
      "outputs": [],
      "source": [
        "# Making top 5 recommendations for user_id A1A5KUIIIHFF4U with similarity-based recommendation engine.\n",
        "recommendations = get_recommendations(df_final, \"A1A5KUIIIHFF4U\", 5, sim_item_item_optimized)"
      ]
    },
    {
      "cell_type": "code",
      "execution_count": null,
      "metadata": {
        "id": "_kXVTiysTsnv",
        "colab": {
          "base_uri": "https://localhost:8080/",
          "height": 206
        },
        "outputId": "3d933cf2-ff14-412b-ceb4-aa5b7b1a4650"
      },
      "outputs": [
        {
          "output_type": "execute_result",
          "data": {
            "text/plain": [
              "      prod_id  predicted_ratings\n",
              "0  1400532655           4.292024\n",
              "1  1400599997           4.292024\n",
              "2  9983891212           4.292024\n",
              "3  B00000DM9W           4.292024\n",
              "4  B00000J1V5           4.292024"
            ],
            "text/html": [
              "\n",
              "  <div id=\"df-ad8eec6e-6fd1-459d-8914-aad91b9ebf8a\" class=\"colab-df-container\">\n",
              "    <div>\n",
              "<style scoped>\n",
              "    .dataframe tbody tr th:only-of-type {\n",
              "        vertical-align: middle;\n",
              "    }\n",
              "\n",
              "    .dataframe tbody tr th {\n",
              "        vertical-align: top;\n",
              "    }\n",
              "\n",
              "    .dataframe thead th {\n",
              "        text-align: right;\n",
              "    }\n",
              "</style>\n",
              "<table border=\"1\" class=\"dataframe\">\n",
              "  <thead>\n",
              "    <tr style=\"text-align: right;\">\n",
              "      <th></th>\n",
              "      <th>prod_id</th>\n",
              "      <th>predicted_ratings</th>\n",
              "    </tr>\n",
              "  </thead>\n",
              "  <tbody>\n",
              "    <tr>\n",
              "      <th>0</th>\n",
              "      <td>1400532655</td>\n",
              "      <td>4.292024</td>\n",
              "    </tr>\n",
              "    <tr>\n",
              "      <th>1</th>\n",
              "      <td>1400599997</td>\n",
              "      <td>4.292024</td>\n",
              "    </tr>\n",
              "    <tr>\n",
              "      <th>2</th>\n",
              "      <td>9983891212</td>\n",
              "      <td>4.292024</td>\n",
              "    </tr>\n",
              "    <tr>\n",
              "      <th>3</th>\n",
              "      <td>B00000DM9W</td>\n",
              "      <td>4.292024</td>\n",
              "    </tr>\n",
              "    <tr>\n",
              "      <th>4</th>\n",
              "      <td>B00000J1V5</td>\n",
              "      <td>4.292024</td>\n",
              "    </tr>\n",
              "  </tbody>\n",
              "</table>\n",
              "</div>\n",
              "    <div class=\"colab-df-buttons\">\n",
              "\n",
              "  <div class=\"colab-df-container\">\n",
              "    <button class=\"colab-df-convert\" onclick=\"convertToInteractive('df-ad8eec6e-6fd1-459d-8914-aad91b9ebf8a')\"\n",
              "            title=\"Convert this dataframe to an interactive table.\"\n",
              "            style=\"display:none;\">\n",
              "\n",
              "  <svg xmlns=\"http://www.w3.org/2000/svg\" height=\"24px\" viewBox=\"0 -960 960 960\">\n",
              "    <path d=\"M120-120v-720h720v720H120Zm60-500h600v-160H180v160Zm220 220h160v-160H400v160Zm0 220h160v-160H400v160ZM180-400h160v-160H180v160Zm440 0h160v-160H620v160ZM180-180h160v-160H180v160Zm440 0h160v-160H620v160Z\"/>\n",
              "  </svg>\n",
              "    </button>\n",
              "\n",
              "  <style>\n",
              "    .colab-df-container {\n",
              "      display:flex;\n",
              "      gap: 12px;\n",
              "    }\n",
              "\n",
              "    .colab-df-convert {\n",
              "      background-color: #E8F0FE;\n",
              "      border: none;\n",
              "      border-radius: 50%;\n",
              "      cursor: pointer;\n",
              "      display: none;\n",
              "      fill: #1967D2;\n",
              "      height: 32px;\n",
              "      padding: 0 0 0 0;\n",
              "      width: 32px;\n",
              "    }\n",
              "\n",
              "    .colab-df-convert:hover {\n",
              "      background-color: #E2EBFA;\n",
              "      box-shadow: 0px 1px 2px rgba(60, 64, 67, 0.3), 0px 1px 3px 1px rgba(60, 64, 67, 0.15);\n",
              "      fill: #174EA6;\n",
              "    }\n",
              "\n",
              "    .colab-df-buttons div {\n",
              "      margin-bottom: 4px;\n",
              "    }\n",
              "\n",
              "    [theme=dark] .colab-df-convert {\n",
              "      background-color: #3B4455;\n",
              "      fill: #D2E3FC;\n",
              "    }\n",
              "\n",
              "    [theme=dark] .colab-df-convert:hover {\n",
              "      background-color: #434B5C;\n",
              "      box-shadow: 0px 1px 3px 1px rgba(0, 0, 0, 0.15);\n",
              "      filter: drop-shadow(0px 1px 2px rgba(0, 0, 0, 0.3));\n",
              "      fill: #FFFFFF;\n",
              "    }\n",
              "  </style>\n",
              "\n",
              "    <script>\n",
              "      const buttonEl =\n",
              "        document.querySelector('#df-ad8eec6e-6fd1-459d-8914-aad91b9ebf8a button.colab-df-convert');\n",
              "      buttonEl.style.display =\n",
              "        google.colab.kernel.accessAllowed ? 'block' : 'none';\n",
              "\n",
              "      async function convertToInteractive(key) {\n",
              "        const element = document.querySelector('#df-ad8eec6e-6fd1-459d-8914-aad91b9ebf8a');\n",
              "        const dataTable =\n",
              "          await google.colab.kernel.invokeFunction('convertToInteractive',\n",
              "                                                    [key], {});\n",
              "        if (!dataTable) return;\n",
              "\n",
              "        const docLinkHtml = 'Like what you see? Visit the ' +\n",
              "          '<a target=\"_blank\" href=https://colab.research.google.com/notebooks/data_table.ipynb>data table notebook</a>'\n",
              "          + ' to learn more about interactive tables.';\n",
              "        element.innerHTML = '';\n",
              "        dataTable['output_type'] = 'display_data';\n",
              "        await google.colab.output.renderOutput(dataTable, element);\n",
              "        const docLink = document.createElement('div');\n",
              "        docLink.innerHTML = docLinkHtml;\n",
              "        element.appendChild(docLink);\n",
              "      }\n",
              "    </script>\n",
              "  </div>\n",
              "\n",
              "\n",
              "<div id=\"df-036f7f36-1779-41c9-9990-9476c0934cbb\">\n",
              "  <button class=\"colab-df-quickchart\" onclick=\"quickchart('df-036f7f36-1779-41c9-9990-9476c0934cbb')\"\n",
              "            title=\"Suggest charts.\"\n",
              "            style=\"display:none;\">\n",
              "\n",
              "<svg xmlns=\"http://www.w3.org/2000/svg\" height=\"24px\"viewBox=\"0 0 24 24\"\n",
              "     width=\"24px\">\n",
              "    <g>\n",
              "        <path d=\"M19 3H5c-1.1 0-2 .9-2 2v14c0 1.1.9 2 2 2h14c1.1 0 2-.9 2-2V5c0-1.1-.9-2-2-2zM9 17H7v-7h2v7zm4 0h-2V7h2v10zm4 0h-2v-4h2v4z\"/>\n",
              "    </g>\n",
              "</svg>\n",
              "  </button>\n",
              "\n",
              "<style>\n",
              "  .colab-df-quickchart {\n",
              "      --bg-color: #E8F0FE;\n",
              "      --fill-color: #1967D2;\n",
              "      --hover-bg-color: #E2EBFA;\n",
              "      --hover-fill-color: #174EA6;\n",
              "      --disabled-fill-color: #AAA;\n",
              "      --disabled-bg-color: #DDD;\n",
              "  }\n",
              "\n",
              "  [theme=dark] .colab-df-quickchart {\n",
              "      --bg-color: #3B4455;\n",
              "      --fill-color: #D2E3FC;\n",
              "      --hover-bg-color: #434B5C;\n",
              "      --hover-fill-color: #FFFFFF;\n",
              "      --disabled-bg-color: #3B4455;\n",
              "      --disabled-fill-color: #666;\n",
              "  }\n",
              "\n",
              "  .colab-df-quickchart {\n",
              "    background-color: var(--bg-color);\n",
              "    border: none;\n",
              "    border-radius: 50%;\n",
              "    cursor: pointer;\n",
              "    display: none;\n",
              "    fill: var(--fill-color);\n",
              "    height: 32px;\n",
              "    padding: 0;\n",
              "    width: 32px;\n",
              "  }\n",
              "\n",
              "  .colab-df-quickchart:hover {\n",
              "    background-color: var(--hover-bg-color);\n",
              "    box-shadow: 0 1px 2px rgba(60, 64, 67, 0.3), 0 1px 3px 1px rgba(60, 64, 67, 0.15);\n",
              "    fill: var(--button-hover-fill-color);\n",
              "  }\n",
              "\n",
              "  .colab-df-quickchart-complete:disabled,\n",
              "  .colab-df-quickchart-complete:disabled:hover {\n",
              "    background-color: var(--disabled-bg-color);\n",
              "    fill: var(--disabled-fill-color);\n",
              "    box-shadow: none;\n",
              "  }\n",
              "\n",
              "  .colab-df-spinner {\n",
              "    border: 2px solid var(--fill-color);\n",
              "    border-color: transparent;\n",
              "    border-bottom-color: var(--fill-color);\n",
              "    animation:\n",
              "      spin 1s steps(1) infinite;\n",
              "  }\n",
              "\n",
              "  @keyframes spin {\n",
              "    0% {\n",
              "      border-color: transparent;\n",
              "      border-bottom-color: var(--fill-color);\n",
              "      border-left-color: var(--fill-color);\n",
              "    }\n",
              "    20% {\n",
              "      border-color: transparent;\n",
              "      border-left-color: var(--fill-color);\n",
              "      border-top-color: var(--fill-color);\n",
              "    }\n",
              "    30% {\n",
              "      border-color: transparent;\n",
              "      border-left-color: var(--fill-color);\n",
              "      border-top-color: var(--fill-color);\n",
              "      border-right-color: var(--fill-color);\n",
              "    }\n",
              "    40% {\n",
              "      border-color: transparent;\n",
              "      border-right-color: var(--fill-color);\n",
              "      border-top-color: var(--fill-color);\n",
              "    }\n",
              "    60% {\n",
              "      border-color: transparent;\n",
              "      border-right-color: var(--fill-color);\n",
              "    }\n",
              "    80% {\n",
              "      border-color: transparent;\n",
              "      border-right-color: var(--fill-color);\n",
              "      border-bottom-color: var(--fill-color);\n",
              "    }\n",
              "    90% {\n",
              "      border-color: transparent;\n",
              "      border-bottom-color: var(--fill-color);\n",
              "    }\n",
              "  }\n",
              "</style>\n",
              "\n",
              "  <script>\n",
              "    async function quickchart(key) {\n",
              "      const quickchartButtonEl =\n",
              "        document.querySelector('#' + key + ' button');\n",
              "      quickchartButtonEl.disabled = true;  // To prevent multiple clicks.\n",
              "      quickchartButtonEl.classList.add('colab-df-spinner');\n",
              "      try {\n",
              "        const charts = await google.colab.kernel.invokeFunction(\n",
              "            'suggestCharts', [key], {});\n",
              "      } catch (error) {\n",
              "        console.error('Error during call to suggestCharts:', error);\n",
              "      }\n",
              "      quickchartButtonEl.classList.remove('colab-df-spinner');\n",
              "      quickchartButtonEl.classList.add('colab-df-quickchart-complete');\n",
              "    }\n",
              "    (() => {\n",
              "      let quickchartButtonEl =\n",
              "        document.querySelector('#df-036f7f36-1779-41c9-9990-9476c0934cbb button');\n",
              "      quickchartButtonEl.style.display =\n",
              "        google.colab.kernel.accessAllowed ? 'block' : 'none';\n",
              "    })();\n",
              "  </script>\n",
              "</div>\n",
              "    </div>\n",
              "  </div>\n"
            ]
          },
          "metadata": {},
          "execution_count": 54
        }
      ],
      "source": [
        "# Building the dataframe for above recommendations with columns \"prod_id\" and \"predicted_ratings\"\n",
        "pd.DataFrame(recommendations, columns = ['prod_id', 'predicted_ratings'])"
      ]
    },
    {
      "cell_type": "markdown",
      "metadata": {
        "id": "DHzmYvs0Tsnv"
      },
      "source": [
        "Now as we have seen **similarity-based collaborative filtering algorithms**, let us now get into **model-based collaborative filtering algorithms**."
      ]
    },
    {
      "cell_type": "markdown",
      "metadata": {
        "id": "rKgJpSA9vOOL"
      },
      "source": [
        "### **Model 3: Model-Based Collaborative Filtering - Matrix Factorization**"
      ]
    },
    {
      "cell_type": "markdown",
      "metadata": {
        "id": "YF6ZGyqhCAob"
      },
      "source": [
        "Model-based Collaborative Filtering is a **personalized recommendation system**, the recommendations are based on the past behavior of the user and it is not dependent on any additional information. We use **latent features** to find recommendations for each user."
      ]
    },
    {
      "cell_type": "markdown",
      "metadata": {
        "id": "n4Otha8ovOOL"
      },
      "source": [
        "### Singular Value Decomposition (SVD)"
      ]
    },
    {
      "cell_type": "markdown",
      "metadata": {
        "id": "3sGl3QkLvOOL"
      },
      "source": [
        "SVD is used to **compute the latent features** from the **user-item matrix**. But SVD does not work when we **miss values** in the **user-item matrix**."
      ]
    },
    {
      "cell_type": "code",
      "execution_count": null,
      "metadata": {
        "id": "07-2PT5Ssjqm",
        "colab": {
          "base_uri": "https://localhost:8080/"
        },
        "outputId": "6f8b585e-8b9b-4748-bdfc-6b0a8da95557"
      },
      "outputs": [
        {
          "output_type": "stream",
          "name": "stdout",
          "text": [
            "RMSE: 0.8882\n",
            "Precision:  0.853\n",
            "Recall:  0.88\n",
            "F_1 score:  0.866\n"
          ]
        }
      ],
      "source": [
        "# Using SVD matrix factorization. Use random_state = 1\n",
        "svd = SVD(random_state = 1)\n",
        "\n",
        "# Training the algorithm on the trainset\n",
        "svd.fit(trainset)\n",
        "\n",
        "# Use the function precision_recall_at_k to compute precision@k, recall@k, F1-Score, and RMSE\n",
        "precision_recall_at_k(svd)"
      ]
    },
    {
      "cell_type": "markdown",
      "metadata": {
        "id": "BQ6fTuCDnVNL"
      },
      "source": [
        "**Write your observations here:___________**\n",
        "- This model algorithm is giving a lower RSME of 0.8882 which is lower than the previous RMSE from the other models so far."
      ]
    },
    {
      "cell_type": "markdown",
      "metadata": {
        "id": "IwItjIgl60fe"
      },
      "source": [
        "**Let's now predict the rating for a user with `userId = \"A3LDPF5FMB782Z\"` and `prod_id = \"1400501466`.**"
      ]
    },
    {
      "cell_type": "code",
      "execution_count": null,
      "metadata": {
        "id": "yWIhfdxXsjqm",
        "colab": {
          "base_uri": "https://localhost:8080/"
        },
        "outputId": "a603d1cb-3d2d-4672-bb5b-f2b3d150c68d"
      },
      "outputs": [
        {
          "output_type": "stream",
          "name": "stdout",
          "text": [
            "user: A3LDPF5FMB782Z item: 1400501466 r_ui = 5.00   est = 4.08   {'was_impossible': False}\n"
          ]
        },
        {
          "output_type": "execute_result",
          "data": {
            "text/plain": [
              "Prediction(uid='A3LDPF5FMB782Z', iid='1400501466', r_ui=5, est=4.081406749810685, details={'was_impossible': False})"
            ]
          },
          "metadata": {},
          "execution_count": 56
        }
      ],
      "source": [
        "# Making prediction\n",
        "svd.predict(\"A3LDPF5FMB782Z\", \"1400501466\", r_ui = 5, verbose = True)"
      ]
    },
    {
      "cell_type": "markdown",
      "metadata": {
        "id": "oIjzqDY5nVNM"
      },
      "source": [
        "**Write your observations here:___________**\n",
        "- As we can see - **the actual rating** for this user-item pair\n",
        "is 5 and the predicted rating 4.08 is also close to that. It seems like we have underestimated the rating. We will try to fix this later by **tuning the hyperparameters** of the model using GridSearchCV."
      ]
    },
    {
      "cell_type": "markdown",
      "metadata": {
        "id": "I1aYxVeMnVNM"
      },
      "source": [
        "**Below we are predicting rating for the `userId = \"A34BZM6S9L7QI4\"` and `productId = \"1400501466\"`.**"
      ]
    },
    {
      "cell_type": "code",
      "execution_count": null,
      "metadata": {
        "id": "APm-uMSvcAMf",
        "colab": {
          "base_uri": "https://localhost:8080/"
        },
        "outputId": "073aa164-2c00-442f-85b6-f4f83b53faf5"
      },
      "outputs": [
        {
          "output_type": "stream",
          "name": "stdout",
          "text": [
            "user: A34BZM6S9L7QI4 item: 1400501466 r_ui = None   est = 4.40   {'was_impossible': False}\n"
          ]
        },
        {
          "output_type": "execute_result",
          "data": {
            "text/plain": [
              "Prediction(uid='A34BZM6S9L7QI4', iid='1400501466', r_ui=None, est=4.40037568046934, details={'was_impossible': False})"
            ]
          },
          "metadata": {},
          "execution_count": 57
        }
      ],
      "source": [
        "# Making prediction\n",
        "svd.predict(\"A34BZM6S9L7QI4\", \"1400501466\", verbose = True)"
      ]
    },
    {
      "cell_type": "markdown",
      "metadata": {
        "id": "NEL6dy3wnVNM"
      },
      "source": [
        "**Write your observations here:___________**\n",
        "- We can see the **estimated rating** for this **user id** is is 4.40 based on this **matrix factorization-based baseline model** which is higher than the previous model."
      ]
    },
    {
      "cell_type": "markdown",
      "metadata": {
        "id": "x13Eb9Owvpcw"
      },
      "source": [
        "### **Improving Matrix Factorization based recommendation system by tuning its hyperparameters**"
      ]
    },
    {
      "cell_type": "markdown",
      "metadata": {
        "id": "iQcDPhhcnVNN"
      },
      "source": [
        "Below we will be tuning only three hyperparameters:\n",
        "- **n_epochs**: The number of iterations of the SGD algorithm.\n",
        "- **lr_all**: The learning rate for all parameters.\n",
        "- **reg_all**: The regularization term for all parameters."
      ]
    },
    {
      "cell_type": "code",
      "execution_count": null,
      "metadata": {
        "id": "4bM81V_hvtwv",
        "colab": {
          "base_uri": "https://localhost:8080/"
        },
        "outputId": "138df7ec-b98d-4b7e-b8ea-9582acf6d5ab"
      },
      "outputs": [
        {
          "output_type": "stream",
          "name": "stdout",
          "text": [
            "0.8984324862169798\n",
            "{'n_epochs': 20, 'lr_all': 0.01, 'reg_all': 0.2}\n"
          ]
        }
      ],
      "source": [
        "# Set the parameter space to tune\n",
        "param_grid = {'n_epochs': [10, 20, 30], 'lr_all': [0.001, 0.005, 0.01],\n",
        "              'reg_all': [0.2, 0.4, 0.6]}\n",
        "\n",
        "# Performing 3-fold gridsearch cross-validation\n",
        "gs = GridSearchCV(SVD, param_grid, measures = ['rmse'], cv = 3, n_jobs = -1)\n",
        "\n",
        "# Fitting data\n",
        "gs.fit(data)\n",
        "\n",
        "# Best RMSE score\n",
        "print(gs.best_score['rmse'])\n",
        "\n",
        "# Combination of parameters that gave the best RMSE score\n",
        "print(gs.best_params['rmse'])"
      ]
    },
    {
      "cell_type": "markdown",
      "metadata": {
        "id": "KzY78HsrnVNO"
      },
      "source": [
        "Now, we will **the build final model** by using **tuned values** of the hyperparameters, which we received using grid search cross-validation above."
      ]
    },
    {
      "cell_type": "code",
      "execution_count": null,
      "metadata": {
        "id": "TA_7xe-nnhuu",
        "colab": {
          "base_uri": "https://localhost:8080/"
        },
        "outputId": "e2c2a1de-f0ff-4b1b-c72e-2676d670c736"
      },
      "outputs": [
        {
          "output_type": "stream",
          "name": "stdout",
          "text": [
            "RMSE: 0.8808\n",
            "Precision:  0.854\n",
            "Recall:  0.878\n",
            "F_1 score:  0.866\n"
          ]
        }
      ],
      "source": [
        "# Build the optimized SVD model using optimal hyperparameter search. Use random_state=1\n",
        "svd_optimized = SVD(n_epochs = 20, lr_all = 0.01, reg_all = 0.2, random_state = 1)\n",
        "\n",
        "# Train the algorithm on the trainset\n",
        "svd_optimized = svd_optimized.fit(trainset)\n",
        "\n",
        "# Use the function precision_recall_at_k to compute precision@k, recall@k, F1-Score, and RMSE\n",
        "precision_recall_at_k(svd_optimized)"
      ]
    },
    {
      "cell_type": "markdown",
      "metadata": {
        "id": "9HJvPsjITsny"
      },
      "source": [
        "**Write your observations here:_____________**\n",
        "\n",
        "- We can see from above that the tuned model is showing the same F_1 score of (0.866) as the baseline model, but it has the lowest RMSE of (0.8808), higher precision (0.854) than the baseline model, and a slightly similar recall (0.878)\n",
        "\n",
        "- Hence the tuned model is doing better than the earlier model."
      ]
    },
    {
      "cell_type": "markdown",
      "metadata": {
        "id": "EwIRa9Sa60fl"
      },
      "source": [
        "### **Steps:**\n",
        "- **Predict rating for the user with `userId=\"A3LDPF5FMB782Z\"`, and `prod_id= \"1400501466\"` using the optimized model**\n",
        "- **Predict rating for `userId=\"A34BZM6S9L7QI4\"` who has not interacted with `prod_id =\"1400501466\"`, by using the optimized model**\n",
        "- **Compare the output with the output from the baseline model**"
      ]
    },
    {
      "cell_type": "code",
      "execution_count": null,
      "metadata": {
        "id": "L50LQ9BH60fm",
        "colab": {
          "base_uri": "https://localhost:8080/"
        },
        "outputId": "83c5e342-7133-4800-de13-ed9d063ad2da"
      },
      "outputs": [
        {
          "output_type": "stream",
          "name": "stdout",
          "text": [
            "user: A3LDPF5FMB782Z item: 1400501466 r_ui = 5.00   est = 4.13   {'was_impossible': False}\n"
          ]
        },
        {
          "output_type": "execute_result",
          "data": {
            "text/plain": [
              "Prediction(uid='A3LDPF5FMB782Z', iid='1400501466', r_ui=5, est=4.128589011282042, details={'was_impossible': False})"
            ]
          },
          "metadata": {},
          "execution_count": 60
        }
      ],
      "source": [
        "# Use svd_algo_optimized model to recommend for userId \"A3LDPF5FMB782Z\" and productId \"1400501466\"\n",
        "svd_optimized.predict(\"A3LDPF5FMB782Z\", \"1400501466\", r_ui = 5, verbose = True)"
      ]
    },
    {
      "cell_type": "markdown",
      "source": [
        "Write your observations here:_____\n",
        "- The predicted rating is good at **4.13** whose actual rating is **5**. The optimized model is giving a fairly good prediction.\n",
        "\n"
      ],
      "metadata": {
        "id": "a9nThDIlSlkO"
      }
    },
    {
      "cell_type": "code",
      "execution_count": null,
      "metadata": {
        "id": "7vZ8N-c360fm",
        "colab": {
          "base_uri": "https://localhost:8080/"
        },
        "outputId": "4c1abb79-4044-4aa9-b200-8b99a320dba8"
      },
      "outputs": [
        {
          "output_type": "stream",
          "name": "stdout",
          "text": [
            "user: A34BZM6S9L7QI4 item: 1400501466 r_ui = None   est = 4.22   {'was_impossible': False}\n"
          ]
        },
        {
          "output_type": "execute_result",
          "data": {
            "text/plain": [
              "Prediction(uid='A34BZM6S9L7QI4', iid='1400501466', r_ui=None, est=4.216280997100113, details={'was_impossible': False})"
            ]
          },
          "metadata": {},
          "execution_count": 61
        }
      ],
      "source": [
        "# Use svd_algo_optimized model to recommend for userId \"A34BZM6S9L7QI4\" and productId \"1400501466\"\n",
        "svd_optimized.predict(\"A34BZM6S9L7QI4\", \"1400501466\", verbose = True)"
      ]
    },
    {
      "cell_type": "markdown",
      "source": [
        "Write your observations here:_____\n",
        "- For a user_id with no rating, the optimized model was able to predict a rating of **4.22** which seems to be fairly good."
      ],
      "metadata": {
        "id": "hXF-gDQsTTla"
      }
    },
    {
      "cell_type": "markdown",
      "metadata": {
        "id": "nnwPwgjB8DwS"
      },
      "source": [
        "### **Conclusion and Recommendations**"
      ]
    },
    {
      "cell_type": "markdown",
      "metadata": {
        "id": "xuqnifw9NF2p"
      },
      "source": [
        "In this case study, we explored four distinct recommendation system algorithms, each with its unique approach:\n",
        "\n",
        "  - Model 1: Rank Based Recommendation System\n",
        "\n",
        "  - Model 2: Collaborative Filtering Recommendation System\n",
        "      * Baseline user-user similarity Collaborative Filtering Recommendation System\n",
        "      * Item-Item Similarity-based Collaborative Filtering Recommendation System\n",
        "    \n",
        "  - Model 3: Model-Based Collaborative Filtering - Matrix Factorization\n",
        "\n",
        "- We made use of Singular Value Decomposition (SVD)  \n",
        "- We fine-tuned our models using GridSearchCV optimization hyperparameters.\n",
        "\n",
        "- We delved into the differences between these methods and highlighted the specific data requirements for constructing each recommendation system. Additionally, we showcased the potential for combining these various recommendation techniques to enhance overall recommendations.\n",
        "\n",
        "- We introduced the \"surprise\" library for the effectiveness of \"user-user similarity-based collaborative filtering,\" \"item-item similarity-based collaborative filtering,\" and \"model-based collaborative filtering\" approaches, We employed grid search cross-validation to identify the most suitable model parameters, leading to optimized predictions for these algorithms.\n",
        "\n",
        "- In terms of performance assessment, we introduced precision@k and recall@k metrics in this case study. Utilizing these metrics, we computed the F1 score for each operational model, providing valuable insights into their effectiveness and suitability for the task at hand.\n",
        "\n",
        "- I would recommend to the business to ensure that they get more users to rate as this will make the recommendation system more accurate.\n",
        "\n",
        "- Based on the model results\n",
        "\n",
        "  While all the models proved promising, our focus should be given to the following models -  \n",
        "  1. Item-Item Similarity-based using GridSearchCV optimization which predicted a user rating of 4.67 for a known user rating of 5 provided by the user.\n",
        "  2. The Model-Based using SVD the base model seems to do well in the prediction, with a prediction rating of 4.40 for a user who has not provided any rating."
      ]
    },
    {
      "cell_type": "code",
      "source": [
        "%%shell\n",
        "jupyter nbconvert --to html /content/drive/MyDrive/Colab_Notebooks/Recommendation_Systems/Recommendation_Systems_Learner_Notebook_Full_Code.ipynb"
      ],
      "metadata": {
        "colab": {
          "base_uri": "https://localhost:8080/"
        },
        "id": "wqRMIDcBbOgq",
        "outputId": "7eb020e7-7cb5-442f-8139-ba1d81c2baf9"
      },
      "execution_count": null,
      "outputs": [
        {
          "output_type": "stream",
          "name": "stdout",
          "text": [
            "[NbConvertApp] Converting notebook /content/drive/MyDrive/Colab_Notebooks/Recommendation_Systems/Recommendation_Systems_Learner_Notebook_Full_Code.ipynb to html\n",
            "[NbConvertApp] Writing 875172 bytes to /content/drive/MyDrive/Colab_Notebooks/Recommendation_Systems/Recommendation_Systems_Learner_Notebook_Full_Code.html\n"
          ]
        },
        {
          "output_type": "execute_result",
          "data": {
            "text/plain": []
          },
          "metadata": {},
          "execution_count": 62
        }
      ]
    }
  ],
  "metadata": {
    "colab": {
      "provenance": [],
      "include_colab_link": true
    },
    "kernelspec": {
      "display_name": "Python 3 (ipykernel)",
      "language": "python",
      "name": "python3"
    },
    "language_info": {
      "codemirror_mode": {
        "name": "ipython",
        "version": 3
      },
      "file_extension": ".py",
      "mimetype": "text/x-python",
      "name": "python",
      "nbconvert_exporter": "python",
      "pygments_lexer": "ipython3",
      "version": "3.9.7"
    }
  },
  "nbformat": 4,
  "nbformat_minor": 0
}